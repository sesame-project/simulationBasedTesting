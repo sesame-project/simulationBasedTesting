{
 "cells": [
  {
   "cell_type": "code",
   "execution_count": 1,
   "id": "80376a13-5729-49e7-830c-e2a0ec7c9667",
   "metadata": {
    "tags": []
   },
   "outputs": [],
   "source": [
    "import networkx as nx\n",
    "import numpy as np\n",
    "from itertools import chain,combinations\n",
    "import itertools\n",
    "import pandas as pd\n",
    "import sys\n",
    "from tqdm.notebook import tqdm, trange\n",
    "import time\n",
    "\n",
    "from ipywidgets import interact, interactive, fixed, interact_manual\n",
    "import ipywidgets as widgets\n",
    "\n",
    "import matplotlib.pyplot as plt\n",
    "from mpl_toolkits.mplot3d import Axes3D"
   ]
  },
  {
   "cell_type": "code",
   "execution_count": 2,
   "id": "1087befa-4e03-419a-b12c-162ddf3d17bf",
   "metadata": {
    "tags": []
   },
   "outputs": [],
   "source": [
    "def powerset(iterable):\n",
    "    \"powerset([1,2,3]) --> () (1,) (2,) (3,) (1,2) (1,3) (2,3) (1,2,3)\"\n",
    "    s = list(iterable)\n",
    "    return chain.from_iterable(combinations(s, r) for r in range(len(s)+1))"
   ]
  },
  {
   "cell_type": "code",
   "execution_count": 3,
   "id": "3653f087-5d37-4ea2-b355-2c383f53d57d",
   "metadata": {
    "tags": []
   },
   "outputs": [],
   "source": [
    "def delete_edges_from(graph, vertex):\n",
    "    e = graph.adj[vertex]\n",
    "    for linked in list(e):\n",
    "        graph.remove_edge(vertex,linked)"
   ]
  },
  {
   "cell_type": "code",
   "execution_count": 4,
   "id": "97301b5f-603b-45c2-8e54-a0f9617c1fcc",
   "metadata": {},
   "outputs": [],
   "source": [
    "def sort_by_metric_func(graph):\n",
    "    return list(graph.nodes())"
   ]
  },
  {
   "cell_type": "code",
   "execution_count": 5,
   "id": "5a961be0-1cf9-4ad5-9d6e-f22a27591197",
   "metadata": {
    "tags": []
   },
   "outputs": [],
   "source": [
    "def get_metric_ranking(rankings, num):\n",
    "    return rankings.index(num)"
   ]
  },
  {
   "cell_type": "code",
   "execution_count": 6,
   "id": "0901e002-60c3-417a-98f4-bcf5929b63a0",
   "metadata": {
    "tags": []
   },
   "outputs": [],
   "source": [
    "# Eqn 2 in diversification paper\n",
    "def calc_compdist_from(graph, i, j, lam):\n",
    "    \n",
    "    dimension_dist = 0\n",
    "    i_props = graph.nodes[i]\n",
    "    j_props = graph.nodes[j]\n",
    "    ranking_i = i_props['m0']\n",
    "    ranking_j = j_props['m0']\n",
    "    #print(\"ranking_i\" + str(ranking_i))\n",
    "    #print(\"ranking_j\" + str(ranking_j))\n",
    "    \n",
    "    # Get the properties\n",
    "    for k,v in i_props.items():\n",
    "        # Dimension values only\n",
    "        if k.startswith(\"d\"):\n",
    "            dist = (v - j_props[k])\n",
    "            dimension_dist += (dist ** 2.0)\n",
    "            \n",
    "    comp_value = ranking_i + ranking_j + 2 * lam * np.sqrt(dimension_dist)\n",
    "    #print(\"dimension_dist = \" + str(dimension_dist))\n",
    "    #print(\"comp_value = \" + str(comp_value))\n",
    "    return comp_value\n",
    "    "
   ]
  },
  {
   "cell_type": "code",
   "execution_count": 7,
   "id": "ffdf5064",
   "metadata": {},
   "outputs": [],
   "source": [
    "def find_max_weight_edge(sim_graph, lam):\n",
    "    max_weight = -1\n",
    "    tu = 0\n",
    "    tv = 0\n",
    "    vertex_count = sim_graph.number_of_nodes()\n",
    "    for u in range(0,vertex_count):\n",
    "        linked_nodes = sim_graph.adj[u]\n",
    "        for v in list(linked_nodes):\n",
    "            w = calc_compdist_from(sim_graph, u, v, lam)\n",
    "            #print(\"u=\"+str(u) + \",\" + str(v) + \",weight=\" + str(w))\n",
    "            if (w > max_weight):\n",
    "                tu = u\n",
    "                tv = v\n",
    "                max_weight = w\n",
    "    return tu,tv, max_weight"
   ]
  },
  {
   "cell_type": "code",
   "execution_count": 8,
   "id": "60ba1851",
   "metadata": {},
   "outputs": [],
   "source": [
    "def get_total_weight_selected_nodes(simgraph, nodes,lam):\n",
    "    total_weight = 0\n",
    "    for i in nodes:\n",
    "        for j in nodes:\n",
    "            total_weight += calc_compdist_from(simgraph, i, j, lam)\n",
    "            \n",
    "    return total_weight"
   ]
  },
  {
   "cell_type": "code",
   "execution_count": 9,
   "id": "237e8bce",
   "metadata": {},
   "outputs": [
    {
     "data": {
      "text/plain": [
       "NodeView((5, 7, 4))"
      ]
     },
     "execution_count": 9,
     "metadata": {},
     "output_type": "execute_result"
    }
   ],
   "source": [
    "a = nx.Graph()\n",
    "a.add_node(5)\n",
    "a.add_node(7)\n",
    "a.add_node(4)\n",
    "a.nodes"
   ]
  },
  {
   "cell_type": "code",
   "execution_count": 10,
   "id": "cac193c7-f3c1-436e-a1b7-d6ae99d75f3f",
   "metadata": {
    "tags": []
   },
   "outputs": [],
   "source": [
    "# Need to add arbitrary vertex\n",
    "def max_sum_divergence_approx(sim_graph, phy_count, lam):\n",
    "    Phy = nx.Graph() \n",
    "    lim = int(np.floor(phy_count/2))\n",
    "    for i in range(0,lim):\n",
    "        mu, mv, weight = find_max_weight_edge(sim_graph, lam)\n",
    "        if (mu != mv):\n",
    "            print(\"Max weight: \" + str(mu) + \"->\" + str(mv) + \",weight=\" + str(weight))\n",
    "            Phy.add_node(mu)\n",
    "            Phy.add_node(mv)\n",
    "            Phy.add_edge(mu,mv)\n",
    "            print(\"Number of nodes in Phy=\" + str(Phy.number_of_nodes()))\n",
    "            # remove other connected edges from mu and mv in the sim_graph\n",
    "            delete_edges_from(sim_graph, mu)\n",
    "            delete_edges_from(sim_graph, mv)\n",
    "            # check further\n",
    "        \n",
    "    # If phy_count is odd, add a random vertex\n",
    "    # for now, only use an even phy_count\n",
    "    \n",
    "    total_weight = get_total_weight_selected_nodes(sim_graph, Phy.nodes ,lam)\n",
    "    return Phy"
   ]
  },
  {
   "cell_type": "code",
   "execution_count": 11,
   "id": "7fe01e35-6417-4c6b-bb96-b21992e1e8c9",
   "metadata": {
    "tags": []
   },
   "outputs": [],
   "source": [
    "def gen_node_props(metrics_count, dim_count, metric_max, dim_max):\n",
    "    nodeprops = {}\n",
    "    metrics = []\n",
    "    \n",
    "    for di in range(0, dim_count):\n",
    "        rand_dim = np.random.uniform(low=0, high=dim_max)\n",
    "        nodeprops[\"d\" + str(di)] = rand_dim\n",
    "        \n",
    "    # Generate the metrics\n",
    "    for mi in range(0,metrics_count):\n",
    "        rand_metric = np.random.uniform(low=0, high=metric_max)\n",
    "        metrics.append(rand_metric)\n",
    "        nodeprops[\"m\" + str(mi)] = rand_metric\n",
    "    return nodeprops"
   ]
  },
  {
   "cell_type": "code",
   "execution_count": 12,
   "id": "f2764ab6-cf98-415a-b1a2-62f8c56ceb55",
   "metadata": {},
   "outputs": [],
   "source": [
    "def create_random_sim_graph(node_count, metric_count, metric_max, dim_count, dim_max):\n",
    "    sim = nx.Graph();\n",
    "    for i in range(0,node_count):\n",
    "        sim.add_nodes_from([(i, gen_node_props(metric_count, dim_count, metric_max, dim_max))])\n",
    "        \n",
    "    for i in range(0, node_count):\n",
    "        for j in range(0, node_count):\n",
    "            if (i != j):\n",
    "                sim.add_edge(i,j)\n",
    "\n",
    "    print(\"Edges: = \" + str(sim.number_of_edges()))\n",
    "    return sim"
   ]
  },
  {
   "cell_type": "code",
   "execution_count": 13,
   "id": "3bde2d27",
   "metadata": {},
   "outputs": [],
   "source": [
    "def read_node_props_from_dataframe(data, i, chosen_dimensions):\n",
    "    # map the selected columns in chosen_dimensions into 'd0'\n",
    "    dim_num = 0\n",
    "    node_props = {}\n",
    "    for d in chosen_dimensions:\n",
    "        dim_id = \"d\" + str(dim_num)\n",
    "        node_props[dim_id] = data.loc[i, d]\n",
    "        dim_num += 1\n",
    "    node_props['m0'] = data.loc[i, \"METRIC_Q\"]\n",
    "    node_props['NAME'] = data.loc[i, \"NAME\"]\n",
    "    \n",
    "    # Set flag if it is on the pareto front\n",
    "    node_props[\"TESTTAG\"] = data.loc[i, \"TESTTAG\"]        \n",
    "    return node_props"
   ]
  },
  {
   "cell_type": "code",
   "execution_count": 14,
   "id": "ff97d49e",
   "metadata": {},
   "outputs": [],
   "source": [
    "def create_sim_graph_from_data(filename_csv, chosen_dimensions):\n",
    "    sim = nx.Graph();\n",
    "    data = pd.read_csv(filename_csv)\n",
    "    node_count = len(data)\n",
    "    for i in range(0,node_count):\n",
    "        sim.add_nodes_from([(i, read_node_props_from_dataframe(data, i, chosen_dimensions))])\n",
    "        \n",
    "    for i in range(0, node_count):\n",
    "        for j in range(0, node_count):\n",
    "            if (i != j):\n",
    "                sim.add_edge(i,j)\n",
    "    return sim"
   ]
  },
  {
   "cell_type": "code",
   "execution_count": 15,
   "id": "83a12882",
   "metadata": {},
   "outputs": [],
   "source": [
    "def extend_dim_boundaries_if_needed(boundaries, dim_id, value):\n",
    "    if dim_id in boundaries:\n",
    "        interval = boundaries[dim_id]\n",
    "        if not (value in interval):\n",
    "            if value < interval.left:\n",
    "                boundaries[dim_id] = pd.Interval(value, interval.right)\n",
    "            if value > interval.right:\n",
    "                boundaries[dim_id] = pd.Interval(interval.left, value)\n",
    "    else:\n",
    "        boundaries[dim_id] = pd.Interval(value,value, 'both')"
   ]
  },
  {
   "cell_type": "code",
   "execution_count": 16,
   "id": "4f87a957",
   "metadata": {},
   "outputs": [],
   "source": [
    "# Get the maximum and minimum of particular dimensions\n",
    "def find_dimensional_boundaries(simgraph):\n",
    "    boundaries = {}\n",
    "    node_count = len(simgraph.nodes)\n",
    "    for i in range(0, node_count):\n",
    "        for k,v in simgraph.nodes[i].items():\n",
    "            if k.startswith(\"d\"):\n",
    "                extend_dim_boundaries_if_needed(boundaries, k, v)\n",
    "    return boundaries"
   ]
  },
  {
   "cell_type": "code",
   "execution_count": 17,
   "id": "93dacd79",
   "metadata": {},
   "outputs": [],
   "source": [
    "def normalise_value(bound_interval,v):\n",
    "    return (v - bound_interval.left) / bound_interval.length"
   ]
  },
  {
   "cell_type": "code",
   "execution_count": 18,
   "id": "cac4588f",
   "metadata": {},
   "outputs": [],
   "source": [
    "def normalise_dimensions(simgraph):\n",
    "    boundaries = find_dimensional_boundaries(simgraph)\n",
    "    simgraph_out = nx.Graph()\n",
    "    node_count = len(simgraph.nodes())\n",
    "    for i in range(0, node_count):\n",
    "        new_props = {}\n",
    "        for k,v in simgraph.nodes[i].items():\n",
    "            if k.startswith(\"d\"):\n",
    "                bound_interval = boundaries[k]\n",
    "                new_props[k] = normalise_value(bound_interval, v)\n",
    "            else:\n",
    "                new_props[k] = v\n",
    "                \n",
    "        simgraph_out.add_nodes_from([(i, new_props)])\n",
    "                \n",
    "    for i in range(0, node_count):\n",
    "        for j in range(0, node_count):\n",
    "            if (i != j):\n",
    "                simgraph_out.add_edge(i,j)\n",
    "                \n",
    "    return simgraph_out"
   ]
  },
  {
   "cell_type": "code",
   "execution_count": 19,
   "id": "996e17a0-a5e9-43aa-b2b4-dd1e425ce7db",
   "metadata": {
    "tags": []
   },
   "outputs": [],
   "source": [
    "# TODO: simple ranking function is the sum of the metrics\n",
    "# TODO: metrics would need to be scaled somehow\n",
    "def ranking_func(graph,node_id):\n",
    "    props = graph.nodes[node_id]\n",
    "    total = 0\n",
    "    for k,v in props.items():\n",
    "        if \"m\" in k:\n",
    "            total += v\n",
    "    return total"
   ]
  },
  {
   "cell_type": "code",
   "execution_count": 20,
   "id": "d59953d9-50a5-453c-a526-fc5832828ff1",
   "metadata": {},
   "outputs": [],
   "source": [
    "# dist_sum theoretical max = k * (k-1) * sqrt(param_space_num_dimesions)\n",
    "# assuming all dimensions are properly normalised from zero to one!\n",
    "\n",
    "# weight_sum theortical max = k * max_rank"
   ]
  },
  {
   "cell_type": "code",
   "execution_count": 21,
   "id": "cb7cfd67-e0e5-4520-bd7a-8a2a6304e776",
   "metadata": {
    "tags": []
   },
   "outputs": [],
   "source": [
    "def calc_subset_value_function(graph, dim_count, subset_inds, lam):\n",
    "    k = len(subset_inds)\n",
    "    weight_sum = 0\n",
    "    for ni in subset_inds:\n",
    "    # ranking_func is w in the equation\n",
    "        weight_sum += ranking_func(graph, ni)\n",
    "    \n",
    "    # Are we double counting the distance here?\n",
    "    # dist_sum has to be normalised over the number of dimensions?\n",
    "    # the 2 is to compensate for counting them only once?\n",
    "    # not needed here?\n",
    "    dist_sum = 0\n",
    "    for ni in subset_inds:\n",
    "        for nj in subset_inds:\n",
    "            dist_sum += dist_func(graph, ni,nj)\n",
    "            \n",
    "    dist_sum_scaled = dist_sum / np.sqrt(dim_count) \n",
    "    print(subset_inds, dist_sum_scaled)\n",
    "            \n",
    "    total = (1-lam)*(k-1)*weight_sum + 2*lam*dist_sum_scaled\n",
    "    return total"
   ]
  },
  {
   "cell_type": "code",
   "execution_count": 22,
   "id": "7fe3e92f-425f-4c37-af90-15a21ce09665",
   "metadata": {},
   "outputs": [],
   "source": [
    "def dist_func(graph, ni, nj):\n",
    "    i_props = graph.nodes[ni]\n",
    "    j_props = graph.nodes[nj]\n",
    "    dimension_dist = 0.0\n",
    "    for k,v in i_props.items():\n",
    "    # Dimension values only\n",
    "        if k.startswith(\"d\"):\n",
    "            dist = (v - j_props[k])\n",
    "            dimension_dist += (dist ** 2.0)\n",
    "            #print(\"Adding dist contribution: \", k, v)\n",
    "    return np.sqrt(dimension_dist)"
   ]
  },
  {
   "cell_type": "code",
   "execution_count": 23,
   "id": "d5af5379-8078-4c39-a5fc-67845d75dba4",
   "metadata": {
    "tags": []
   },
   "outputs": [],
   "source": [
    "def subset_cost(subset):\n",
    "    return len(subset)"
   ]
  },
  {
   "cell_type": "code",
   "execution_count": 24,
   "id": "ff9f8ef3-0b42-43f5-8045-ad3d224aeaba",
   "metadata": {
    "tags": []
   },
   "outputs": [],
   "source": [
    "def meets_cost_constraint(subset, max_cost):\n",
    "    return (subset_cost(subset) <= max_cost)"
   ]
  },
  {
   "cell_type": "code",
   "execution_count": 25,
   "id": "3f109760-e3eb-4243-829e-5f8eb8e86452",
   "metadata": {},
   "outputs": [],
   "source": [
    "def subsets_viable_sorted_by_cost(simgraph, lam):\n",
    "    all_subsets = list(powerset(simgraph.nodes()))\n",
    "    viable_subsets = filter(meets_cost_constraint, all_subsets)\n",
    "    subset_info = map(lambda subset: (subset, subset_value(simgraph, subset, lam)), viable_subsets)\n",
    "    return sorted(subset_info, key=lambda info: info[1], reverse=True)"
   ]
  },
  {
   "cell_type": "code",
   "execution_count": 26,
   "id": "39dcc695",
   "metadata": {},
   "outputs": [],
   "source": [
    "def best_subset_via_powerset(simgraph, dim_count, lam, max_cost):\n",
    "    all_subsets = list(powerset(simgraph.nodes()))\n",
    "    max_val = 0\n",
    "    best_subset = None\n",
    "    for p in tqdm(all_subsets):\n",
    "        if meets_cost_constraint(p, max_cost):\n",
    "            v = calc_subset_value_function(simgraph, dim_count, p, lam)\n",
    "            if v > max_val:\n",
    "                max_val = v\n",
    "                best_subset = p\n",
    "    return (best_subset, max_val)"
   ]
  },
  {
   "cell_type": "code",
   "execution_count": 27,
   "id": "d70c48f3",
   "metadata": {},
   "outputs": [],
   "source": [
    "def filter_pareto_only(simgraph):\n",
    "    simgraph_out = nx.Graph()\n",
    "    node_count = len(simgraph.nodes())\n",
    "    i2 = 0;\n",
    "    for i in range(0, node_count):\n",
    "        new_props = {}\n",
    "        props = simgraph.nodes[i]\n",
    "        if (props['TESTTAG'] == 1):\n",
    "            for k,v in simgraph.nodes[i].items():\n",
    "                new_props[k] = v\n",
    "                new_props['orig_id'] = i\n",
    "                \n",
    "            simgraph_out.add_nodes_from([(i2, new_props)])\n",
    "            i2+=1\n",
    "                \n",
    "    #for i in range(0, node_count):\n",
    "    #    for j in range(0, node_count):\n",
    "    #        if (i != j):\n",
    "    #            simgraph_out.add_edge(i,j)\n",
    "                \n",
    "    return simgraph_out    "
   ]
  },
  {
   "cell_type": "code",
   "execution_count": 28,
   "id": "f51f47c2",
   "metadata": {},
   "outputs": [],
   "source": [
    "def get_tests_by_ids(csv_filename,graph,chosen_set):\n",
    "    df = pd.read_csv(csv_filename)\n",
    "    output_testnames = map (lambda id: graph.nodes[id]['NAME'], chosen_set)\n",
    "    # Filter the dataframe by test ID as NAME field\n",
    "    return df[df['NAME'].isin(output_testnames)]\n",
    "    "
   ]
  },
  {
   "cell_type": "code",
   "execution_count": 29,
   "id": "877f7e02-01ed-4e6b-ac56-db2544cdafae",
   "metadata": {},
   "outputs": [],
   "source": [
    "# Plot the surface and the graph between them\n",
    "def plot_graph_with_edges_from_subset(g, edge_set, elev, azim, ax_dist, dim_names, filename, dpi=300):\n",
    "    MAX_MARKER_SIZE = 10\n",
    "    MIN_MARKER_SIZE = 4\n",
    "    FONT_LABEL_SIZE=8\n",
    "    \n",
    "    x = np.array(list(map(lambda n: g.nodes[n]['d0'], g)))\n",
    "    y = np.array(list(map(lambda n: g.nodes[n]['d1'], g)))\n",
    "    z = np.array(list(map(lambda n: g.nodes[n]['d2'], g)))\n",
    "    # 3d spring layout\n",
    "    pos = np.vstack((x, y, z)).T\n",
    "    print(\"pos\\n\",pos)\n",
    "    # Extract node and edge positions from the layout\n",
    "    node_xyz = np.array([pos[v] for v in g])\n",
    "    \n",
    "    node_ranks = np.array(list(map(lambda n: (MIN_MARKER_SIZE + MAX_MARKER_SIZE * ranking_func(g, n))**2.0, g)))\n",
    "    \n",
    "    edge_id_set = itertools.combinations(edge_set, r=2)\n",
    "    #eset_l = list(edge_id_set)\n",
    "    #print(\"edge_id_set\\n\", eset_l)\n",
    "    edge_xyz = np.array([(pos[t[0]], pos[t[1]]) for t in edge_id_set])\n",
    "    print(\"edge_xyz\\n\",edge_xyz)\n",
    "\n",
    "    # Create the 3D figure\n",
    "    fig = plt.figure()\n",
    "    plt.rc('axes', labelsize=FONT_LABEL_SIZE) \n",
    "        \n",
    "    ax = fig.add_subplot(111, projection=\"3d\")\n",
    "    ax.axes.set_xlabel(dim_names[0])\n",
    "    ax.axes.set_ylabel(dim_names[1])\n",
    "    ax.axes.set_zlabel(dim_names[2])\n",
    "    #ax.axes.set_xlim3d(left=0, right=1) \n",
    "    #ax.axes.set_ylim3d(bottom=0, top=1) \n",
    "    #ax.axes.set_zlim3d(bottom=0, top=1) \n",
    "    ax.view_init(elev=elev, azim=azim)\n",
    "    ax.dist = ax_dist\n",
    "\n",
    "    # Plot the nodes - alpha is scaled by \"depth\" automatically\n",
    "    ax.scatter(*node_xyz.T, s=node_ranks, ec=\"w\")\n",
    "\n",
    "    # Plot the edges\n",
    "    for vizedge in edge_xyz:\n",
    "        ax.plot(*vizedge.T, color=\"tab:gray\")\n",
    "    \n",
    "    #_format_axes(ax)\n",
    "    fig.tight_layout()\n",
    "    plt.savefig(filename, bbox_inches=\"tight\", dpi=dpi)\n",
    "    plt.show()\n",
    "    \n"
   ]
  },
  {
   "cell_type": "code",
   "execution_count": 30,
   "id": "a8d2bce6",
   "metadata": {},
   "outputs": [],
   "source": [
    "plt.rcParams['figure.figsize'] = [8, 3.6]"
   ]
  },
  {
   "cell_type": "code",
   "execution_count": 31,
   "id": "60266f9a",
   "metadata": {},
   "outputs": [],
   "source": [
    "# Set the parameters for the subset selection below\n",
    "# MAX_COST - maximum cost value allowed\n",
    "# lam - lambda parameter value\n",
    "# dims - chosen dimensions for the subset selection"
   ]
  },
  {
   "cell_type": "code",
   "execution_count": 42,
   "id": "58d5c82f",
   "metadata": {},
   "outputs": [],
   "source": [
    "#csv_filename = \"/home/jharbin/eclipse-workspace/TTSTestProject/models/phytesting/results/phytestout-coverageTracking-jun20.csv\"\n",
    "#csv_filename=\"/home/jharbin/academic/sesame/WP6/simulationBasedTesting/runtime-EclipseApplication/PALTesting/models/test/TestingPAL-coverage.modelscenario2-eddi-timebased-faults-coveragereduced-NONDOM-intermediate-64.csv\"\n",
    "#csv_filename=\"/home/jharbin/academic/sesame/WP6/simulationBasedTesting/runtime-EclipseApplication/PALTesting/models/res/TestingPAL-coverage_19_01_2024.modelscenario2-eddi-timebased-faults-coveragereduced-NONDOM-intermediate-32.csv\"\n",
    "csv_filename=\"/home/jharbin/academic/sesame/WP6/simulationBasedTesting/runtime-EclipseApplication/PALTesting/models/res/TestingPAL-coverage_31_01_2024.modelscenario2-eddi-timebased-faults-coveragereduced-NONDOM-intermediate-128.csv\"\n",
    "\n",
    "MAX_COST = 4\n",
    "lam = 0.75\n",
    "#dims = ['T1_TIME_MIDPOINT_MEAN', 'P1_PARAMETER_MEAN', 'T2_TIME_LENGTH_MEAN']\n",
    "dims = ['T1_TIME_MIDPOINT_MEAN', 'T2_TIME_LENGTH_MEAN', 'O0_TOTAL_COUNT']"
   ]
  },
  {
   "cell_type": "code",
   "execution_count": 43,
   "id": "aa651592-8200-485f-9894-0f4581794c23",
   "metadata": {},
   "outputs": [
    {
     "data": {
      "application/vnd.jupyter.widget-view+json": {
       "model_id": "6aae7de4a38749fba929af900415343c",
       "version_major": 2,
       "version_minor": 0
      },
      "text/plain": [
       "  0%|          | 0/256 [00:00<?, ?it/s]"
      ]
     },
     "metadata": {},
     "output_type": "display_data"
    },
    {
     "name": "stdout",
     "output_type": "stream",
     "text": [
      "() 0.0\n",
      "(0,) 0.0\n",
      "(1,) 0.0\n",
      "(2,) 0.0\n",
      "(3,) 0.0\n",
      "(4,) 0.0\n",
      "(5,) 0.0\n",
      "(6,) 0.0\n",
      "(7,) 0.0\n",
      "(0, 1) 1.1739400245791203\n",
      "(0, 2) 0.8177012900829151\n",
      "(0, 3) 0.6557227993321213\n",
      "(0, 4) 0.4474697322885851\n",
      "(0, 5) 0.3884318488163325\n",
      "(0, 6) 0.8637580791442053\n",
      "(0, 7) 0.8616882225151663\n",
      "(1, 2) 1.342473278158831\n",
      "(1, 3) 1.2372743766262877\n",
      "(1, 4) 1.178605484760989\n",
      "(1, 5) 1.1694674164432213\n",
      "(1, 6) 1.326275581463098\n",
      "(1, 7) 1.3472410209992312\n",
      "(2, 3) 0.6154338944965729\n",
      "(2, 4) 0.6119924699368274\n",
      "(2, 5) 0.5409415850705227\n",
      "(2, 6) 0.6837282189690869\n",
      "(2, 7) 0.1802817711830785\n",
      "(3, 4) 0.20827619531940955\n",
      "(3, 5) 0.2937879785941181\n",
      "(3, 6) 0.20803651987314253\n",
      "(3, 7) 0.5068032847346262\n",
      "(4, 5) 0.11471092976649283\n",
      "(4, 6) 0.41630908866492355\n",
      "(4, 7) 0.5615376185095861\n",
      "(5, 6) 0.49565364937586603\n",
      "(5, 7) 0.5222352103625566\n",
      "(6, 7) 0.5322545624799637\n",
      "(0, 1, 2) 3.3341145928208666\n",
      "(0, 1, 3) 3.066937200537529\n",
      "(0, 1, 4) 2.8000152416286945\n",
      "(0, 1, 5) 2.7318392898386743\n",
      "(0, 1, 6) 3.3639736851864237\n",
      "(0, 1, 7) 3.3828692680935175\n",
      "(0, 2, 3) 2.0888579839116095\n",
      "(0, 2, 4) 1.8771634923083278\n",
      "(0, 2, 5) 1.7470747239697706\n",
      "(0, 2, 6) 2.3651875881962074\n",
      "(0, 2, 7) 1.85967128378116\n",
      "(0, 3, 4) 1.3114687269401157\n",
      "(0, 3, 5) 1.3379426267425718\n",
      "(0, 3, 6) 1.7275173983494696\n",
      "(0, 3, 7) 2.024214306581914\n",
      "(0, 4, 5) 0.9506125108714105\n",
      "(0, 4, 6) 1.7275369000977139\n",
      "(0, 4, 7) 1.8706955733133377\n",
      "(0, 5, 6) 1.7478435773364038\n",
      "(0, 5, 7) 1.7723552816940555\n",
      "(0, 6, 7) 2.2577008641393355\n",
      "(1, 2, 3) 3.1951815492816915\n",
      "(1, 2, 4) 3.133071232856648\n",
      "(1, 2, 5) 3.052882279672575\n",
      "(1, 2, 6) 3.3524770785910163\n",
      "(1, 2, 7) 2.8699960703411413\n",
      "(1, 3, 4) 2.6241560567066857\n",
      "(1, 3, 5) 2.7005297716636267\n",
      "(1, 3, 6) 2.771586477962528\n",
      "(1, 3, 7) 3.0913186823601446\n",
      "(1, 4, 5) 2.4627838309707033\n",
      "(1, 4, 6) 2.9211901548890102\n",
      "(1, 4, 7) 3.087384124269806\n",
      "(1, 5, 6) 2.991396647282185\n",
      "(1, 5, 7) 3.038943647805009\n",
      "(1, 6, 7) 3.205771164942293\n",
      "(2, 3, 4) 1.4357025597528097\n",
      "(2, 3, 5) 1.4501634581612137\n",
      "(2, 3, 6) 1.5071986333388026\n",
      "(2, 3, 7) 1.3025189504142776\n",
      "(2, 4, 5) 1.267644984773843\n",
      "(2, 4, 6) 1.712029777570838\n",
      "(2, 4, 7) 1.353811859629492\n",
      "(2, 5, 6) 1.7203234534154757\n",
      "(2, 5, 7) 1.2434585666161577\n",
      "(2, 6, 7) 1.3962645526321291\n",
      "(3, 4, 5) 0.6167751036800205\n",
      "(3, 4, 6) 0.8326218038574756\n",
      "(3, 4, 7) 1.2766170985636218\n",
      "(3, 5, 6) 0.9974781478431267\n",
      "(3, 5, 7) 1.3228264736913007\n",
      "(3, 6, 7) 1.2470943670877326\n",
      "(4, 5, 6) 1.0266736678072825\n",
      "(4, 5, 7) 1.1984837586386357\n",
      "(4, 6, 7) 1.5101012696544733\n",
      "(5, 6, 7) 1.5501434222183863\n",
      "(0, 1, 2, 3) 5.842545663275849\n",
      "(0, 1, 2, 4) 5.572182279807268\n",
      "(0, 1, 2, 5) 5.432955443150944\n",
      "(0, 1, 2, 6) 6.207876472397256\n",
      "(0, 1, 2, 7) 5.723325607518343\n",
      "(0, 1, 3, 4) 4.901288612906513\n",
      "(0, 1, 3, 5) 4.918624444391201\n",
      "(0, 1, 3, 6) 5.465007381017974\n",
      "(0, 1, 3, 7) 5.782669728786553\n",
      "(0, 1, 4, 5) 4.4726254366547415\n",
      "(0, 1, 4, 6) 5.406357990900921\n",
      "(0, 1, 4, 7) 5.570482103652678\n",
      "(0, 1, 5, 6) 5.417526599821844\n",
      "(0, 1, 5, 7) 5.463003743715627\n",
      "(0, 1, 6, 7) 6.105157491180785\n",
      "(0, 2, 3, 4) 3.3565963814564315\n",
      "(0, 2, 3, 5) 3.312019396392582\n",
      "(0, 2, 3, 6) 3.8443808018980445\n",
      "(0, 2, 3, 7) 3.6376312623444806\n",
      "(0, 2, 4, 5) 2.921247855961675\n",
      "(0, 2, 4, 6) 3.840958879086543\n",
      "(0, 2, 4, 7) 3.4806711045161594\n",
      "(0, 2, 5, 6) 3.790214671458929\n",
      "(0, 2, 5, 7) 3.311279928030572\n",
      "(0, 2, 6, 7) 3.9394121443744163\n",
      "(0, 3, 4, 5) 2.1083994841170592\n",
      "(0, 3, 4, 6) 2.799572414622387\n",
      "(0, 3, 4, 7) 3.2414978526994944\n",
      "(0, 3, 5, 6) 2.9053908751357858\n",
      "(0, 3, 5, 7) 3.228669344354921\n",
      "(0, 3, 6, 7) 3.628263468079226\n",
      "(0, 4, 5, 6) 2.7263333280564055\n",
      "(0, 4, 5, 7) 2.89607356225872\n",
      "(0, 4, 6, 7) 3.6830173036024303\n",
      "(0, 5, 6, 7) 3.6640215726940912\n",
      "(1, 2, 3, 4) 5.194055699298917\n",
      "(1, 2, 3, 5) 5.199378529389554\n",
      "(1, 2, 3, 6) 5.413221869587018\n",
      "(1, 2, 3, 7) 5.229507626198627\n",
      "(1, 2, 4, 5) 4.958191164136886\n",
      "(1, 2, 4, 6) 5.559384121953756\n",
      "(1, 2, 4, 7) 5.222131643548544\n",
      "(1, 2, 5, 6) 5.558539729480626\n",
      "(1, 2, 5, 7) 5.102640282217442\n",
      "(1, 2, 6, 7) 5.41225443325329\n",
      "(1, 3, 4, 5) 4.2021223815105175\n",
      "(1, 3, 4, 6) 4.57477724670785\n",
      "(1, 3, 4, 7) 5.039737980950129\n",
      "(1, 3, 5, 6) 4.730495522375733\n",
      "(1, 3, 5, 7) 5.076809287760041\n",
      "(1, 3, 6, 7) 5.15788534617635\n",
      "(1, 4, 5, 6) 4.70102215047459\n",
      "(1, 4, 5, 7) 4.893797680842076\n",
      "(1, 4, 6, 7) 5.3622233568777915\n",
      "(1, 5, 6, 7) 5.393127441123937\n",
      "(2, 3, 4, 5) 2.3851430531839433\n",
      "(2, 3, 4, 6) 2.7437763872599628\n",
      "(2, 3, 4, 7) 2.684325234180101\n",
      "(2, 3, 5, 6) 2.8375818463793094\n",
      "(2, 3, 5, 7) 2.6594837244414755\n",
      "(2, 3, 6, 7) 2.7265382517364714\n",
      "(2, 4, 5, 6) 2.8633359417837196\n",
      "(2, 4, 5, 7) 2.531699584829064\n",
      "(2, 4, 6, 7) 2.986103729743467\n",
      "(2, 5, 6, 7) 2.9550949974410754\n",
      "(3, 4, 5, 6) 1.7367743615939526\n",
      "(3, 4, 5, 7) 2.207351217286789\n",
      "(3, 4, 6, 7) 2.4332172695816516\n",
      "(3, 5, 6, 7) 2.5587712054202734\n",
      "(4, 5, 6, 7) 2.642701059159389\n",
      "(0, 1, 2, 6) 10.454392833595884\n",
      "pos\n",
      " [[7.79106638e-02 1.60824471e-03 1.00000000e+00]\n",
      " [2.61011276e-01 1.03002890e-02 2.00000000e+00]\n",
      " [5.53841123e-01 5.25980964e-01 1.00000000e+00]\n",
      " [6.45782929e-01 9.89665394e-04 1.00000000e+00]\n",
      " [4.65426647e-01 3.40659765e-03 1.00000000e+00]\n",
      " [4.04572686e-01 8.19288464e-02 1.00000000e+00]\n",
      " [8.25945541e-01 7.94578889e-05 1.00000000e+00]\n",
      " [6.83031192e-01 4.38310765e-01 1.00000000e+00]]\n",
      "edge_xyz\n",
      " [[[7.79106638e-02 1.60824471e-03 1.00000000e+00]\n",
      "  [2.61011276e-01 1.03002890e-02 2.00000000e+00]]\n",
      "\n",
      " [[7.79106638e-02 1.60824471e-03 1.00000000e+00]\n",
      "  [5.53841123e-01 5.25980964e-01 1.00000000e+00]]\n",
      "\n",
      " [[7.79106638e-02 1.60824471e-03 1.00000000e+00]\n",
      "  [8.25945541e-01 7.94578889e-05 1.00000000e+00]]\n",
      "\n",
      " [[2.61011276e-01 1.03002890e-02 2.00000000e+00]\n",
      "  [5.53841123e-01 5.25980964e-01 1.00000000e+00]]\n",
      "\n",
      " [[2.61011276e-01 1.03002890e-02 2.00000000e+00]\n",
      "  [8.25945541e-01 7.94578889e-05 1.00000000e+00]]\n",
      "\n",
      " [[5.53841123e-01 5.25980964e-01 1.00000000e+00]\n",
      "  [8.25945541e-01 7.94578889e-05 1.00000000e+00]]]\n"
     ]
    },
    {
     "name": "stderr",
     "output_type": "stream",
     "text": [
      "/tmp/ipykernel_9610/1904792499.py:36: MatplotlibDeprecationWarning: The dist attribute was deprecated in Matplotlib 3.6 and will be removed two minor releases later.\n",
      "  ax.dist = ax_dist\n"
     ]
    },
    {
     "data": {
      "image/png": "[encoded data removed]",
      "text/plain": [
       "<Figure size 800x360 with 1 Axes>"
      ]
     },
     "metadata": {},
     "output_type": "display_data"
    },
    {
     "name": "stdout",
     "output_type": "stream",
     "text": [
      "pos\n",
      " [[7.79106638e-02 1.60824471e-03 1.00000000e+00]\n",
      " [2.61011276e-01 1.03002890e-02 2.00000000e+00]\n",
      " [5.53841123e-01 5.25980964e-01 1.00000000e+00]\n",
      " [6.45782929e-01 9.89665394e-04 1.00000000e+00]\n",
      " [4.65426647e-01 3.40659765e-03 1.00000000e+00]\n",
      " [4.04572686e-01 8.19288464e-02 1.00000000e+00]\n",
      " [8.25945541e-01 7.94578889e-05 1.00000000e+00]\n",
      " [6.83031192e-01 4.38310765e-01 1.00000000e+00]]\n",
      "edge_xyz\n",
      " [[[7.79106638e-02 1.60824471e-03 1.00000000e+00]\n",
      "  [2.61011276e-01 1.03002890e-02 2.00000000e+00]]\n",
      "\n",
      " [[7.79106638e-02 1.60824471e-03 1.00000000e+00]\n",
      "  [5.53841123e-01 5.25980964e-01 1.00000000e+00]]\n",
      "\n",
      " [[7.79106638e-02 1.60824471e-03 1.00000000e+00]\n",
      "  [8.25945541e-01 7.94578889e-05 1.00000000e+00]]\n",
      "\n",
      " [[2.61011276e-01 1.03002890e-02 2.00000000e+00]\n",
      "  [5.53841123e-01 5.25980964e-01 1.00000000e+00]]\n",
      "\n",
      " [[2.61011276e-01 1.03002890e-02 2.00000000e+00]\n",
      "  [8.25945541e-01 7.94578889e-05 1.00000000e+00]]\n",
      "\n",
      " [[5.53841123e-01 5.25980964e-01 1.00000000e+00]\n",
      "  [8.25945541e-01 7.94578889e-05 1.00000000e+00]]]\n"
     ]
    },
    {
     "name": "stderr",
     "output_type": "stream",
     "text": [
      "/tmp/ipykernel_9610/1904792499.py:36: MatplotlibDeprecationWarning: The dist attribute was deprecated in Matplotlib 3.6 and will be removed two minor releases later.\n",
      "  ax.dist = ax_dist\n"
     ]
    },
    {
     "data": {
      "image/png": "[encoded data removed]",
      "text/plain": [
       "<Figure size 800x360 with 1 Axes>"
      ]
     },
     "metadata": {},
     "output_type": "display_data"
    }
   ],
   "source": [
    "dim_count = len(dims)\n",
    "sim = create_sim_graph_from_data(csv_filename, dims)\n",
    "sim_pareto = filter_pareto_only(sim)\n",
    "phy, cost = best_subset_via_powerset(sim_pareto, dim_count, lam, MAX_COST)\n",
    "print(phy,cost)\n",
    "elev = 50\n",
    "azim = 120\n",
    "ax_dist = 13\n",
    "pdf_filename = \"pw-subsetsel-lambda\" + str(lam) + \".pdf\"\n",
    "png_filename = \"pw-subsetsel-lambda\" + str(lam) + \".png\"\n",
    "dpi_png=600\n",
    "plot_graph_with_edges_from_subset(sim_pareto, phy, elev, azim, ax_dist, dims, pdf_filename)\n",
    "plot_graph_with_edges_from_subset(sim_pareto, phy, elev, azim, ax_dist, dims, png_filename, dpi_png)"
   ]
  },
  {
   "cell_type": "code",
   "execution_count": 41,
   "id": "b1bbcc79",
   "metadata": {},
   "outputs": [
    {
     "data": {
      "text/html": [
       "<div>\n",
       "<style scoped>\n",
       "    .dataframe tbody tr th:only-of-type {\n",
       "        vertical-align: middle;\n",
       "    }\n",
       "\n",
       "    .dataframe tbody tr th {\n",
       "        vertical-align: top;\n",
       "    }\n",
       "\n",
       "    .dataframe thead th {\n",
       "        text-align: right;\n",
       "    }\n",
       "</style>\n",
       "<table border=\"1\" class=\"dataframe\">\n",
       "  <thead>\n",
       "    <tr style=\"text-align: right;\">\n",
       "      <th></th>\n",
       "      <th>NAME</th>\n",
       "      <th>TESTTAG</th>\n",
       "      <th>T1_TIME_MIDPOINT_MEAN</th>\n",
       "      <th>T2_TIME_LENGTH_MEAN</th>\n",
       "      <th>O0_TOTAL_COUNT</th>\n",
       "      <th>METRIC_Q</th>\n",
       "    </tr>\n",
       "  </thead>\n",
       "  <tbody>\n",
       "    <tr>\n",
       "      <th>38</th>\n",
       "      <td>Test_039_30_01_2024_09_46_44</td>\n",
       "      <td>1</td>\n",
       "      <td>0.261011</td>\n",
       "      <td>0.010300</td>\n",
       "      <td>2.0</td>\n",
       "      <td>0.312500</td>\n",
       "    </tr>\n",
       "    <tr>\n",
       "      <th>43</th>\n",
       "      <td>Test_044_30_01_2024_09_46_44</td>\n",
       "      <td>1</td>\n",
       "      <td>0.553841</td>\n",
       "      <td>0.525981</td>\n",
       "      <td>1.0</td>\n",
       "      <td>0.953125</td>\n",
       "    </tr>\n",
       "    <tr>\n",
       "      <th>66</th>\n",
       "      <td>Test_067_30_01_2024_12_38_57</td>\n",
       "      <td>1</td>\n",
       "      <td>0.404573</td>\n",
       "      <td>0.081929</td>\n",
       "      <td>1.0</td>\n",
       "      <td>0.859375</td>\n",
       "    </tr>\n",
       "    <tr>\n",
       "      <th>96</th>\n",
       "      <td>Test_097_30_01_2024_15_31_36</td>\n",
       "      <td>1</td>\n",
       "      <td>0.683031</td>\n",
       "      <td>0.438311</td>\n",
       "      <td>1.0</td>\n",
       "      <td>0.882812</td>\n",
       "    </tr>\n",
       "  </tbody>\n",
       "</table>\n",
       "</div>"
      ],
      "text/plain": [
       "                            NAME  TESTTAG  T1_TIME_MIDPOINT_MEAN  \\\n",
       "38  Test_039_30_01_2024_09_46_44        1               0.261011   \n",
       "43  Test_044_30_01_2024_09_46_44        1               0.553841   \n",
       "66  Test_067_30_01_2024_12_38_57        1               0.404573   \n",
       "96  Test_097_30_01_2024_15_31_36        1               0.683031   \n",
       "\n",
       "    T2_TIME_LENGTH_MEAN  O0_TOTAL_COUNT  METRIC_Q  \n",
       "38             0.010300             2.0  0.312500  \n",
       "43             0.525981             1.0  0.953125  \n",
       "66             0.081929             1.0  0.859375  \n",
       "96             0.438311             1.0  0.882812  "
      ]
     },
     "execution_count": 41,
     "metadata": {},
     "output_type": "execute_result"
    }
   ],
   "source": [
    "get_tests_by_ids(csv_filename,sim_pareto,phy)"
   ]
  },
  {
   "cell_type": "code",
   "execution_count": null,
   "id": "b92fe415",
   "metadata": {},
   "outputs": [],
   "source": []
  },
  {
   "cell_type": "code",
   "execution_count": null,
   "id": "44fb1767-45b3-40e2-9806-6b7d3e66b786",
   "metadata": {},
   "outputs": [],
   "source": []
  }
 ],
 "metadata": {
  "kernelspec": {
   "display_name": "Python 3 (ipykernel)",
   "language": "python",
   "name": "python3"
  },
  "language_info": {
   "codemirror_mode": {
    "name": "ipython",
    "version": 3
   },
   "file_extension": ".py",
   "mimetype": "text/x-python",
   "name": "python",
   "nbconvert_exporter": "python",
   "pygments_lexer": "ipython3",
   "version": "3.8.10"
  }
 },
 "nbformat": 4,
 "nbformat_minor": 5
}
