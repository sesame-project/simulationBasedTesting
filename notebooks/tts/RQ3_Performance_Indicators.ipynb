{
 "cells": [
  {
   "cell_type": "code",
   "execution_count": 1,
   "id": "a316bb33-21f6-43a7-8fdf-20dcdba96165",
   "metadata": {},
   "outputs": [],
   "source": [
    "import pandas as pd \n",
    "import matplotlib.pyplot as plt\n",
    "import numpy as np\n",
    "# This import registers the 3D projection, but is otherwise unused.\n",
    "from mpl_toolkits.mplot3d import Axes3D  # noqa: F401 unused import\n",
    "import sys\n",
    "\n",
    "from pymoo.indicators.igd import IGD\n",
    "from pymoo.indicators.igd_plus import IGDPlus\n",
    "from pymoo.indicators.hv import HV"
   ]
  },
  {
   "cell_type": "code",
   "execution_count": 2,
   "id": "84bd84d6-7b61-4937-9d6c-6f201459e727",
   "metadata": {},
   "outputs": [],
   "source": [
    "res_col_subset=[\"staticCollision\", \"dynamicCollision\", \"fuzzingOperationTimes\"]"
   ]
  },
  {
   "cell_type": "code",
   "execution_count": 3,
   "id": "40430835-5af8-4f5c-a148-393a04918a01",
   "metadata": {},
   "outputs": [],
   "source": [
    "# https://stackoverflow.com/questions/68522283/removing-dominated-rows-from-a-pandas-dataframe-rows-with-all-values-lower-th\n",
    "def get_dominants(df):\n",
    "    seen = [] # keep track of tested rows\n",
    "    idx = df.index # initial index\n",
    "    for i in range(len(df)+1):\n",
    "        x = idx[0]\n",
    "        if x in seen:   # done a full loop\n",
    "            return df.loc[idx]\n",
    "        seen.append(idx[0])\n",
    "        # check which rows are dominated and drop them from the index\n",
    "        idx = (df.loc[idx]-df.loc[x]).le(0).all(axis=1)\n",
    "        # put tested row at the end\n",
    "        idx = list(idx[~idx].index)+[x]\n",
    "\n",
    "def dominant_subset_cols(df):\n",
    "    return get_dominants(df[res_col_subset])"
   ]
  },
  {
   "cell_type": "code",
   "execution_count": 4,
   "id": "73686456-cd09-4012-b8ea-044779bf9096",
   "metadata": {},
   "outputs": [],
   "source": [
    "def invert_signs_for_metrics(df):\n",
    "    df_new = df.copy()\n",
    "    df_new.staticCollision *= -1\n",
    "    df_new.dynamicCollision *= -1\n",
    "    return df_new"
   ]
  },
  {
   "cell_type": "code",
   "execution_count": 5,
   "id": "da8331b1-98b1-4d07-a15f-5fafdf9333db",
   "metadata": {},
   "outputs": [],
   "source": [
    "condbased_res960 = pd.read_csv(\"steppingcell-condbased-tts-cutdown\", delim_whitespace=True)\n",
    "condbased_res240 = pd.read_csv(\"tts-history-condfuzz-240\", delim_whitespace=True)\n",
    "condbased_res480 = pd.read_csv(\"tts-history-condfuzz-480\", delim_whitespace=True)\n",
    "condbased_res720 = pd.read_csv(\"tts-history-condfuzz-720\", delim_whitespace=True)\n",
    "dcondbased_240 = invert_signs_for_metrics(dominant_subset_cols(condbased_res240))\n",
    "dcondbased_480 = invert_signs_for_metrics(dominant_subset_cols(condbased_res480))\n",
    "dcondbased_720 = invert_signs_for_metrics(dominant_subset_cols(condbased_res720))\n",
    "dcondbased_960 = invert_signs_for_metrics(dominant_subset_cols(condbased_res960))"
   ]
  },
  {
   "cell_type": "code",
   "execution_count": 6,
   "id": "95eabf7a-9cc8-4bb2-8562-10718b861f9d",
   "metadata": {},
   "outputs": [
    {
     "data": {
      "text/html": [
       "<div>\n",
       "<style scoped>\n",
       "    .dataframe tbody tr th:only-of-type {\n",
       "        vertical-align: middle;\n",
       "    }\n",
       "\n",
       "    .dataframe tbody tr th {\n",
       "        vertical-align: top;\n",
       "    }\n",
       "\n",
       "    .dataframe thead th {\n",
       "        text-align: right;\n",
       "    }\n",
       "</style>\n",
       "<table border=\"1\" class=\"dataframe\">\n",
       "  <thead>\n",
       "    <tr style=\"text-align: right;\">\n",
       "      <th></th>\n",
       "      <th>staticCollision</th>\n",
       "      <th>dynamicCollision</th>\n",
       "      <th>fuzzingOperationTimes</th>\n",
       "    </tr>\n",
       "  </thead>\n",
       "  <tbody>\n",
       "    <tr>\n",
       "      <th>0</th>\n",
       "      <td>-180.0</td>\n",
       "      <td>-0.0</td>\n",
       "      <td>294.32</td>\n",
       "    </tr>\n",
       "    <tr>\n",
       "      <th>3</th>\n",
       "      <td>-6.0</td>\n",
       "      <td>-52.0</td>\n",
       "      <td>161.70</td>\n",
       "    </tr>\n",
       "    <tr>\n",
       "      <th>4</th>\n",
       "      <td>-17.0</td>\n",
       "      <td>-0.0</td>\n",
       "      <td>316.80</td>\n",
       "    </tr>\n",
       "    <tr>\n",
       "      <th>7</th>\n",
       "      <td>-67.0</td>\n",
       "      <td>-2.0</td>\n",
       "      <td>108.00</td>\n",
       "    </tr>\n",
       "    <tr>\n",
       "      <th>9</th>\n",
       "      <td>-10.0</td>\n",
       "      <td>-44.0</td>\n",
       "      <td>163.30</td>\n",
       "    </tr>\n",
       "    <tr>\n",
       "      <th>11</th>\n",
       "      <td>-2.0</td>\n",
       "      <td>-33.0</td>\n",
       "      <td>283.62</td>\n",
       "    </tr>\n",
       "    <tr>\n",
       "      <th>12</th>\n",
       "      <td>-57.0</td>\n",
       "      <td>-40.0</td>\n",
       "      <td>129.38</td>\n",
       "    </tr>\n",
       "    <tr>\n",
       "      <th>16</th>\n",
       "      <td>-24.0</td>\n",
       "      <td>-17.0</td>\n",
       "      <td>253.30</td>\n",
       "    </tr>\n",
       "    <tr>\n",
       "      <th>19</th>\n",
       "      <td>-48.0</td>\n",
       "      <td>-13.0</td>\n",
       "      <td>253.50</td>\n",
       "    </tr>\n",
       "    <tr>\n",
       "      <th>23</th>\n",
       "      <td>-38.0</td>\n",
       "      <td>-8.0</td>\n",
       "      <td>297.18</td>\n",
       "    </tr>\n",
       "  </tbody>\n",
       "</table>\n",
       "</div>"
      ],
      "text/plain": [
       "    staticCollision  dynamicCollision  fuzzingOperationTimes\n",
       "0            -180.0              -0.0                 294.32\n",
       "3              -6.0             -52.0                 161.70\n",
       "4             -17.0              -0.0                 316.80\n",
       "7             -67.0              -2.0                 108.00\n",
       "9             -10.0             -44.0                 163.30\n",
       "11             -2.0             -33.0                 283.62\n",
       "12            -57.0             -40.0                 129.38\n",
       "16            -24.0             -17.0                 253.30\n",
       "19            -48.0             -13.0                 253.50\n",
       "23            -38.0              -8.0                 297.18"
      ]
     },
     "execution_count": 6,
     "metadata": {},
     "output_type": "execute_result"
    }
   ],
   "source": [
    "dcondbased_960"
   ]
  },
  {
   "cell_type": "code",
   "execution_count": 7,
   "id": "3941913c-7e3d-46b2-8434-e024426e31ea",
   "metadata": {},
   "outputs": [],
   "source": [
    "def max_point_from_front(pf):\n",
    "    return np.array([np.max(pf.staticCollision), np.max(pf.dynamicCollision), np.max(pf.fuzzingOperationTimes)])"
   ]
  },
  {
   "cell_type": "code",
   "execution_count": 8,
   "id": "2f5aaf8f-45aa-418b-82df-9fe0df39e3fa",
   "metadata": {},
   "outputs": [],
   "source": [
    "def max_point_from_all_fronts(pf_list):\n",
    "    max_points_2d = np.column_stack(list(map(lambda pf: max_point_from_front(pf), pf_list)))\n",
    "    max_of_all = np.amax(max_points_2d, axis=1)\n",
    "    return max_of_all"
   ]
  },
  {
   "cell_type": "code",
   "execution_count": 9,
   "id": "ea92000c-937b-46e0-b58f-13332275e986",
   "metadata": {},
   "outputs": [],
   "source": [
    "def front_to_numpy_array(front):\n",
    "    return front[res_col_subset].to_numpy()"
   ]
  },
  {
   "cell_type": "code",
   "execution_count": 10,
   "id": "45a23a26-9f1e-4e40-ba75-8fd8e83bba45",
   "metadata": {},
   "outputs": [
    {
     "data": {
      "text/plain": [
       "array([ -0. ,  -0. , 316.8])"
      ]
     },
     "execution_count": 10,
     "metadata": {},
     "output_type": "execute_result"
    }
   ],
   "source": [
    "all_fronts = [dcondbased_240, dcondbased_480, dcondbased_720, dcondbased_960]\n",
    "max_point_from_all_fronts(all_fronts)"
   ]
  },
  {
   "cell_type": "code",
   "execution_count": 11,
   "id": "e5ad19d8-a854-4583-a026-fcf0ab58a19a",
   "metadata": {},
   "outputs": [],
   "source": [
    "def indicators_for_intermediate_fronts(fronts):\n",
    "    # Reference point is obtained as the max point from all fronts\n",
    "    ref_point = max_point_from_all_fronts(fronts)\n",
    "    ref_front = front_to_numpy_array(dcondbased_960)\n",
    "\n",
    "    for front_pandas in fronts:\n",
    "        # Get front as numpy array\n",
    "        front = front_to_numpy_array(front_pandas)\n",
    "        hv_ind = HV(ref_point=ref_point)\n",
    "        igd_ind = IGD(ref_front)\n",
    "        igdplus_ind = IGDPlus(ref_front)\n",
    "        hv_val = hv_ind(front)\n",
    "        igd_val = igd_ind(front)\n",
    "        igdplus_val = igdplus_ind(front)\n",
    "        print(\"HV = \" + str(hv_val) + \", IGD = \" + str(igd_val) + \", IGDPlus =  \" + str(igdplus_val))"
   ]
  },
  {
   "cell_type": "code",
   "execution_count": 12,
   "id": "5160cdb5-b000-4e79-b378-179fc590356a",
   "metadata": {},
   "outputs": [
    {
     "name": "stdout",
     "output_type": "stream",
     "text": [
      "HV = 15218.940000000002, IGD = 97.3926962616355, IGDPlus =  31.31434144820441\n",
      "HV = 158384.26, IGD = 42.360298021372074, IGDPlus =  10.473863455701686\n",
      "HV = 433930.92000000004, IGD = 7.07744453846945, IGDPlus =  1.6\n",
      "HV = 447554.12000000005, IGD = 0.0, IGDPlus =  0.0\n"
     ]
    }
   ],
   "source": [
    "indicators_for_intermediate_fronts(all_fronts)"
   ]
  },
  {
   "cell_type": "code",
   "execution_count": null,
   "id": "c1e144c8-b8af-4e4c-b8bf-c26b4994f89b",
   "metadata": {},
   "outputs": [],
   "source": []
  },
  {
   "cell_type": "code",
   "execution_count": null,
   "id": "ea3f77c4",
   "metadata": {},
   "outputs": [],
   "source": []
  },
  {
   "cell_type": "code",
   "execution_count": null,
   "id": "595a0082",
   "metadata": {},
   "outputs": [],
   "source": []
  }
 ],
 "metadata": {
  "kernelspec": {
   "display_name": "Python 3 (ipykernel)",
   "language": "python",
   "name": "python3"
  },
  "language_info": {
   "codemirror_mode": {
    "name": "ipython",
    "version": 3
   },
   "file_extension": ".py",
   "mimetype": "text/x-python",
   "name": "python",
   "nbconvert_exporter": "python",
   "pygments_lexer": "ipython3",
   "version": "3.8.0"
  }
 },
 "nbformat": 4,
 "nbformat_minor": 5
}
