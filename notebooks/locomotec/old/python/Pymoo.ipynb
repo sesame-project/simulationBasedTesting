{
 "cells": [
  {
   "cell_type": "code",
   "execution_count": 27,
   "id": "9051d6c3",
   "metadata": {},
   "outputs": [],
   "source": [
    "from pymoo.indicators.hv import HV\n",
    "from pymoo.problems import get_problem\n",
    "import numpy as np"
   ]
  },
  {
   "cell_type": "code",
   "execution_count": 33,
   "id": "321084b0",
   "metadata": {},
   "outputs": [
    {
     "data": {
      "text/plain": [
       "1.101409368920674"
      ]
     },
     "execution_count": 33,
     "metadata": {},
     "output_type": "execute_result"
    }
   ],
   "source": [
    "pf = get_problem(\"zdt1\").pareto_front()\n",
    "ind = HV(ref_point = np.array([1.2, 1.2]))\n",
    "ind(pf)"
   ]
  },
  {
   "cell_type": "code",
   "execution_count": 22,
   "id": "9c71b41b",
   "metadata": {
    "scrolled": true
   },
   "outputs": [
    {
     "data": {
      "text/plain": [
       "array([[  4.72,  15.68, 266.67],\n",
       "       [  4.74,  15.65, 266.85],\n",
       "       [  1.49,   0.  ,   0.  ],\n",
       "       [ 11.1 ,   0.  , 124.89],\n",
       "       [  0.  ,  12.44, 102.49],\n",
       "       [  5.83,   7.41, 200.92],\n",
       "       [ 10.8 ,   0.  ,  81.07],\n",
       "       [  2.16,  11.93, 154.13],\n",
       "       [  3.01,   1.76, 143.14],\n",
       "       [  2.82,   4.39,  58.03],\n",
       "       [  0.  ,  13.92, 114.91],\n",
       "       [  5.63,   7.92, 197.26],\n",
       "       [  3.08,   0.  ,  20.84],\n",
       "       [  0.  ,   6.27,  36.19],\n",
       "       [  2.45,   9.85, 135.17],\n",
       "       [  2.83,  14.83, 245.9 ],\n",
       "       [  1.95,  10.31, 114.16],\n",
       "       [  2.04,   5.25,  99.92],\n",
       "       [  0.  ,   8.15,  67.21],\n",
       "       [  4.61,   0.  ,  63.65]])"
      ]
     },
     "execution_count": 22,
     "metadata": {},
     "output_type": "execute_result"
    }
   ],
   "source": [
    "s = \"/home/jharbin/academic/sesame/WP6/notebooks/locomotec/python/condbased_res1000.pf\"\n",
    "front1000 = np.loadtxt(open(s, \"rb\"), delimiter=\",\")\n",
    "front1000"
   ]
  },
  {
   "cell_type": "code",
   "execution_count": 23,
   "id": "ecbb48e2",
   "metadata": {},
   "outputs": [],
   "source": [
    "# from Simos example\n",
    "#reference_point_HV = np.max([i.fitness.values for i in population], axis=0)"
   ]
  },
  {
   "cell_type": "code",
   "execution_count": 37,
   "id": "efebf95b",
   "metadata": {},
   "outputs": [
    {
     "data": {
      "text/plain": [
       "43444.299674"
      ]
     },
     "execution_count": 37,
     "metadata": {},
     "output_type": "execute_result"
    }
   ],
   "source": [
    "ind = HV(ref_point=np.array([11.1, 15.68, 266.85]))\n",
    "ind(front1000)"
   ]
  },
  {
   "cell_type": "code",
   "execution_count": 18,
   "id": "65b7ad77",
   "metadata": {},
   "outputs": [
    {
     "data": {
      "text/plain": [
       "<pymoo.indicators.hv.HV at 0x7f7979cc7940>"
      ]
     },
     "execution_count": 18,
     "metadata": {},
     "output_type": "execute_result"
    }
   ],
   "source": []
  },
  {
   "cell_type": "code",
   "execution_count": null,
   "id": "0500313b",
   "metadata": {},
   "outputs": [],
   "source": []
  }
 ],
 "metadata": {
  "kernelspec": {
   "display_name": "Python 3 (ipykernel)",
   "language": "python",
   "name": "python3"
  },
  "language_info": {
   "codemirror_mode": {
    "name": "ipython",
    "version": 3
   },
   "file_extension": ".py",
   "mimetype": "text/x-python",
   "name": "python",
   "nbconvert_exporter": "python",
   "pygments_lexer": "ipython3",
   "version": "3.8.0"
  }
 },
 "nbformat": 4,
 "nbformat_minor": 5
}
