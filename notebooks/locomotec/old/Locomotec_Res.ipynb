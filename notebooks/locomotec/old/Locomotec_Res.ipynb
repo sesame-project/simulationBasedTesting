{
 "cells": [
  {
   "cell_type": "code",
   "execution_count": 55,
   "id": "b0259621",
   "metadata": {
    "scrolled": true
   },
   "outputs": [],
   "source": [
    "using DelimitedFiles, DataFrames, PlotlyJS"
   ]
  },
  {
   "cell_type": "code",
   "execution_count": 56,
   "id": "a057ef21",
   "metadata": {
    "scrolled": true
   },
   "outputs": [
    {
     "data": {
      "text/html": [
       "<div><div style = \"float: left;\"><span>20×7 DataFrame</span></div><div style = \"clear: both;\"></div></div><div class = \"data-frame\" style = \"overflow-x: scroll;\"><table class = \"data-frame\" style = \"margin-bottom: 6px;\"><thead><tr class = \"header\"><th class = \"rowNumber\" style = \"font-weight: bold; text-align: right;\">Row</th><th style = \"text-align: left;\">Testing</th><th style = \"text-align: left;\">uvMissSurface</th><th style = \"text-align: left;\">uvExcessHuman</th><th style = \"text-align: left;\">fuzzOpTimes</th><th style = \"text-align: left;\">Graphtag</th><th style = \"text-align: left;\">Fuzzing</th><th style = \"text-align: left;\">op</th></tr><tr class = \"subheader headerLastRow\"><th class = \"rowNumber\" style = \"font-weight: bold; text-align: right;\"></th><th title = \"Any\" style = \"text-align: left;\">Any</th><th title = \"Any\" style = \"text-align: left;\">Any</th><th title = \"Any\" style = \"text-align: left;\">Any</th><th title = \"Any\" style = \"text-align: left;\">Any</th><th title = \"Any\" style = \"text-align: left;\">Any</th><th title = \"Any\" style = \"text-align: left;\">Any</th><th title = \"Any\" style = \"text-align: left;\">Any</th></tr></thead><tbody><tr><td class = \"rowNumber\" style = \"font-weight: bold; text-align: right;\">1</td><td style = \"text-align: left;\">Test:Test_028_14_11_2022_11_42_37</td><td style = \"text-align: left;\">0.0</td><td style = \"text-align: left;\">0.0</td><td style = \"text-align: left;\">0.08</td><td style = \"text-align: left;\">0</td><td style = \"text-align: left;\">1:personDetectionDelay([2.43-4.10])FixedTimeActivation:{159.7-&gt;159.8}</td><td style = \"text-align: left;\"></td></tr><tr><td class = \"rowNumber\" style = \"font-weight: bold; text-align: right;\">2</td><td style = \"text-align: left;\">Test:Test_360_15_11_2022_03_58_45</td><td style = \"text-align: left;\">9.72</td><td style = \"text-align: left;\">0.08</td><td style = \"text-align: left;\">522.88</td><td style = \"text-align: left;\">3</td><td style = \"text-align: left;\">5:personDetectionPacketLossAll([0.00-0.00])FixedTimeActivation:{56.7-&gt;132.9},distortPersonSector([-1.19-0.22])FixedTimeActivation:{35.6-&gt;156.4},distortPersonSector([0.58-1.33])FixedTimeActivation:{37.2-&gt;115.2},personDetectionDelay([4.22-4.43])FixedTimeActivation:{6.7-&gt;150.0},personDetectionPacketLossAll([0.00-0.00])FixedTimeActivation:{52.4-&gt;157.1}</td><td style = \"text-align: left;\"></td></tr><tr><td class = \"rowNumber\" style = \"font-weight: bold; text-align: right;\">3</td><td style = \"text-align: left;\">Test:Test_509_15_11_2022_12_26_41</td><td style = \"text-align: left;\">11.1</td><td style = \"text-align: left;\">0.0</td><td style = \"text-align: left;\">146.46</td><td style = \"text-align: left;\">0</td><td style = \"text-align: left;\">1:personDetectionPacketLossAll([0.00-0.00])FixedTimeActivation:{13.3-&gt;159.8}</td><td style = \"text-align: left;\"></td></tr><tr><td class = \"rowNumber\" style = \"font-weight: bold; text-align: right;\">4</td><td style = \"text-align: left;\">Test:Test_939_16_11_2022_11_55_44</td><td style = \"text-align: left;\">0.0</td><td style = \"text-align: left;\">0.0</td><td style = \"text-align: left;\">0.08</td><td style = \"text-align: left;\">2</td><td style = \"text-align: left;\">1:personDetectionDelay([2.43-4.10])FixedTimeActivation:{159.7-&gt;159.8},</td><td style = \"text-align: left;\"></td></tr><tr><td class = \"rowNumber\" style = \"font-weight: bold; text-align: right;\">5</td><td style = \"text-align: left;\">Test:Test_944_16_11_2022_13_05_58</td><td style = \"text-align: left;\">0.0</td><td style = \"text-align: left;\">15.54</td><td style = \"text-align: left;\">213.78</td><td style = \"text-align: left;\">0</td><td style = \"text-align: left;\">3:distortPersonSector([0.72-1.31])FixedTimeActivation:{85.5-&gt;91.4},distortPersonSector([-1.06-1.47])FixedTimeActivation:{6.2-&gt;79.7},distortPersonSector([1.41-1.46])FixedTimeActivation:{23.7-&gt;158.1},</td><td style = \"text-align: left;\"></td></tr><tr><td class = \"rowNumber\" style = \"font-weight: bold; text-align: right;\">6</td><td style = \"text-align: left;\">Test:Test_985_16_11_2022_15_27_28</td><td style = \"text-align: left;\">0.0</td><td style = \"text-align: left;\">10.96</td><td style = \"text-align: left;\">105.22</td><td style = \"text-align: left;\">0</td><td style = \"text-align: left;\">3:personDetectionDelay([2.43-4.10])FixedTimeActivation:{159.7-&gt;159.8},distortPersonSector([1.37-1.40])FixedTimeActivation:{46.6-&gt;147.5},personDetectionPacketLossAll([0.00-0.00])FixedTimeActivation:{85.3-&gt;89.5},</td><td style = \"text-align: left;\"></td></tr><tr><td class = \"rowNumber\" style = \"font-weight: bold; text-align: right;\">7</td><td style = \"text-align: left;\">Test:Test_780_16_11_2022_02_44_56</td><td style = \"text-align: left;\">7.6</td><td style = \"text-align: left;\">0.54</td><td style = \"text-align: left;\">264.5</td><td style = \"text-align: left;\">0</td><td style = \"text-align: left;\">6:personDetectionPacketLossAll([0.00-0.00])FixedTimeActivation:{52.3-&gt;78.7},personDetectionPacketLossAll([0.00-0.00])FixedTimeActivation:{56.7-&gt;132.9},distortPersonSector([-1.19-0.22])FixedTimeActivation:{6.3-&gt;152.5},distortPersonSector([0.58-1.33])FixedTimeActivation:{140.1-&gt;151.3},personDetectionDelay([4.22-4.43])FixedTimeActivation:{110.2-&gt;112.0},personDetectionPacketLossAll([0.00-0.00])FixedTimeActivation:{155.9-&gt;158.7},</td><td style = \"text-align: left;\"></td></tr><tr><td class = \"rowNumber\" style = \"font-weight: bold; text-align: right;\">8</td><td style = \"text-align: left;\">Test:Test_856_16_11_2022_07_17_56</td><td style = \"text-align: left;\">7.0</td><td style = \"text-align: left;\">7.3</td><td style = \"text-align: left;\">372.98</td><td style = \"text-align: left;\">0</td><td style = \"text-align: left;\">6:distortPersonSector([0.75-1.08])FixedTimeActivation:{8.0-&gt;105.3},personDetectionPacketLossAll([0.00-0.00])FixedTimeActivation:{77.9-&gt;156.2},distortPersonSector([0.76-1.28])FixedTimeActivation:{29.3-&gt;67.7},distortPersonSector([-1.15--0.83])FixedTimeActivation:{2.4-&gt;82.7},distortPersonSector([1.02-1.13])FixedTimeActivation:{31.8-&gt;104.1},personDetectionDelay([4.22-4.43])FixedTimeActivation:{146.3-&gt;152.5},</td><td style = \"text-align: left;\"></td></tr><tr><td class = \"rowNumber\" style = \"font-weight: bold; text-align: right;\">9</td><td style = \"text-align: left;\">Test:Test_723_16_11_2022_00_30_03</td><td style = \"text-align: left;\">2.15</td><td style = \"text-align: left;\">8.91</td><td style = \"text-align: left;\">159.14</td><td style = \"text-align: left;\">0</td><td style = \"text-align: left;\">6:distortPersonSector([1.02-1.13])FixedTimeActivation:{152.1-&gt;156.3},personDetectionDelay([4.22-4.43])FixedTimeActivation:{146.3-&gt;152.5},distortPersonSector([-0.58-0.03])FixedTimeActivation:{91.1-&gt;113.2},personDetectionPacketLossAll([0.00-0.00])FixedTimeActivation:{130.7-&gt;150.4},distortPersonSector([-0.59-0.34])FixedTimeActivation:{46.6-&gt;117.3},distortPersonSector([0.58-1.33])FixedTimeActivation:{23.0-&gt;59.2},</td><td style = \"text-align: left;\"></td></tr><tr><td class = \"rowNumber\" style = \"font-weight: bold; text-align: right;\">10</td><td style = \"text-align: left;\">Test:Test_837_16_11_2022_06_09_15</td><td style = \"text-align: left;\">6.75</td><td style = \"text-align: left;\">7.48</td><td style = \"text-align: left;\">447.02</td><td style = \"text-align: left;\">0</td><td style = \"text-align: left;\">7:personDetectionPacketLossAll([0.00-0.00])FixedTimeActivation:{111.7-&gt;127.4},personDetectionPacketLossAll([0.00-0.00])FixedTimeActivation:{106.4-&gt;147.7},personDetectionDelay([4.22-4.43])FixedTimeActivation:{62.4-&gt;126.8},distortPersonSector([-0.25--0.14])FixedTimeActivation:{8.0-&gt;105.3},personDetectionPacketLossAll([0.00-0.00])FixedTimeActivation:{77.9-&gt;156.2},distortPersonSector([1.39-1.42])FixedTimeActivation:{102.8-&gt;151.6},distortPersonSector([1.42-1.46])FixedTimeActivation:{38.7-&gt;140.0},</td><td style = \"text-align: left;\"></td></tr><tr><td class = \"rowNumber\" style = \"font-weight: bold; text-align: right;\">11</td><td style = \"text-align: left;\">Test:Test_893_16_11_2022_09_36_12</td><td style = \"text-align: left;\">4.54</td><td style = \"text-align: left;\">12.44</td><td style = \"text-align: left;\">320.98</td><td style = \"text-align: left;\">0</td><td style = \"text-align: left;\">8:personDetectionPacketLossAll([0.00-0.00])FixedTimeActivation:{134.6-&gt;157.7},distortPersonSector([-1.19-0.22])FixedTimeActivation:{35.6-&gt;156.4},distortPersonSector([0.58-1.33])FixedTimeActivation:{147.8-&gt;152.7},personDetectionDelay([4.22-4.43])FixedTimeActivation:{144.1-&gt;147.7},distortPersonSector([-0.97-0.16])FixedTimeActivation:{147.1-&gt;147.8},personDetectionPacketLossAll([0.00-0.00])FixedTimeActivation:{145.7-&gt;146.7},distortPersonSector([0.32-1.39])FixedTimeActivation:{76.1-&gt;127.9},distortPersonSector([0.58-1.33])FixedTimeActivation:{30.7-&gt;145.6},</td><td style = \"text-align: left;\"></td></tr><tr><td class = \"rowNumber\" style = \"font-weight: bold; text-align: right;\">12</td><td style = \"text-align: left;\">Test:Test_949_16_11_2022_13_05_58</td><td style = \"text-align: left;\">0.58</td><td style = \"text-align: left;\">11.66</td><td style = \"text-align: left;\">196.26</td><td style = \"text-align: left;\">0</td><td style = \"text-align: left;\">6:distortPersonSector([-0.65-1.16])FixedTimeActivation:{122.1-&gt;155.7},personDetectionPacketLossAll([0.00-0.00])FixedTimeActivation:{72.3-&gt;89.3},distortPersonSector([0.76-1.28])FixedTimeActivation:{117.0-&gt;122.2},distortPersonSector([1.08-1.36])FixedTimeActivation:{50.6-&gt;143.8},distortPersonSector([1.37-1.40])FixedTimeActivation:{42.8-&gt;84.7},personDetectionPacketLossAll([0.00-0.00])FixedTimeActivation:{110.2-&gt;115.6},</td><td style = \"text-align: left;\"></td></tr><tr><td class = \"rowNumber\" style = \"font-weight: bold; text-align: right;\">13</td><td style = \"text-align: left;\">Test:Test_872_16_11_2022_08_26_55</td><td style = \"text-align: left;\">2.87</td><td style = \"text-align: left;\">5.89</td><td style = \"text-align: left;\">86.6</td><td style = \"text-align: left;\">0</td><td style = \"text-align: left;\">3:distortPersonSector([0.54-0.93])FixedTimeActivation:{44.2-&gt;49.5},distortPersonSector([0.88-1.49])FixedTimeActivation:{38.5-&gt;82.3},personDetectionPacketLossAll([0.00-0.00])FixedTimeActivation:{113.0-&gt;150.5},</td><td style = \"text-align: left;\"></td></tr><tr><td class = \"rowNumber\" style = \"font-weight: bold; text-align: right;\">14</td><td style = \"text-align: left;\">Test:Test_994_16_11_2022_15_27_28</td><td style = \"text-align: left;\">3.17</td><td style = \"text-align: left;\">0.0</td><td style = \"text-align: left;\">42.78</td><td style = \"text-align: left;\">1</td><td style = \"text-align: left;\">2:personDetectionPacketLossAll([0.00-0.00])FixedTimeActivation:{113.0-&gt;150.5},distortPersonSector([-1.12--0.07])FixedTimeActivation:{44.2-&gt;49.5},</td><td style = \"text-align: left;\"></td></tr><tr><td class = \"rowNumber\" style = \"font-weight: bold; text-align: right;\">15</td><td style = \"text-align: left;\">Test:Test_979_16_11_2022_14_16_31</td><td style = \"text-align: left;\">6.13</td><td style = \"text-align: left;\">4.3</td><td style = \"text-align: left;\">307.49</td><td style = \"text-align: left;\">0</td><td style = \"text-align: left;\">5:personDetectionDelay([2.43-4.10])FixedTimeActivation:{23.2-&gt;71.5},distortPersonSector([-0.25--0.14])FixedTimeActivation:{8.0-&gt;105.3},personDetectionPacketLossAll([0.00-0.00])FixedTimeActivation:{77.9-&gt;156.2},distortPersonSector([1.39-1.42])FixedTimeActivation:{102.8-&gt;151.6},distortPersonSector([1.42-1.46])FixedTimeActivation:{113.9-&gt;148.8},</td><td style = \"text-align: left;\"></td></tr><tr><td class = \"rowNumber\" style = \"font-weight: bold; text-align: right;\">16</td><td style = \"text-align: left;\">Test:Test_537_15_11_2022_13_31_11</td><td style = \"text-align: left;\">2.66</td><td style = \"text-align: left;\">12.82</td><td style = \"text-align: left;\">211.15</td><td style = \"text-align: left;\">0</td><td style = \"text-align: left;\">4:distortPersonSector([-1.10-0.68])FixedTimeActivation:{43.5-&gt;102.0},personDetectionPacketLossAll([0.00-0.00])FixedTimeActivation:{129.5-&gt;141.1},distortPersonSector([0.17-1.28])FixedTimeActivation:{35.6-&gt;156.4},distortPersonSector([0.88-1.49])FixedTimeActivation:{104.3-&gt;124.7},</td><td style = \"text-align: left;\"></td></tr><tr><td class = \"rowNumber\" style = \"font-weight: bold; text-align: right;\">17</td><td style = \"text-align: left;\">Test:Test_813_16_11_2022_05_00_49</td><td style = \"text-align: left;\">9.1</td><td style = \"text-align: left;\">1.02</td><td style = \"text-align: left;\">316.63</td><td style = \"text-align: left;\">0</td><td style = \"text-align: left;\">7:personDetectionPacketLossAll([0.00-0.00])FixedTimeActivation:{81.9-&gt;139.5},personDetectionPacketLossAll([0.00-0.00])FixedTimeActivation:{54.8-&gt;119.1},personDetectionDelay([4.22-4.43])FixedTimeActivation:{141.4-&gt;143.9},distortPersonSector([-0.97-0.16])FixedTimeActivation:{147.1-&gt;147.8},personDetectionPacketLossAll([0.00-0.00])FixedTimeActivation:{130.7-&gt;150.4},distortPersonSector([-1.07--1.01])FixedTimeActivation:{46.6-&gt;117.3},distortPersonSector([0.58-1.33])FixedTimeActivation:{38.7-&gt;140.0},</td><td style = \"text-align: left;\"></td></tr><tr><td class = \"rowNumber\" style = \"font-weight: bold; text-align: right;\">18</td><td style = \"text-align: left;\">Test:Test_878_16_11_2022_08_26_55</td><td style = \"text-align: left;\">5.28</td><td style = \"text-align: left;\">1.72</td><td style = \"text-align: left;\">138.41</td><td style = \"text-align: left;\">0</td><td style = \"text-align: left;\">4:personDetectionPacketLossAll([0.00-0.00])FixedTimeActivation:{58.1-&gt;145.1},distortPersonSector([-0.55-0.82])FixedTimeActivation:{147.2-&gt;152.4},distortPersonSector([1.37-1.40])FixedTimeActivation:{42.8-&gt;84.7},personDetectionPacketLossAll([0.00-0.00])FixedTimeActivation:{85.3-&gt;89.5},</td><td style = \"text-align: left;\"></td></tr><tr><td class = \"rowNumber\" style = \"font-weight: bold; text-align: right;\">19</td><td style = \"text-align: left;\">Test:Test_993_16_11_2022_15_27_28</td><td style = \"text-align: left;\">2.99</td><td style = \"text-align: left;\">2.91</td><td style = \"text-align: left;\">129.35</td><td style = \"text-align: left;\">0</td><td style = \"text-align: left;\">4:distortPersonSector([0.54-0.93])FixedTimeActivation:{44.2-&gt;49.5},distortPersonSector([1.09-1.26])FixedTimeActivation:{38.5-&gt;82.3},distortPersonSector([0.18-1.10])FixedTimeActivation:{58.4-&gt;101.1},personDetectionPacketLossAll([0.00-0.00])FixedTimeActivation:{113.0-&gt;150.5},</td><td style = \"text-align: left;\"></td></tr><tr><td class = \"rowNumber\" style = \"font-weight: bold; text-align: right;\">20</td><td style = \"text-align: left;\">Test:Test_762_16_11_2022_02_44_56</td><td style = \"text-align: left;\">6.2</td><td style = \"text-align: left;\">4.05</td><td style = \"text-align: left;\">161.38</td><td style = \"text-align: left;\">0</td><td style = \"text-align: left;\">3:personDetectionPacketLossAll([0.00-0.00])FixedTimeActivation:{125.3-&gt;154.8},distortPersonSector([1.16-1.23])FixedTimeActivation:{26.2-&gt;78.4},personDetectionPacketLossAll([0.00-0.00])FixedTimeActivation:{69.1-&gt;148.7},</td><td style = \"text-align: left;\"></td></tr></tbody></table></div>"
      ],
      "text/latex": [
       "\\begin{tabular}{r|cccccc}\n",
       "\t& Testing & uvMissSurface & uvExcessHuman & fuzzOpTimes & Graphtag & \\\\\n",
       "\t\\hline\n",
       "\t& Any & Any & Any & Any & Any & \\\\\n",
       "\t\\hline\n",
       "\t1 & Test:Test\\_028\\_14\\_11\\_2022\\_11\\_42\\_37 & 0.0 & 0.0 & 0.08 & 0 & $\\dots$ \\\\\n",
       "\t2 & Test:Test\\_360\\_15\\_11\\_2022\\_03\\_58\\_45 & 9.72 & 0.08 & 522.88 & 3 & $\\dots$ \\\\\n",
       "\t3 & Test:Test\\_509\\_15\\_11\\_2022\\_12\\_26\\_41 & 11.1 & 0.0 & 146.46 & 0 & $\\dots$ \\\\\n",
       "\t4 & Test:Test\\_939\\_16\\_11\\_2022\\_11\\_55\\_44 & 0.0 & 0.0 & 0.08 & 2 & $\\dots$ \\\\\n",
       "\t5 & Test:Test\\_944\\_16\\_11\\_2022\\_13\\_05\\_58 & 0.0 & 15.54 & 213.78 & 0 & $\\dots$ \\\\\n",
       "\t6 & Test:Test\\_985\\_16\\_11\\_2022\\_15\\_27\\_28 & 0.0 & 10.96 & 105.22 & 0 & $\\dots$ \\\\\n",
       "\t7 & Test:Test\\_780\\_16\\_11\\_2022\\_02\\_44\\_56 & 7.6 & 0.54 & 264.5 & 0 & $\\dots$ \\\\\n",
       "\t8 & Test:Test\\_856\\_16\\_11\\_2022\\_07\\_17\\_56 & 7.0 & 7.3 & 372.98 & 0 & $\\dots$ \\\\\n",
       "\t9 & Test:Test\\_723\\_16\\_11\\_2022\\_00\\_30\\_03 & 2.15 & 8.91 & 159.14 & 0 & $\\dots$ \\\\\n",
       "\t10 & Test:Test\\_837\\_16\\_11\\_2022\\_06\\_09\\_15 & 6.75 & 7.48 & 447.02 & 0 & $\\dots$ \\\\\n",
       "\t11 & Test:Test\\_893\\_16\\_11\\_2022\\_09\\_36\\_12 & 4.54 & 12.44 & 320.98 & 0 & $\\dots$ \\\\\n",
       "\t12 & Test:Test\\_949\\_16\\_11\\_2022\\_13\\_05\\_58 & 0.58 & 11.66 & 196.26 & 0 & $\\dots$ \\\\\n",
       "\t13 & Test:Test\\_872\\_16\\_11\\_2022\\_08\\_26\\_55 & 2.87 & 5.89 & 86.6 & 0 & $\\dots$ \\\\\n",
       "\t14 & Test:Test\\_994\\_16\\_11\\_2022\\_15\\_27\\_28 & 3.17 & 0.0 & 42.78 & 1 & $\\dots$ \\\\\n",
       "\t15 & Test:Test\\_979\\_16\\_11\\_2022\\_14\\_16\\_31 & 6.13 & 4.3 & 307.49 & 0 & $\\dots$ \\\\\n",
       "\t16 & Test:Test\\_537\\_15\\_11\\_2022\\_13\\_31\\_11 & 2.66 & 12.82 & 211.15 & 0 & $\\dots$ \\\\\n",
       "\t17 & Test:Test\\_813\\_16\\_11\\_2022\\_05\\_00\\_49 & 9.1 & 1.02 & 316.63 & 0 & $\\dots$ \\\\\n",
       "\t18 & Test:Test\\_878\\_16\\_11\\_2022\\_08\\_26\\_55 & 5.28 & 1.72 & 138.41 & 0 & $\\dots$ \\\\\n",
       "\t19 & Test:Test\\_993\\_16\\_11\\_2022\\_15\\_27\\_28 & 2.99 & 2.91 & 129.35 & 0 & $\\dots$ \\\\\n",
       "\t20 & Test:Test\\_762\\_16\\_11\\_2022\\_02\\_44\\_56 & 6.2 & 4.05 & 161.38 & 0 & $\\dots$ \\\\\n",
       "\\end{tabular}\n"
      ],
      "text/plain": [
       "\u001b[1m20×7 DataFrame\u001b[0m\n",
       "\u001b[1m Row \u001b[0m│\u001b[1m Testing                           \u001b[0m\u001b[1m uvMissSurface \u001b[0m\u001b[1m uvExcessHuman \u001b[0m\u001b[1m fuzzOp\u001b[0m ⋯\n",
       "     │\u001b[90m Any                               \u001b[0m\u001b[90m Any           \u001b[0m\u001b[90m Any           \u001b[0m\u001b[90m Any   \u001b[0m ⋯\n",
       "─────┼──────────────────────────────────────────────────────────────────────────\n",
       "   1 │ Test:Test_028_14_11_2022_11_42_37  0.0            0.0            0.08   ⋯\n",
       "   2 │ Test:Test_360_15_11_2022_03_58_45  9.72           0.08           522.88\n",
       "   3 │ Test:Test_509_15_11_2022_12_26_41  11.1           0.0            146.46\n",
       "   4 │ Test:Test_939_16_11_2022_11_55_44  0.0            0.0            0.08\n",
       "   5 │ Test:Test_944_16_11_2022_13_05_58  0.0            15.54          213.78 ⋯\n",
       "   6 │ Test:Test_985_16_11_2022_15_27_28  0.0            10.96          105.22\n",
       "   7 │ Test:Test_780_16_11_2022_02_44_56  7.6            0.54           264.5\n",
       "   8 │ Test:Test_856_16_11_2022_07_17_56  7.0            7.3            372.98\n",
       "   9 │ Test:Test_723_16_11_2022_00_30_03  2.15           8.91           159.14 ⋯\n",
       "  10 │ Test:Test_837_16_11_2022_06_09_15  6.75           7.48           447.02\n",
       "  11 │ Test:Test_893_16_11_2022_09_36_12  4.54           12.44          320.98\n",
       "  12 │ Test:Test_949_16_11_2022_13_05_58  0.58           11.66          196.26\n",
       "  13 │ Test:Test_872_16_11_2022_08_26_55  2.87           5.89           86.6   ⋯\n",
       "  14 │ Test:Test_994_16_11_2022_15_27_28  3.17           0.0            42.78\n",
       "  15 │ Test:Test_979_16_11_2022_14_16_31  6.13           4.3            307.49\n",
       "  16 │ Test:Test_537_15_11_2022_13_31_11  2.66           12.82          211.15\n",
       "  17 │ Test:Test_813_16_11_2022_05_00_49  9.1            1.02           316.63 ⋯\n",
       "  18 │ Test:Test_878_16_11_2022_08_26_55  5.28           1.72           138.41\n",
       "  19 │ Test:Test_993_16_11_2022_15_27_28  2.99           2.91           129.35\n",
       "  20 │ Test:Test_762_16_11_2022_02_44_56  6.2            4.05           161.38\n",
       "\u001b[36m                                                               4 columns omitted\u001b[0m"
      ]
     },
     "execution_count": 56,
     "metadata": {},
     "output_type": "execute_result"
    }
   ],
   "source": [
    "datraw, header = readdlm(\"locomotec-res-timebased\", header=true)\n",
    "timebased_data = DataFrame(datraw, vec(header), makeunique=true)"
   ]
  },
  {
   "cell_type": "code",
   "execution_count": 57,
   "id": "9f4a44f7",
   "metadata": {},
   "outputs": [
    {
     "data": {
      "text/html": [
       "<div><div style = \"float: left;\"><span>20×33 DataFrame</span></div><div style = \"clear: both;\"></div></div><div class = \"data-frame\" style = \"overflow-x: scroll;\"><table class = \"data-frame\" style = \"margin-bottom: 6px;\"><thead><tr class = \"header\"><th class = \"rowNumber\" style = \"font-weight: bold; text-align: right;\">Row</th><th style = \"text-align: left;\">Test</th><th style = \"text-align: left;\">uvDisinfectionSurface</th><th style = \"text-align: left;\">uvDisinfectionSurface_s1</th><th style = \"text-align: left;\">uvDisinfectionSurface_s2</th><th style = \"text-align: left;\">uvDisinfectionSurface_s3</th><th style = \"text-align: left;\">uvExposureForHuman_p1</th><th style = \"text-align: left;\">uvExposureForHuman</th><th style = \"text-align: left;\">fuzzingOperationTimes</th><th style = \"text-align: left;\"></th><th style = \"text-align: left;\">_1</th><th style = \"text-align: left;\">_2</th><th style = \"text-align: left;\">_3</th><th style = \"text-align: left;\">_4</th><th style = \"text-align: left;\">_5</th><th style = \"text-align: left;\">_6</th><th style = \"text-align: left;\">_7</th><th style = \"text-align: left;\">_8</th><th style = \"text-align: left;\">_9</th><th style = \"text-align: left;\">_10</th><th style = \"text-align: left;\">_11</th><th style = \"text-align: left;\">_12</th><th style = \"text-align: left;\">_13</th><th style = \"text-align: left;\">_14</th><th style = \"text-align: left;\">_15</th><th style = \"text-align: left;\">_16</th><th style = \"text-align: left;\">_17</th><th style = \"text-align: left;\">_18</th><th style = \"text-align: left;\">_19</th><th style = \"text-align: left;\">_20</th><th style = \"text-align: left;\">_21</th><th style = \"text-align: left;\">_22</th><th style = \"text-align: left;\">_23</th><th style = \"text-align: left;\">_24</th></tr><tr class = \"subheader headerLastRow\"><th class = \"rowNumber\" style = \"font-weight: bold; text-align: right;\"></th><th title = \"Any\" style = \"text-align: left;\">Any</th><th title = \"Any\" style = \"text-align: left;\">Any</th><th title = \"Any\" style = \"text-align: left;\">Any</th><th title = \"Any\" style = \"text-align: left;\">Any</th><th title = \"Any\" style = \"text-align: left;\">Any</th><th title = \"Any\" style = \"text-align: left;\">Any</th><th title = \"Any\" style = \"text-align: left;\">Any</th><th title = \"Any\" style = \"text-align: left;\">Any</th><th title = \"Any\" style = \"text-align: left;\">Any</th><th title = \"Any\" style = \"text-align: left;\">Any</th><th title = \"Any\" style = \"text-align: left;\">Any</th><th title = \"Any\" style = \"text-align: left;\">Any</th><th title = \"Any\" style = \"text-align: left;\">Any</th><th title = \"Any\" style = \"text-align: left;\">Any</th><th title = \"Any\" style = \"text-align: left;\">Any</th><th title = \"Any\" style = \"text-align: left;\">Any</th><th title = \"Any\" style = \"text-align: left;\">Any</th><th title = \"Any\" style = \"text-align: left;\">Any</th><th title = \"Any\" style = \"text-align: left;\">Any</th><th title = \"Any\" style = \"text-align: left;\">Any</th><th title = \"Any\" style = \"text-align: left;\">Any</th><th title = \"Any\" style = \"text-align: left;\">Any</th><th title = \"Any\" style = \"text-align: left;\">Any</th><th title = \"Any\" style = \"text-align: left;\">Any</th><th title = \"Any\" style = \"text-align: left;\">Any</th><th title = \"Any\" style = \"text-align: left;\">Any</th><th title = \"Any\" style = \"text-align: left;\">Any</th><th title = \"Any\" style = \"text-align: left;\">Any</th><th title = \"Any\" style = \"text-align: left;\">Any</th><th title = \"Any\" style = \"text-align: left;\">Any</th><th title = \"Any\" style = \"text-align: left;\">Any</th><th title = \"Any\" style = \"text-align: left;\">Any</th><th title = \"Any\" style = \"text-align: left;\">Any</th></tr></thead><tbody><tr><td class = \"rowNumber\" style = \"font-weight: bold; text-align: right;\">1</td><td style = \"text-align: left;\">Test:Test_455_19_11_2022_18_21_08</td><td style = \"text-align: left;\">4.72</td><td style = \"text-align: left;\">10.88</td><td style = \"text-align: left;\">1.62</td><td style = \"text-align: left;\">1.06</td><td style = \"text-align: left;\">18.68</td><td style = \"text-align: left;\">15.68</td><td style = \"text-align: left;\">266.67</td><td style = \"text-align: left;\">2:distortPersonSector([0.59-1.09])ConditionBasedActivation:{starting:((distanceFromStartPoint)</td><td style = \"text-align: left;\">&lt;</td><td style = \"text-align: left;\">(9))</td><td style = \"text-align: left;\">&amp;&amp;</td><td style = \"text-align: left;\">((distanceFromSurfaceS1Point)</td><td style = \"text-align: left;\">&gt;</td><td style = \"text-align: left;\">(17))},{ending:((distanceFromPerson)</td><td style = \"text-align: left;\">&lt;</td><td style = \"text-align: left;\">(distanceFromPerson))</td><td style = \"text-align: left;\">&amp;&amp;</td><td style = \"text-align: left;\">((distanceFromStartPoint)</td><td style = \"text-align: left;\">&lt;</td><td style = \"text-align: left;\">(distanceFromSurfaceS1Point))},distortPersonSector([1.26-1.47])ConditionBasedActivation:{starting:((distanceFromSurfaceS2Point)</td><td style = \"text-align: left;\">&gt;</td><td style = \"text-align: left;\">(15))</td><td style = \"text-align: left;\">||</td><td style = \"text-align: left;\">((distanceFromStartPoint)</td><td style = \"text-align: left;\">&lt;</td><td style = \"text-align: left;\">(distanceFromSurfaceS1Point))},{ending:((distanceFromPerson)</td><td style = \"text-align: left;\">&lt;</td><td style = \"text-align: left;\">(distanceFromPerson))</td><td style = \"text-align: left;\">&amp;&amp;</td><td style = \"text-align: left;\">((distanceFromPerson)</td><td style = \"text-align: left;\">&gt;</td><td style = \"text-align: left;\">(distanceFromPerson))},</td></tr><tr><td class = \"rowNumber\" style = \"font-weight: bold; text-align: right;\">2</td><td style = \"text-align: left;\">Test:Test_774_20_11_2022_12_24_28</td><td style = \"text-align: left;\">4.74</td><td style = \"text-align: left;\">10.67</td><td style = \"text-align: left;\">1.59</td><td style = \"text-align: left;\">1.07</td><td style = \"text-align: left;\">18.65</td><td style = \"text-align: left;\">15.65</td><td style = \"text-align: left;\">266.85</td><td style = \"text-align: left;\">2:distortPersonSector([1.34-1.45])ConditionBasedActivation:{starting:((distanceFromSurfaceS1Point)</td><td style = \"text-align: left;\">&gt;</td><td style = \"text-align: left;\">(distanceFromSurfaceS1Point))</td><td style = \"text-align: left;\">||</td><td style = \"text-align: left;\">((distanceFromSurfaceS2Point)</td><td style = \"text-align: left;\">&gt;</td><td style = \"text-align: left;\">(distanceFromPerson))},{ending:((distanceFromSurfaceS2Point)</td><td style = \"text-align: left;\">&gt;</td><td style = \"text-align: left;\">(distanceFromPerson))</td><td style = \"text-align: left;\">&amp;&amp;</td><td style = \"text-align: left;\">((distanceFromPerson)</td><td style = \"text-align: left;\">&lt;</td><td style = \"text-align: left;\">(distanceFromStartPoint))},distortPersonSector([1.39-1.43])ConditionBasedActivation:{starting:((distanceFromSurfaceS1Point)</td><td style = \"text-align: left;\">&lt;</td><td style = \"text-align: left;\">(1))</td><td style = \"text-align: left;\">||</td><td style = \"text-align: left;\">((distanceFromSurfaceS1Point)</td><td style = \"text-align: left;\">&gt;</td><td style = \"text-align: left;\">(2))},{ending:((distanceFromSurfaceS2Point)</td><td style = \"text-align: left;\">&lt;</td><td style = \"text-align: left;\">(distanceFromPerson))</td><td style = \"text-align: left;\">&amp;&amp;</td><td style = \"text-align: left;\">((distanceFromPerson)</td><td style = \"text-align: left;\">&gt;</td><td style = \"text-align: left;\">(distanceFromPerson))},</td></tr><tr><td class = \"rowNumber\" style = \"font-weight: bold; text-align: right;\">3</td><td style = \"text-align: left;\">Test:Test_812_20_11_2022_14_46_18</td><td style = \"text-align: left;\">1.49</td><td style = \"text-align: left;\">21.8</td><td style = \"text-align: left;\">2.19</td><td style = \"text-align: left;\">12.89</td><td style = \"text-align: left;\">0.24</td><td style = \"text-align: left;\">0.0</td><td style = \"text-align: left;\">0.0</td><td style = \"text-align: left;\">0:</td><td style = \"text-align: left;\"></td><td style = \"text-align: left;\"></td><td style = \"text-align: left;\"></td><td style = \"text-align: left;\"></td><td style = \"text-align: left;\"></td><td style = \"text-align: left;\"></td><td style = \"text-align: left;\"></td><td style = \"text-align: left;\"></td><td style = \"text-align: left;\"></td><td style = \"text-align: left;\"></td><td style = \"text-align: left;\"></td><td style = \"text-align: left;\"></td><td style = \"text-align: left;\"></td><td style = \"text-align: left;\"></td><td style = \"text-align: left;\"></td><td style = \"text-align: left;\"></td><td style = \"text-align: left;\"></td><td style = \"text-align: left;\"></td><td style = \"text-align: left;\"></td><td style = \"text-align: left;\"></td><td style = \"text-align: left;\"></td><td style = \"text-align: left;\"></td><td style = \"text-align: left;\"></td><td style = \"text-align: left;\"></td></tr><tr><td class = \"rowNumber\" style = \"font-weight: bold; text-align: right;\">4</td><td style = \"text-align: left;\">Test:Test_957_20_11_2022_23_16_10</td><td style = \"text-align: left;\">11.1</td><td style = \"text-align: left;\">0.0</td><td style = \"text-align: left;\">0.0</td><td style = \"text-align: left;\">0.0</td><td style = \"text-align: left;\">0.0</td><td style = \"text-align: left;\">0.0</td><td style = \"text-align: left;\">124.89</td><td style = \"text-align: left;\">2:distortPersonSector([-1.30--1.28])ConditionBasedActivation:{starting:((distanceFromSurfaceS3Point)</td><td style = \"text-align: left;\">&lt;</td><td style = \"text-align: left;\">(distanceFromSurfaceS1Point))</td><td style = \"text-align: left;\">||</td><td style = \"text-align: left;\">((distanceFromPerson)</td><td style = \"text-align: left;\">&gt;</td><td style = \"text-align: left;\">(distanceFromSurfaceS2Point))},{ending:((distanceFromPerson)</td><td style = \"text-align: left;\">&gt;</td><td style = \"text-align: left;\">(11))</td><td style = \"text-align: left;\">&amp;&amp;</td><td style = \"text-align: left;\">((distanceFromStartPoint)</td><td style = \"text-align: left;\">&lt;</td><td style = \"text-align: left;\">(distanceFromSurfaceS1Point))},personDetectionPacketLossAll([0.00-0.00])ConditionBasedActivation:{starting:((distanceFromStartPoint)</td><td style = \"text-align: left;\">&gt;</td><td style = \"text-align: left;\">(distanceFromSurfaceS1Point))</td><td style = \"text-align: left;\">||</td><td style = \"text-align: left;\">((distanceFromStartPoint)</td><td style = \"text-align: left;\">&gt;</td><td style = \"text-align: left;\">(2))},{ending:((distanceFromSurfaceS2Point)</td><td style = \"text-align: left;\">&gt;</td><td style = \"text-align: left;\">(distanceFromSurfaceS2Point))</td><td style = \"text-align: left;\">&amp;&amp;</td><td style = \"text-align: left;\">((distanceFromPerson)</td><td style = \"text-align: left;\">&lt;</td><td style = \"text-align: left;\">(4))},</td></tr><tr><td class = \"rowNumber\" style = \"font-weight: bold; text-align: right;\">5</td><td style = \"text-align: left;\">Test:Test_992_21_11_2022_01_45_56</td><td style = \"text-align: left;\">0.0</td><td style = \"text-align: left;\">20.08</td><td style = \"text-align: left;\">6.64</td><td style = \"text-align: left;\">7.69</td><td style = \"text-align: left;\">15.44</td><td style = \"text-align: left;\">12.44</td><td style = \"text-align: left;\">102.49</td><td style = \"text-align: left;\">1:distortPersonSector([1.47-1.49])ConditionBasedActivation:{starting:((distanceFromSurfaceS3Point)</td><td style = \"text-align: left;\">&lt;</td><td style = \"text-align: left;\">(8))</td><td style = \"text-align: left;\">||</td><td style = \"text-align: left;\">((distanceFromSurfaceS2Point)</td><td style = \"text-align: left;\">&gt;</td><td style = \"text-align: left;\">(distanceFromSurfaceS2Point))},{ending:((distanceFromStartPoint)</td><td style = \"text-align: left;\">&lt;</td><td style = \"text-align: left;\">(distanceFromPerson))</td><td style = \"text-align: left;\">&amp;&amp;</td><td style = \"text-align: left;\">((distanceFromSurfaceS3Point)</td><td style = \"text-align: left;\">&lt;</td><td style = \"text-align: left;\">(distanceFromPerson))},</td><td style = \"text-align: left;\"></td><td style = \"text-align: left;\"></td><td style = \"text-align: left;\"></td><td style = \"text-align: left;\"></td><td style = \"text-align: left;\"></td><td style = \"text-align: left;\"></td><td style = \"text-align: left;\"></td><td style = \"text-align: left;\"></td><td style = \"text-align: left;\"></td><td style = \"text-align: left;\"></td><td style = \"text-align: left;\"></td><td style = \"text-align: left;\"></td></tr><tr><td class = \"rowNumber\" style = \"font-weight: bold; text-align: right;\">6</td><td style = \"text-align: left;\">Test:Test_603_20_11_2022_02_38_16</td><td style = \"text-align: left;\">5.83</td><td style = \"text-align: left;\">13.14</td><td style = \"text-align: left;\">0.86</td><td style = \"text-align: left;\">0.71</td><td style = \"text-align: left;\">10.41</td><td style = \"text-align: left;\">7.41</td><td style = \"text-align: left;\">200.92</td><td style = \"text-align: left;\">2:personDetectionPacketLossAll([0.00-0.00])ConditionBasedActivation:{starting:((distanceFromSurfaceS3Point)</td><td style = \"text-align: left;\">&lt;</td><td style = \"text-align: left;\">(distanceFromPerson))</td><td style = \"text-align: left;\">&amp;&amp;</td><td style = \"text-align: left;\">((distanceFromPerson)</td><td style = \"text-align: left;\">&lt;</td><td style = \"text-align: left;\">(7))},{ending:((distanceFromSurfaceS3Point)</td><td style = \"text-align: left;\">&lt;</td><td style = \"text-align: left;\">(6))</td><td style = \"text-align: left;\">&amp;&amp;</td><td style = \"text-align: left;\">((distanceFromStartPoint)</td><td style = \"text-align: left;\">&gt;</td><td style = \"text-align: left;\">(distanceFromStartPoint))},distortPersonSector([1.49-1.49])ConditionBasedActivation:{starting:((distanceFromSurfaceS2Point)</td><td style = \"text-align: left;\">&gt;</td><td style = \"text-align: left;\">(15))</td><td style = \"text-align: left;\">||</td><td style = \"text-align: left;\">((distanceFromStartPoint)</td><td style = \"text-align: left;\">&lt;</td><td style = \"text-align: left;\">(19))},{ending:((distanceFromSurfaceS3Point)</td><td style = \"text-align: left;\">&gt;</td><td style = \"text-align: left;\">(16))</td><td style = \"text-align: left;\">&amp;&amp;</td><td style = \"text-align: left;\">((distanceFromPerson)</td><td style = \"text-align: left;\">&gt;</td><td style = \"text-align: left;\">(distanceFromPerson))},</td></tr><tr><td class = \"rowNumber\" style = \"font-weight: bold; text-align: right;\">7</td><td style = \"text-align: left;\">Test:Test_001_18_11_2022_19_05_10</td><td style = \"text-align: left;\">10.8</td><td style = \"text-align: left;\">0.02</td><td style = \"text-align: left;\">0.0</td><td style = \"text-align: left;\">0.28</td><td style = \"text-align: left;\">0.0</td><td style = \"text-align: left;\">0.0</td><td style = \"text-align: left;\">81.07</td><td style = \"text-align: left;\">2:personDetectionPacketLoss([0.42-0.63])ConditionBasedActivation:{starting:((distanceFromPerson)</td><td style = \"text-align: left;\">&lt;</td><td style = \"text-align: left;\">(distanceFromSurfaceS3Point))</td><td style = \"text-align: left;\">&amp;&amp;</td><td style = \"text-align: left;\">((distanceFromPerson)</td><td style = \"text-align: left;\">&lt;</td><td style = \"text-align: left;\">(distanceFromPerson))},{ending:((distanceFromStartPoint)</td><td style = \"text-align: left;\">&gt;</td><td style = \"text-align: left;\">(5))</td><td style = \"text-align: left;\">||</td><td style = \"text-align: left;\">((distanceFromSurfaceS3Point)</td><td style = \"text-align: left;\">&gt;</td><td style = \"text-align: left;\">(distanceFromSurfaceS3Point))},personDetectionPacketLossAll([0.00-0.00])ConditionBasedActivation:{starting:((distanceFromStartPoint)</td><td style = \"text-align: left;\">&gt;</td><td style = \"text-align: left;\">(distanceFromSurfaceS1Point))</td><td style = \"text-align: left;\">||</td><td style = \"text-align: left;\">((distanceFromSurfaceS3Point)</td><td style = \"text-align: left;\">&gt;</td><td style = \"text-align: left;\">(19))},{ending:((distanceFromSurfaceS2Point)</td><td style = \"text-align: left;\">&gt;</td><td style = \"text-align: left;\">(distanceFromSurfaceS2Point))</td><td style = \"text-align: left;\">&amp;&amp;</td><td style = \"text-align: left;\">((distanceFromPerson)</td><td style = \"text-align: left;\">&lt;</td><td style = \"text-align: left;\">(4))},</td></tr><tr><td class = \"rowNumber\" style = \"font-weight: bold; text-align: right;\">8</td><td style = \"text-align: left;\">Test:Test_999_21_11_2022_01_45_56</td><td style = \"text-align: left;\">2.16</td><td style = \"text-align: left;\">19.33</td><td style = \"text-align: left;\">1.54</td><td style = \"text-align: left;\">7.36</td><td style = \"text-align: left;\">14.93</td><td style = \"text-align: left;\">11.93</td><td style = \"text-align: left;\">154.13</td><td style = \"text-align: left;\">2:personDetectionPacketLossAll([0.00-0.00])ConditionBasedActivation:{starting:((distanceFromSurfaceS3Point)</td><td style = \"text-align: left;\">&gt;</td><td style = \"text-align: left;\">(distanceFromSurfaceS2Point))</td><td style = \"text-align: left;\">&amp;&amp;</td><td style = \"text-align: left;\">((distanceFromSurfaceS3Point)</td><td style = \"text-align: left;\">&lt;</td><td style = \"text-align: left;\">(15))},{ending:((distanceFromSurfaceS3Point)</td><td style = \"text-align: left;\">&lt;</td><td style = \"text-align: left;\">(4))</td><td style = \"text-align: left;\">&amp;&amp;</td><td style = \"text-align: left;\">((distanceFromStartPoint)</td><td style = \"text-align: left;\">&lt;</td><td style = \"text-align: left;\">(distanceFromSurfaceS3Point))},distortPersonSector([1.49-1.49])ConditionBasedActivation:{starting:((distanceFromSurfaceS2Point)</td><td style = \"text-align: left;\">&gt;</td><td style = \"text-align: left;\">(15))</td><td style = \"text-align: left;\">||</td><td style = \"text-align: left;\">((distanceFromStartPoint)</td><td style = \"text-align: left;\">&lt;</td><td style = \"text-align: left;\">(2))},{ending:((distanceFromSurfaceS3Point)</td><td style = \"text-align: left;\">&gt;</td><td style = \"text-align: left;\">(16))</td><td style = \"text-align: left;\">||</td><td style = \"text-align: left;\">((distanceFromPerson)</td><td style = \"text-align: left;\">&gt;</td><td style = \"text-align: left;\">(distanceFromPerson))},</td></tr><tr><td class = \"rowNumber\" style = \"font-weight: bold; text-align: right;\">9</td><td style = \"text-align: left;\">Test:Test_785_20_11_2022_12_59_49</td><td style = \"text-align: left;\">3.01</td><td style = \"text-align: left;\">12.27</td><td style = \"text-align: left;\">0.69</td><td style = \"text-align: left;\">12.61</td><td style = \"text-align: left;\">4.76</td><td style = \"text-align: left;\">1.76</td><td style = \"text-align: left;\">143.14</td><td style = \"text-align: left;\">2:distortPersonSector([-1.30--1.28])ConditionBasedActivation:{starting:((distanceFromSurfaceS3Point)</td><td style = \"text-align: left;\">&lt;</td><td style = \"text-align: left;\">(distanceFromSurfaceS1Point))</td><td style = \"text-align: left;\">||</td><td style = \"text-align: left;\">((distanceFromPerson)</td><td style = \"text-align: left;\">&gt;</td><td style = \"text-align: left;\">(distanceFromSurfaceS2Point))},{ending:((distanceFromPerson)</td><td style = \"text-align: left;\">&lt;</td><td style = \"text-align: left;\">(distanceFromPerson))</td><td style = \"text-align: left;\">&amp;&amp;</td><td style = \"text-align: left;\">((distanceFromStartPoint)</td><td style = \"text-align: left;\">&lt;</td><td style = \"text-align: left;\">(distanceFromSurfaceS1Point))},personDetectionPacketLossAll([0.00-0.00])ConditionBasedActivation:{starting:((distanceFromStartPoint)</td><td style = \"text-align: left;\">&gt;</td><td style = \"text-align: left;\">(15))</td><td style = \"text-align: left;\">&amp;&amp;</td><td style = \"text-align: left;\">((distanceFromSurfaceS2Point)</td><td style = \"text-align: left;\">&lt;</td><td style = \"text-align: left;\">(15))},{ending:((distanceFromStartPoint)</td><td style = \"text-align: left;\">&lt;</td><td style = \"text-align: left;\">(4))</td><td style = \"text-align: left;\">&amp;&amp;</td><td style = \"text-align: left;\">((distanceFromStartPoint)</td><td style = \"text-align: left;\">&lt;</td><td style = \"text-align: left;\">(distanceFromStartPoint))},</td></tr><tr><td class = \"rowNumber\" style = \"font-weight: bold; text-align: right;\">10</td><td style = \"text-align: left;\">Test:Test_822_20_11_2022_15_22_01</td><td style = \"text-align: left;\">2.82</td><td style = \"text-align: left;\">21.05</td><td style = \"text-align: left;\">0.88</td><td style = \"text-align: left;\">11.58</td><td style = \"text-align: left;\">7.39</td><td style = \"text-align: left;\">4.39</td><td style = \"text-align: left;\">58.03</td><td style = \"text-align: left;\">2:distortPersonSector([1.16-1.35])ConditionBasedActivation:{starting:((distanceFromPerson)</td><td style = \"text-align: left;\">&gt;</td><td style = \"text-align: left;\">(distanceFromSurfaceS1Point))</td><td style = \"text-align: left;\">||</td><td style = \"text-align: left;\">((distanceFromStartPoint)</td><td style = \"text-align: left;\">&gt;</td><td style = \"text-align: left;\">(distanceFromSurfaceS3Point))},{ending:((distanceFromSurfaceS3Point)</td><td style = \"text-align: left;\">&lt;</td><td style = \"text-align: left;\">(distanceFromPerson))</td><td style = \"text-align: left;\">&amp;&amp;</td><td style = \"text-align: left;\">((distanceFromSurfaceS2Point)</td><td style = \"text-align: left;\">&gt;</td><td style = \"text-align: left;\">(distanceFromPerson))},personDetectionPacketLossAll([0.00-0.00])ConditionBasedActivation:{starting:((distanceFromSurfaceS3Point)</td><td style = \"text-align: left;\">&gt;</td><td style = \"text-align: left;\">(distanceFromSurfaceS2Point))</td><td style = \"text-align: left;\">&amp;&amp;</td><td style = \"text-align: left;\">((distanceFromSurfaceS2Point)</td><td style = \"text-align: left;\">&lt;</td><td style = \"text-align: left;\">(15))},{ending:((distanceFromSurfaceS3Point)</td><td style = \"text-align: left;\">&lt;</td><td style = \"text-align: left;\">(4))</td><td style = \"text-align: left;\">&amp;&amp;</td><td style = \"text-align: left;\">((distanceFromStartPoint)</td><td style = \"text-align: left;\">&lt;</td><td style = \"text-align: left;\">(distanceFromStartPoint))},</td></tr><tr><td class = \"rowNumber\" style = \"font-weight: bold; text-align: right;\">11</td><td style = \"text-align: left;\">Test:Test_905_20_11_2022_20_11_33</td><td style = \"text-align: left;\">0.0</td><td style = \"text-align: left;\">20.26</td><td style = \"text-align: left;\">6.03</td><td style = \"text-align: left;\">8.64</td><td style = \"text-align: left;\">16.92</td><td style = \"text-align: left;\">13.92</td><td style = \"text-align: left;\">114.91</td><td style = \"text-align: left;\">1:distortPersonSector([1.41-1.45])ConditionBasedActivation:{starting:((distanceFromStartPoint)</td><td style = \"text-align: left;\">&gt;</td><td style = \"text-align: left;\">(distanceFromSurfaceS3Point))</td><td style = \"text-align: left;\">||</td><td style = \"text-align: left;\">((distanceFromSurfaceS1Point)</td><td style = \"text-align: left;\">&lt;</td><td style = \"text-align: left;\">(9))},{ending:((distanceFromSurfaceS2Point)</td><td style = \"text-align: left;\">&lt;</td><td style = \"text-align: left;\">(distanceFromPerson))</td><td style = \"text-align: left;\">&amp;&amp;</td><td style = \"text-align: left;\">((distanceFromPerson)</td><td style = \"text-align: left;\">&gt;</td><td style = \"text-align: left;\">(distanceFromPerson))},</td><td style = \"text-align: left;\"></td><td style = \"text-align: left;\"></td><td style = \"text-align: left;\"></td><td style = \"text-align: left;\"></td><td style = \"text-align: left;\"></td><td style = \"text-align: left;\"></td><td style = \"text-align: left;\"></td><td style = \"text-align: left;\"></td><td style = \"text-align: left;\"></td><td style = \"text-align: left;\"></td><td style = \"text-align: left;\"></td><td style = \"text-align: left;\"></td></tr><tr><td class = \"rowNumber\" style = \"font-weight: bold; text-align: right;\">12</td><td style = \"text-align: left;\">Test:Test_805_20_11_2022_14_10_43</td><td style = \"text-align: left;\">5.63</td><td style = \"text-align: left;\">13.07</td><td style = \"text-align: left;\">0.91</td><td style = \"text-align: left;\">0.85</td><td style = \"text-align: left;\">10.92</td><td style = \"text-align: left;\">7.92</td><td style = \"text-align: left;\">197.26</td><td style = \"text-align: left;\">2:personDetectionPacketLossAll([0.00-0.00])ConditionBasedActivation:{starting:((distanceFromSurfaceS3Point)</td><td style = \"text-align: left;\">&lt;</td><td style = \"text-align: left;\">(distanceFromSurfaceS1Point))</td><td style = \"text-align: left;\">&amp;&amp;</td><td style = \"text-align: left;\">((distanceFromPerson)</td><td style = \"text-align: left;\">&lt;</td><td style = \"text-align: left;\">(7))},{ending:((distanceFromStartPoint)</td><td style = \"text-align: left;\">&gt;</td><td style = \"text-align: left;\">(distanceFromStartPoint))</td><td style = \"text-align: left;\">&amp;&amp;</td><td style = \"text-align: left;\">((distanceFromSurfaceS2Point)</td><td style = \"text-align: left;\">&gt;</td><td style = \"text-align: left;\">(distanceFromPerson))},distortPersonSector([1.49-1.49])ConditionBasedActivation:{starting:((distanceFromSurfaceS2Point)</td><td style = \"text-align: left;\">&gt;</td><td style = \"text-align: left;\">(15))</td><td style = \"text-align: left;\">||</td><td style = \"text-align: left;\">((distanceFromStartPoint)</td><td style = \"text-align: left;\">&lt;</td><td style = \"text-align: left;\">(19))},{ending:((distanceFromSurfaceS3Point)</td><td style = \"text-align: left;\">&gt;</td><td style = \"text-align: left;\">(16))</td><td style = \"text-align: left;\">||</td><td style = \"text-align: left;\">((distanceFromPerson)</td><td style = \"text-align: left;\">&gt;</td><td style = \"text-align: left;\">(distanceFromPerson))},</td></tr><tr><td class = \"rowNumber\" style = \"font-weight: bold; text-align: right;\">13</td><td style = \"text-align: left;\">Test:Test_864_20_11_2022_17_45_55</td><td style = \"text-align: left;\">3.08</td><td style = \"text-align: left;\">20.5</td><td style = \"text-align: left;\">0.62</td><td style = \"text-align: left;\">12.88</td><td style = \"text-align: left;\">0.16</td><td style = \"text-align: left;\">0.0</td><td style = \"text-align: left;\">20.84</td><td style = \"text-align: left;\">1:personDetectionPacketLossAll([0.00-0.00])ConditionBasedActivation:{starting:((distanceFromSurfaceS3Point)</td><td style = \"text-align: left;\">&gt;</td><td style = \"text-align: left;\">(distanceFromSurfaceS2Point))</td><td style = \"text-align: left;\">&amp;&amp;</td><td style = \"text-align: left;\">((distanceFromSurfaceS3Point)</td><td style = \"text-align: left;\">&lt;</td><td style = \"text-align: left;\">(15))},{ending:((distanceFromSurfaceS3Point)</td><td style = \"text-align: left;\">&lt;</td><td style = \"text-align: left;\">(4))</td><td style = \"text-align: left;\">&amp;&amp;</td><td style = \"text-align: left;\">((distanceFromStartPoint)</td><td style = \"text-align: left;\">&lt;</td><td style = \"text-align: left;\">(distanceFromStartPoint))},</td><td style = \"text-align: left;\"></td><td style = \"text-align: left;\"></td><td style = \"text-align: left;\"></td><td style = \"text-align: left;\"></td><td style = \"text-align: left;\"></td><td style = \"text-align: left;\"></td><td style = \"text-align: left;\"></td><td style = \"text-align: left;\"></td><td style = \"text-align: left;\"></td><td style = \"text-align: left;\"></td><td style = \"text-align: left;\"></td><td style = \"text-align: left;\"></td></tr><tr><td class = \"rowNumber\" style = \"font-weight: bold; text-align: right;\">14</td><td style = \"text-align: left;\">Test:Test_832_20_11_2022_15_57_50</td><td style = \"text-align: left;\">0.0</td><td style = \"text-align: left;\">21.66</td><td style = \"text-align: left;\">5.92</td><td style = \"text-align: left;\">11.43</td><td style = \"text-align: left;\">9.27</td><td style = \"text-align: left;\">6.27</td><td style = \"text-align: left;\">36.19</td><td style = \"text-align: left;\">1:distortPersonSector([1.47-1.49])ConditionBasedActivation:{starting:((distanceFromSurfaceS3Point)</td><td style = \"text-align: left;\">&lt;</td><td style = \"text-align: left;\">(8))</td><td style = \"text-align: left;\">||</td><td style = \"text-align: left;\">((distanceFromSurfaceS2Point)</td><td style = \"text-align: left;\">&gt;</td><td style = \"text-align: left;\">(distanceFromSurfaceS2Point))},{ending:((distanceFromSurfaceS1Point)</td><td style = \"text-align: left;\">&lt;</td><td style = \"text-align: left;\">(distanceFromPerson))</td><td style = \"text-align: left;\">&amp;&amp;</td><td style = \"text-align: left;\">((distanceFromSurfaceS3Point)</td><td style = \"text-align: left;\">&lt;</td><td style = \"text-align: left;\">(distanceFromPerson))},</td><td style = \"text-align: left;\"></td><td style = \"text-align: left;\"></td><td style = \"text-align: left;\"></td><td style = \"text-align: left;\"></td><td style = \"text-align: left;\"></td><td style = \"text-align: left;\"></td><td style = \"text-align: left;\"></td><td style = \"text-align: left;\"></td><td style = \"text-align: left;\"></td><td style = \"text-align: left;\"></td><td style = \"text-align: left;\"></td><td style = \"text-align: left;\"></td></tr><tr><td class = \"rowNumber\" style = \"font-weight: bold; text-align: right;\">15</td><td style = \"text-align: left;\">Test:Test_963_20_11_2022_23_53_24</td><td style = \"text-align: left;\">2.45</td><td style = \"text-align: left;\">19.96</td><td style = \"text-align: left;\">1.25</td><td style = \"text-align: left;\">8.33</td><td style = \"text-align: left;\">12.85</td><td style = \"text-align: left;\">9.85</td><td style = \"text-align: left;\">135.17</td><td style = \"text-align: left;\">2:distortPersonSector([1.16-1.35])ConditionBasedActivation:{starting:((distanceFromStartPoint)</td><td style = \"text-align: left;\">&gt;</td><td style = \"text-align: left;\">(distanceFromPerson))</td><td style = \"text-align: left;\">||</td><td style = \"text-align: left;\">((distanceFromStartPoint)</td><td style = \"text-align: left;\">&gt;</td><td style = \"text-align: left;\">(distanceFromSurfaceS3Point))},{ending:(distanceFromStartPoint)</td><td style = \"text-align: left;\">&gt;</td><td style = \"text-align: left;\">(distanceFromStartPoint)},personDetectionPacketLossAll([0.00-0.00])ConditionBasedActivation:{starting:((distanceFromSurfaceS3Point)</td><td style = \"text-align: left;\">&gt;</td><td style = \"text-align: left;\">(distanceFromSurfaceS2Point))</td><td style = \"text-align: left;\">&amp;&amp;</td><td style = \"text-align: left;\">((distanceFromSurfaceS2Point)</td><td style = \"text-align: left;\">&lt;</td><td style = \"text-align: left;\">(15))},{ending:((distanceFromSurfaceS3Point)</td><td style = \"text-align: left;\">&lt;</td><td style = \"text-align: left;\">(4))</td><td style = \"text-align: left;\">&amp;&amp;</td><td style = \"text-align: left;\">((distanceFromStartPoint)</td><td style = \"text-align: left;\">&lt;</td><td style = \"text-align: left;\">(distanceFromStartPoint))},</td><td style = \"text-align: left;\"></td><td style = \"text-align: left;\"></td><td style = \"text-align: left;\"></td><td style = \"text-align: left;\"></td></tr><tr><td class = \"rowNumber\" style = \"font-weight: bold; text-align: right;\">16</td><td style = \"text-align: left;\">Test:Test_883_20_11_2022_18_58_31</td><td style = \"text-align: left;\">2.83</td><td style = \"text-align: left;\">11.64</td><td style = \"text-align: left;\">6.27</td><td style = \"text-align: left;\">0.87</td><td style = \"text-align: left;\">17.83</td><td style = \"text-align: left;\">14.83</td><td style = \"text-align: left;\">245.9</td><td style = \"text-align: left;\">2:distortPersonSector([1.34-1.45])ConditionBasedActivation:{starting:((distanceFromSurfaceS1Point)</td><td style = \"text-align: left;\">&gt;</td><td style = \"text-align: left;\">(distanceFromSurfaceS1Point))</td><td style = \"text-align: left;\">||</td><td style = \"text-align: left;\">((distanceFromSurfaceS2Point)</td><td style = \"text-align: left;\">&lt;</td><td style = \"text-align: left;\">(distanceFromSurfaceS1Point))},{ending:((distanceFromSurfaceS2Point)</td><td style = \"text-align: left;\">&gt;</td><td style = \"text-align: left;\">(distanceFromPerson))</td><td style = \"text-align: left;\">&amp;&amp;</td><td style = \"text-align: left;\">((distanceFromStartPoint)</td><td style = \"text-align: left;\">&gt;</td><td style = \"text-align: left;\">(distanceFromStartPoint))},distortPersonSector([1.21-1.34])ConditionBasedActivation:{starting:((distanceFromSurfaceS1Point)</td><td style = \"text-align: left;\">&lt;</td><td style = \"text-align: left;\">(1))</td><td style = \"text-align: left;\">||</td><td style = \"text-align: left;\">((distanceFromSurfaceS1Point)</td><td style = \"text-align: left;\">&gt;</td><td style = \"text-align: left;\">(2))},{ending:((distanceFromSurfaceS2Point)</td><td style = \"text-align: left;\">&lt;</td><td style = \"text-align: left;\">(distanceFromPerson))</td><td style = \"text-align: left;\">&amp;&amp;</td><td style = \"text-align: left;\">((distanceFromPerson)</td><td style = \"text-align: left;\">&gt;</td><td style = \"text-align: left;\">(2))},</td></tr><tr><td class = \"rowNumber\" style = \"font-weight: bold; text-align: right;\">17</td><td style = \"text-align: left;\">Test:Test_958_20_11_2022_23_16_10</td><td style = \"text-align: left;\">1.95</td><td style = \"text-align: left;\">19.97</td><td style = \"text-align: left;\">1.75</td><td style = \"text-align: left;\">8.5</td><td style = \"text-align: left;\">13.31</td><td style = \"text-align: left;\">10.31</td><td style = \"text-align: left;\">114.16</td><td style = \"text-align: left;\">2:distortPersonSector([1.16-1.35])ConditionBasedActivation:{starting:((distanceFromPerson)</td><td style = \"text-align: left;\">&gt;</td><td style = \"text-align: left;\">(distanceFromSurfaceS1Point))</td><td style = \"text-align: left;\">||</td><td style = \"text-align: left;\">((distanceFromStartPoint)</td><td style = \"text-align: left;\">&gt;</td><td style = \"text-align: left;\">(distanceFromSurfaceS3Point))},{ending:((distanceFromStartPoint)</td><td style = \"text-align: left;\">&gt;</td><td style = \"text-align: left;\">(distanceFromStartPoint))</td><td style = \"text-align: left;\">&amp;&amp;</td><td style = \"text-align: left;\">((distanceFromSurfaceS2Point)</td><td style = \"text-align: left;\">&lt;</td><td style = \"text-align: left;\">(distanceFromPerson))},personDetectionPacketLossAll([0.00-0.00])ConditionBasedActivation:{starting:((distanceFromStartPoint)</td><td style = \"text-align: left;\">&gt;</td><td style = \"text-align: left;\">(15))</td><td style = \"text-align: left;\">&amp;&amp;</td><td style = \"text-align: left;\">((distanceFromSurfaceS2Point)</td><td style = \"text-align: left;\">&lt;</td><td style = \"text-align: left;\">(15))},{ending:((distanceFromSurfaceS3Point)</td><td style = \"text-align: left;\">&lt;</td><td style = \"text-align: left;\">(4))</td><td style = \"text-align: left;\">&amp;&amp;</td><td style = \"text-align: left;\">((distanceFromStartPoint)</td><td style = \"text-align: left;\">&lt;</td><td style = \"text-align: left;\">(distanceFromStartPoint))},</td></tr><tr><td class = \"rowNumber\" style = \"font-weight: bold; text-align: right;\">18</td><td style = \"text-align: left;\">Test:Test_631_20_11_2022_04_19_51</td><td style = \"text-align: left;\">2.04</td><td style = \"text-align: left;\">19.81</td><td style = \"text-align: left;\">1.66</td><td style = \"text-align: left;\">9.01</td><td style = \"text-align: left;\">8.25</td><td style = \"text-align: left;\">5.25</td><td style = \"text-align: left;\">99.92</td><td style = \"text-align: left;\">2:distortPersonSector([0.90-1.18])ConditionBasedActivation:{starting:((distanceFromPerson)</td><td style = \"text-align: left;\">&gt;</td><td style = \"text-align: left;\">(distanceFromSurfaceS1Point))</td><td style = \"text-align: left;\">||</td><td style = \"text-align: left;\">((distanceFromSurfaceS2Point)</td><td style = \"text-align: left;\">&lt;</td><td style = \"text-align: left;\">(distanceFromSurfaceS2Point))},{ending:((distanceFromSurfaceS2Point)</td><td style = \"text-align: left;\">&lt;</td><td style = \"text-align: left;\">(distanceFromPerson))</td><td style = \"text-align: left;\">&amp;&amp;</td><td style = \"text-align: left;\">((distanceFromSurfaceS2Point)</td><td style = \"text-align: left;\">&gt;</td><td style = \"text-align: left;\">(distanceFromPerson))},personDetectionPacketLossAll([0.00-0.00])ConditionBasedActivation:{starting:((distanceFromStartPoint)</td><td style = \"text-align: left;\">&gt;</td><td style = \"text-align: left;\">(15))</td><td style = \"text-align: left;\">&amp;&amp;</td><td style = \"text-align: left;\">((distanceFromSurfaceS2Point)</td><td style = \"text-align: left;\">&lt;</td><td style = \"text-align: left;\">(15))},{ending:((distanceFromSurfaceS3Point)</td><td style = \"text-align: left;\">&lt;</td><td style = \"text-align: left;\">(1))</td><td style = \"text-align: left;\">&amp;&amp;</td><td style = \"text-align: left;\">((distanceFromStartPoint)</td><td style = \"text-align: left;\">&lt;</td><td style = \"text-align: left;\">(distanceFromPerson))},</td></tr><tr><td class = \"rowNumber\" style = \"font-weight: bold; text-align: right;\">19</td><td style = \"text-align: left;\">Test:Test_877_20_11_2022_18_22_09</td><td style = \"text-align: left;\">0.0</td><td style = \"text-align: left;\">22.29</td><td style = \"text-align: left;\">5.86</td><td style = \"text-align: left;\">11.34</td><td style = \"text-align: left;\">11.15</td><td style = \"text-align: left;\">8.15</td><td style = \"text-align: left;\">67.21</td><td style = \"text-align: left;\">1:distortPersonSector([1.47-1.50])ConditionBasedActivation:{starting:((distanceFromPerson)</td><td style = \"text-align: left;\">&gt;</td><td style = \"text-align: left;\">(6))</td><td style = \"text-align: left;\">||</td><td style = \"text-align: left;\">((distanceFromStartPoint)</td><td style = \"text-align: left;\">&gt;</td><td style = \"text-align: left;\">(distanceFromSurfaceS3Point))},{ending:((distanceFromSurfaceS3Point)</td><td style = \"text-align: left;\">&lt;</td><td style = \"text-align: left;\">(distanceFromPerson))</td><td style = \"text-align: left;\">&amp;&amp;</td><td style = \"text-align: left;\">((distanceFromSurfaceS2Point)</td><td style = \"text-align: left;\">&gt;</td><td style = \"text-align: left;\">(distanceFromPerson))},</td><td style = \"text-align: left;\"></td><td style = \"text-align: left;\"></td><td style = \"text-align: left;\"></td><td style = \"text-align: left;\"></td><td style = \"text-align: left;\"></td><td style = \"text-align: left;\"></td><td style = \"text-align: left;\"></td><td style = \"text-align: left;\"></td><td style = \"text-align: left;\"></td><td style = \"text-align: left;\"></td><td style = \"text-align: left;\"></td><td style = \"text-align: left;\"></td></tr><tr><td class = \"rowNumber\" style = \"font-weight: bold; text-align: right;\">20</td><td style = \"text-align: left;\">Test:Test_983_21_11_2022_01_08_19</td><td style = \"text-align: left;\">4.61</td><td style = \"text-align: left;\">12.25</td><td style = \"text-align: left;\">0.32</td><td style = \"text-align: left;\">2.46</td><td style = \"text-align: left;\">0.09</td><td style = \"text-align: left;\">0.0</td><td style = \"text-align: left;\">63.65</td><td style = \"text-align: left;\">1:personDetectionPacketLossAll([0.00-0.00])ConditionBasedActivation:{starting:((distanceFromSurfaceS3Point)</td><td style = \"text-align: left;\">&lt;</td><td style = \"text-align: left;\">(distanceFromSurfaceS1Point))</td><td style = \"text-align: left;\">&amp;&amp;</td><td style = \"text-align: left;\">((distanceFromPerson)</td><td style = \"text-align: left;\">&lt;</td><td style = \"text-align: left;\">(7))},{ending:((distanceFromSurfaceS3Point)</td><td style = \"text-align: left;\">&lt;</td><td style = \"text-align: left;\">(1))</td><td style = \"text-align: left;\">&amp;&amp;</td><td style = \"text-align: left;\">((distanceFromStartPoint)</td><td style = \"text-align: left;\">&gt;</td><td style = \"text-align: left;\">(distanceFromPerson))},</td><td style = \"text-align: left;\"></td><td style = \"text-align: left;\"></td><td style = \"text-align: left;\"></td><td style = \"text-align: left;\"></td><td style = \"text-align: left;\"></td><td style = \"text-align: left;\"></td><td style = \"text-align: left;\"></td><td style = \"text-align: left;\"></td><td style = \"text-align: left;\"></td><td style = \"text-align: left;\"></td><td style = \"text-align: left;\"></td><td style = \"text-align: left;\"></td></tr></tbody></table></div>"
      ],
      "text/latex": [
       "\\begin{tabular}{r|cccc}\n",
       "\t& Test & uvDisinfectionSurface & uvDisinfectionSurface\\_s1 & \\\\\n",
       "\t\\hline\n",
       "\t& Any & Any & Any & \\\\\n",
       "\t\\hline\n",
       "\t1 & Test:Test\\_455\\_19\\_11\\_2022\\_18\\_21\\_08 & 4.72 & 10.88 & $\\dots$ \\\\\n",
       "\t2 & Test:Test\\_774\\_20\\_11\\_2022\\_12\\_24\\_28 & 4.74 & 10.67 & $\\dots$ \\\\\n",
       "\t3 & Test:Test\\_812\\_20\\_11\\_2022\\_14\\_46\\_18 & 1.49 & 21.8 & $\\dots$ \\\\\n",
       "\t4 & Test:Test\\_957\\_20\\_11\\_2022\\_23\\_16\\_10 & 11.1 & 0.0 & $\\dots$ \\\\\n",
       "\t5 & Test:Test\\_992\\_21\\_11\\_2022\\_01\\_45\\_56 & 0.0 & 20.08 & $\\dots$ \\\\\n",
       "\t6 & Test:Test\\_603\\_20\\_11\\_2022\\_02\\_38\\_16 & 5.83 & 13.14 & $\\dots$ \\\\\n",
       "\t7 & Test:Test\\_001\\_18\\_11\\_2022\\_19\\_05\\_10 & 10.8 & 0.02 & $\\dots$ \\\\\n",
       "\t8 & Test:Test\\_999\\_21\\_11\\_2022\\_01\\_45\\_56 & 2.16 & 19.33 & $\\dots$ \\\\\n",
       "\t9 & Test:Test\\_785\\_20\\_11\\_2022\\_12\\_59\\_49 & 3.01 & 12.27 & $\\dots$ \\\\\n",
       "\t10 & Test:Test\\_822\\_20\\_11\\_2022\\_15\\_22\\_01 & 2.82 & 21.05 & $\\dots$ \\\\\n",
       "\t11 & Test:Test\\_905\\_20\\_11\\_2022\\_20\\_11\\_33 & 0.0 & 20.26 & $\\dots$ \\\\\n",
       "\t12 & Test:Test\\_805\\_20\\_11\\_2022\\_14\\_10\\_43 & 5.63 & 13.07 & $\\dots$ \\\\\n",
       "\t13 & Test:Test\\_864\\_20\\_11\\_2022\\_17\\_45\\_55 & 3.08 & 20.5 & $\\dots$ \\\\\n",
       "\t14 & Test:Test\\_832\\_20\\_11\\_2022\\_15\\_57\\_50 & 0.0 & 21.66 & $\\dots$ \\\\\n",
       "\t15 & Test:Test\\_963\\_20\\_11\\_2022\\_23\\_53\\_24 & 2.45 & 19.96 & $\\dots$ \\\\\n",
       "\t16 & Test:Test\\_883\\_20\\_11\\_2022\\_18\\_58\\_31 & 2.83 & 11.64 & $\\dots$ \\\\\n",
       "\t17 & Test:Test\\_958\\_20\\_11\\_2022\\_23\\_16\\_10 & 1.95 & 19.97 & $\\dots$ \\\\\n",
       "\t18 & Test:Test\\_631\\_20\\_11\\_2022\\_04\\_19\\_51 & 2.04 & 19.81 & $\\dots$ \\\\\n",
       "\t19 & Test:Test\\_877\\_20\\_11\\_2022\\_18\\_22\\_09 & 0.0 & 22.29 & $\\dots$ \\\\\n",
       "\t20 & Test:Test\\_983\\_21\\_11\\_2022\\_01\\_08\\_19 & 4.61 & 12.25 & $\\dots$ \\\\\n",
       "\\end{tabular}\n"
      ],
      "text/plain": [
       "\u001b[1m20×33 DataFrame\u001b[0m\n",
       "\u001b[1m Row \u001b[0m│\u001b[1m Test                              \u001b[0m\u001b[1m uvDisinfectionSurface \u001b[0m\u001b[1m uvDisinfectio\u001b[0m ⋯\n",
       "     │\u001b[90m Any                               \u001b[0m\u001b[90m Any                   \u001b[0m\u001b[90m Any          \u001b[0m ⋯\n",
       "─────┼──────────────────────────────────────────────────────────────────────────\n",
       "   1 │ Test:Test_455_19_11_2022_18_21_08  4.72                   10.88         ⋯\n",
       "   2 │ Test:Test_774_20_11_2022_12_24_28  4.74                   10.67\n",
       "   3 │ Test:Test_812_20_11_2022_14_46_18  1.49                   21.8\n",
       "   4 │ Test:Test_957_20_11_2022_23_16_10  11.1                   0.0\n",
       "   5 │ Test:Test_992_21_11_2022_01_45_56  0.0                    20.08         ⋯\n",
       "   6 │ Test:Test_603_20_11_2022_02_38_16  5.83                   13.14\n",
       "   7 │ Test:Test_001_18_11_2022_19_05_10  10.8                   0.02\n",
       "   8 │ Test:Test_999_21_11_2022_01_45_56  2.16                   19.33\n",
       "   9 │ Test:Test_785_20_11_2022_12_59_49  3.01                   12.27         ⋯\n",
       "  10 │ Test:Test_822_20_11_2022_15_22_01  2.82                   21.05\n",
       "  11 │ Test:Test_905_20_11_2022_20_11_33  0.0                    20.26\n",
       "  12 │ Test:Test_805_20_11_2022_14_10_43  5.63                   13.07\n",
       "  13 │ Test:Test_864_20_11_2022_17_45_55  3.08                   20.5          ⋯\n",
       "  14 │ Test:Test_832_20_11_2022_15_57_50  0.0                    21.66\n",
       "  15 │ Test:Test_963_20_11_2022_23_53_24  2.45                   19.96\n",
       "  16 │ Test:Test_883_20_11_2022_18_58_31  2.83                   11.64\n",
       "  17 │ Test:Test_958_20_11_2022_23_16_10  1.95                   19.97         ⋯\n",
       "  18 │ Test:Test_631_20_11_2022_04_19_51  2.04                   19.81\n",
       "  19 │ Test:Test_877_20_11_2022_18_22_09  0.0                    22.29\n",
       "  20 │ Test:Test_983_21_11_2022_01_08_19  4.61                   12.25\n",
       "\u001b[36m                                                              31 columns omitted\u001b[0m"
      ]
     },
     "execution_count": 57,
     "metadata": {},
     "output_type": "execute_result"
    }
   ],
   "source": [
    "cdatraw, cheader = readdlm(\"locomotec-res-condfuzz\", header=true)\n",
    "condfuzz_data = DataFrame(cdatraw, vec(cheader), makeunique=true)"
   ]
  },
  {
   "cell_type": "code",
   "execution_count": 62,
   "id": "bebbc327",
   "metadata": {},
   "outputs": [
    {
     "data": {
      "application/vnd.plotly.v1+json": {
       "config": {
        "editable": false,
        "responsive": true,
        "scrollZoom": true,
        "showLink": false,
        "staticPlot": false
       },
       "data": [
        {
         "marker": {
          "size": 3
         },
         "mode": "markers",
         "opacity": 0.5,
         "type": "mesh3d",
         "x": [
          0,
          9.72,
          11.1,
          0,
          0,
          0,
          7.6,
          7,
          2.15,
          6.75,
          4.54,
          0.58,
          2.87,
          3.17,
          6.13,
          2.66,
          9.1,
          5.28,
          2.99,
          6.2
         ],
         "xaxis": "x",
         "y": [
          0,
          0.08,
          0,
          0,
          15.54,
          10.96,
          0.54,
          7.3,
          8.91,
          7.48,
          12.44,
          11.66,
          5.89,
          0,
          4.3,
          12.82,
          1.02,
          1.72,
          2.91,
          4.05
         ],
         "yaxis": "y",
         "z": [
          0.08,
          522.88,
          146.46,
          0.08,
          213.78,
          105.22,
          264.5,
          372.98,
          159.14,
          447.02,
          320.98,
          196.26,
          86.6,
          42.78,
          307.49,
          211.15,
          316.63,
          138.41,
          129.35,
          161.38
         ]
        }
       ],
       "frames": [],
       "layout": {
        "legend": {
         "tracegroupgap": 0
        },
        "margin": {
         "b": 50,
         "l": 50,
         "r": 50,
         "t": 60
        },
        "scene": {
         "xaxis": {
          "nticks": 4,
          "title": "UVC Missed Surface<br>Disinfection"
         },
         "yaxis": {
          "nticks": 4,
          "title": "UV Excess <br> Human <br> Exposure"
         },
         "zaxis": {
          "nticks": 4,
          "title": "Fuzzing Operation<br> Times"
         }
        },
        "template": {
         "data": {
          "bar": [
           {
            "error_x": {
             "color": "#2a3f5f"
            },
            "error_y": {
             "color": "#2a3f5f"
            },
            "marker": {
             "line": {
              "color": "#E5ECF6",
              "width": 0.5
             }
            },
            "type": "bar"
           }
          ],
          "barpolar": [
           {
            "marker": {
             "line": {
              "color": "#E5ECF6",
              "width": 0.5
             }
            },
            "type": "barpolar"
           }
          ],
          "carpet": [
           {
            "aaxis": {
             "endlinecolor": "#2a3f5f",
             "gridcolor": "white",
             "linecolor": "white",
             "minorgridcolor": "white",
             "startlinecolor": "#2a3f5f"
            },
            "baxis": {
             "endlinecolor": "#2a3f5f",
             "gridcolor": "white",
             "linecolor": "white",
             "minorgridcolor": "white",
             "startlinecolor": "#2a3f5f"
            },
            "type": "carpet"
           }
          ],
          "choropleth": [
           {
            "colorbar": {
             "outlinewidth": 0,
             "ticks": ""
            },
            "type": "choropleth"
           }
          ],
          "contour": [
           {
            "colorbar": {
             "outlinewidth": 0,
             "ticks": ""
            },
            "colorscale": [
             [
              0,
              "#0d0887"
             ],
             [
              0.1111111111111111,
              "#46039f"
             ],
             [
              0.2222222222222222,
              "#7201a8"
             ],
             [
              0.3333333333333333,
              "#9c179e"
             ],
             [
              0.4444444444444444,
              "#bd3786"
             ],
             [
              0.5555555555555556,
              "#d8576b"
             ],
             [
              0.6666666666666666,
              "#ed7953"
             ],
             [
              0.7777777777777778,
              "#fb9f3a"
             ],
             [
              0.8888888888888888,
              "#fdca26"
             ],
             [
              1,
              "#f0f921"
             ]
            ],
            "type": "contour"
           }
          ],
          "contourcarpet": [
           {
            "colorbar": {
             "outlinewidth": 0,
             "ticks": ""
            },
            "type": "contourcarpet"
           }
          ],
          "heatmap": [
           {
            "colorbar": {
             "outlinewidth": 0,
             "ticks": ""
            },
            "colorscale": [
             [
              0,
              "#0d0887"
             ],
             [
              0.1111111111111111,
              "#46039f"
             ],
             [
              0.2222222222222222,
              "#7201a8"
             ],
             [
              0.3333333333333333,
              "#9c179e"
             ],
             [
              0.4444444444444444,
              "#bd3786"
             ],
             [
              0.5555555555555556,
              "#d8576b"
             ],
             [
              0.6666666666666666,
              "#ed7953"
             ],
             [
              0.7777777777777778,
              "#fb9f3a"
             ],
             [
              0.8888888888888888,
              "#fdca26"
             ],
             [
              1,
              "#f0f921"
             ]
            ],
            "type": "heatmap"
           }
          ],
          "heatmapgl": [
           {
            "colorbar": {
             "outlinewidth": 0,
             "ticks": ""
            },
            "colorscale": [
             [
              0,
              "#0d0887"
             ],
             [
              0.1111111111111111,
              "#46039f"
             ],
             [
              0.2222222222222222,
              "#7201a8"
             ],
             [
              0.3333333333333333,
              "#9c179e"
             ],
             [
              0.4444444444444444,
              "#bd3786"
             ],
             [
              0.5555555555555556,
              "#d8576b"
             ],
             [
              0.6666666666666666,
              "#ed7953"
             ],
             [
              0.7777777777777778,
              "#fb9f3a"
             ],
             [
              0.8888888888888888,
              "#fdca26"
             ],
             [
              1,
              "#f0f921"
             ]
            ],
            "type": "heatmapgl"
           }
          ],
          "histogram": [
           {
            "marker": {
             "colorbar": {
              "outlinewidth": 0,
              "ticks": ""
             }
            },
            "type": "histogram"
           }
          ],
          "histogram2d": [
           {
            "colorbar": {
             "outlinewidth": 0,
             "ticks": ""
            },
            "colorscale": [
             [
              0,
              "#0d0887"
             ],
             [
              0.1111111111111111,
              "#46039f"
             ],
             [
              0.2222222222222222,
              "#7201a8"
             ],
             [
              0.3333333333333333,
              "#9c179e"
             ],
             [
              0.4444444444444444,
              "#bd3786"
             ],
             [
              0.5555555555555556,
              "#d8576b"
             ],
             [
              0.6666666666666666,
              "#ed7953"
             ],
             [
              0.7777777777777778,
              "#fb9f3a"
             ],
             [
              0.8888888888888888,
              "#fdca26"
             ],
             [
              1,
              "#f0f921"
             ]
            ],
            "type": "histogram2d"
           }
          ],
          "histogram2dcontour": [
           {
            "colorbar": {
             "outlinewidth": 0,
             "ticks": ""
            },
            "colorscale": [
             [
              0,
              "#0d0887"
             ],
             [
              0.1111111111111111,
              "#46039f"
             ],
             [
              0.2222222222222222,
              "#7201a8"
             ],
             [
              0.3333333333333333,
              "#9c179e"
             ],
             [
              0.4444444444444444,
              "#bd3786"
             ],
             [
              0.5555555555555556,
              "#d8576b"
             ],
             [
              0.6666666666666666,
              "#ed7953"
             ],
             [
              0.7777777777777778,
              "#fb9f3a"
             ],
             [
              0.8888888888888888,
              "#fdca26"
             ],
             [
              1,
              "#f0f921"
             ]
            ],
            "type": "histogram2dcontour"
           }
          ],
          "mesh3d": [
           {
            "colorbar": {
             "outlinewidth": 0,
             "ticks": ""
            },
            "type": "mesh3d"
           }
          ],
          "parcoords": [
           {
            "line": {
             "colorbar": {
              "outlinewidth": 0,
              "ticks": ""
             }
            },
            "type": "parcoords"
           }
          ],
          "pie": [
           {
            "automargin": true,
            "type": "pie"
           }
          ],
          "scatter": [
           {
            "marker": {
             "colorbar": {
              "outlinewidth": 0,
              "ticks": ""
             }
            },
            "type": "scatter"
           }
          ],
          "scatter3d": [
           {
            "line": {
             "colorbar": {
              "outlinewidth": 0,
              "ticks": ""
             }
            },
            "marker": {
             "colorbar": {
              "outlinewidth": 0,
              "ticks": ""
             }
            },
            "type": "scatter3d"
           }
          ],
          "scattercarpet": [
           {
            "marker": {
             "colorbar": {
              "outlinewidth": 0,
              "ticks": ""
             }
            },
            "type": "scattercarpet"
           }
          ],
          "scattergeo": [
           {
            "marker": {
             "colorbar": {
              "outlinewidth": 0,
              "ticks": ""
             }
            },
            "type": "scattergeo"
           }
          ],
          "scattergl": [
           {
            "marker": {
             "colorbar": {
              "outlinewidth": 0,
              "ticks": ""
             }
            },
            "type": "scattergl"
           }
          ],
          "scattermapbox": [
           {
            "marker": {
             "colorbar": {
              "outlinewidth": 0,
              "ticks": ""
             }
            },
            "type": "scattermapbox"
           }
          ],
          "scatterpolar": [
           {
            "marker": {
             "colorbar": {
              "outlinewidth": 0,
              "ticks": ""
             }
            },
            "type": "scatterpolar"
           }
          ],
          "scatterpolargl": [
           {
            "marker": {
             "colorbar": {
              "outlinewidth": 0,
              "ticks": ""
             }
            },
            "type": "scatterpolargl"
           }
          ],
          "scatterternary": [
           {
            "marker": {
             "colorbar": {
              "outlinewidth": 0,
              "ticks": ""
             }
            },
            "type": "scatterternary"
           }
          ],
          "surface": [
           {
            "colorbar": {
             "outlinewidth": 0,
             "ticks": ""
            },
            "colorscale": [
             [
              0,
              "#0d0887"
             ],
             [
              0.1111111111111111,
              "#46039f"
             ],
             [
              0.2222222222222222,
              "#7201a8"
             ],
             [
              0.3333333333333333,
              "#9c179e"
             ],
             [
              0.4444444444444444,
              "#bd3786"
             ],
             [
              0.5555555555555556,
              "#d8576b"
             ],
             [
              0.6666666666666666,
              "#ed7953"
             ],
             [
              0.7777777777777778,
              "#fb9f3a"
             ],
             [
              0.8888888888888888,
              "#fdca26"
             ],
             [
              1,
              "#f0f921"
             ]
            ],
            "type": "surface"
           }
          ],
          "table": [
           {
            "cells": {
             "fill": {
              "color": "#EBF0F8"
             },
             "line": {
              "color": "white"
             }
            },
            "header": {
             "fill": {
              "color": "#C8D4E3"
             },
             "line": {
              "color": "white"
             }
            },
            "type": "table"
           }
          ]
         },
         "layout": {
          "annotationdefaults": {
           "arrowcolor": "#2a3f5f",
           "arrowhead": 0,
           "arrowwidth": 1
          },
          "autotypenumbers": "strict",
          "coloraxis": {
           "colorbar": {
            "outlinewidth": 0,
            "ticks": ""
           }
          },
          "colorscale": {
           "diverging": [
            [
             0,
             "#8e0152"
            ],
            [
             0.1,
             "#c51b7d"
            ],
            [
             0.2,
             "#de77ae"
            ],
            [
             0.3,
             "#f1b6da"
            ],
            [
             0.4,
             "#fde0ef"
            ],
            [
             0.5,
             "#f7f7f7"
            ],
            [
             0.6,
             "#e6f5d0"
            ],
            [
             0.7,
             "#b8e186"
            ],
            [
             0.8,
             "#7fbc41"
            ],
            [
             0.9,
             "#4d9221"
            ],
            [
             1,
             "#276419"
            ]
           ],
           "sequential": [
            [
             0,
             "#0d0887"
            ],
            [
             0.1111111111111111,
             "#46039f"
            ],
            [
             0.2222222222222222,
             "#7201a8"
            ],
            [
             0.3333333333333333,
             "#9c179e"
            ],
            [
             0.4444444444444444,
             "#bd3786"
            ],
            [
             0.5555555555555556,
             "#d8576b"
            ],
            [
             0.6666666666666666,
             "#ed7953"
            ],
            [
             0.7777777777777778,
             "#fb9f3a"
            ],
            [
             0.8888888888888888,
             "#fdca26"
            ],
            [
             1,
             "#f0f921"
            ]
           ],
           "sequentialminus": [
            [
             0,
             "#0d0887"
            ],
            [
             0.1111111111111111,
             "#46039f"
            ],
            [
             0.2222222222222222,
             "#7201a8"
            ],
            [
             0.3333333333333333,
             "#9c179e"
            ],
            [
             0.4444444444444444,
             "#bd3786"
            ],
            [
             0.5555555555555556,
             "#d8576b"
            ],
            [
             0.6666666666666666,
             "#ed7953"
            ],
            [
             0.7777777777777778,
             "#fb9f3a"
            ],
            [
             0.8888888888888888,
             "#fdca26"
            ],
            [
             1,
             "#f0f921"
            ]
           ]
          },
          "colorway": [
           "#636efa",
           "#EF553B",
           "#00cc96",
           "#ab63fa",
           "#FFA15A",
           "#19d3f3",
           "#FF6692",
           "#B6E880",
           "#FF97FF",
           "#FECB52"
          ],
          "font": {
           "color": "#2a3f5f"
          },
          "geo": {
           "bgcolor": "white",
           "lakecolor": "white",
           "landcolor": "#E5ECF6",
           "showlakes": true,
           "showland": true,
           "subunitcolor": "white"
          },
          "hoverlabel": {
           "align": "left"
          },
          "hovermode": "closest",
          "mapbox": {
           "style": "light"
          },
          "paper_bgcolor": "white",
          "plot_bgcolor": "#E5ECF6",
          "polar": {
           "angularaxis": {
            "gridcolor": "white",
            "linecolor": "white",
            "ticks": ""
           },
           "bgcolor": "#E5ECF6",
           "radialaxis": {
            "gridcolor": "white",
            "linecolor": "white",
            "ticks": ""
           }
          },
          "scene": {
           "xaxis": {
            "backgroundcolor": "#E5ECF6",
            "gridcolor": "white",
            "gridwidth": 2,
            "linecolor": "white",
            "showbackground": true,
            "ticks": "",
            "zerolinecolor": "white"
           },
           "yaxis": {
            "backgroundcolor": "#E5ECF6",
            "gridcolor": "white",
            "gridwidth": 2,
            "linecolor": "white",
            "showbackground": true,
            "ticks": "",
            "zerolinecolor": "white"
           },
           "zaxis": {
            "backgroundcolor": "#E5ECF6",
            "gridcolor": "white",
            "gridwidth": 2,
            "linecolor": "white",
            "showbackground": true,
            "ticks": "",
            "zerolinecolor": "white"
           }
          },
          "shapedefaults": {
           "line": {
            "color": "#2a3f5f"
           }
          },
          "ternary": {
           "aaxis": {
            "gridcolor": "white",
            "linecolor": "white",
            "ticks": ""
           },
           "baxis": {
            "gridcolor": "white",
            "linecolor": "white",
            "ticks": ""
           },
           "bgcolor": "#E5ECF6",
           "caxis": {
            "gridcolor": "white",
            "linecolor": "white",
            "ticks": ""
           }
          },
          "title": {
           "x": 0.05
          },
          "xaxis": {
           "automargin": true,
           "gridcolor": "white",
           "linecolor": "white",
           "ticks": "",
           "title": {
            "standoff": 15
           },
           "zerolinecolor": "white",
           "zerolinewidth": 2
          },
          "yaxis": {
           "automargin": true,
           "gridcolor": "white",
           "linecolor": "white",
           "ticks": "",
           "title": {
            "standoff": 15
           },
           "zerolinecolor": "white",
           "zerolinewidth": 2
          }
         }
        },
        "xaxis": {
         "title": {
          "text": "uvMissSurface"
         }
        },
        "yaxis": {
         "title": {
          "text": "uvExcessHuman"
         }
        }
       }
      },
      "text/html": [
       "<div\n",
       "    class=\"webio-mountpoint\"\n",
       "    data-webio-mountpoint=\"17558093584413002187\"\n",
       ">\n",
       "    <script>\n",
       "    (function(){\n",
       "    // Some integrations (namely, IJulia/Jupyter) use an alternate render pathway than\n",
       "    // just putting the html on the page. If WebIO isn't defined, then it's pretty likely\n",
       "    // that we're in one of those situations and the integration just isn't installed\n",
       "    // correctly.\n",
       "    if (typeof window.WebIO === \"undefined\") {\n",
       "        document\n",
       "            .querySelector('[data-webio-mountpoint=\"17558093584413002187\"]')\n",
       "            .innerHTML = (\n",
       "                '<div style=\"padding: 1em; background-color: #f8d6da; border: 1px solid #f5c6cb; font-weight: bold;\">' +\n",
       "                '<p><strong>WebIO not detected.</strong></p>' +\n",
       "                '<p>Please read ' +\n",
       "                '<a href=\"https://juliagizmos.github.io/WebIO.jl/latest/troubleshooting/not-detected/\" target=\"_blank\">the troubleshooting guide</a> ' +\n",
       "                'for more information on how to resolve this issue.</p>' +\n",
       "                '<p><a href=\"https://juliagizmos.github.io/WebIO.jl/latest/troubleshooting/not-detected/\" target=\"_blank\">https://juliagizmos.github.io/WebIO.jl/latest/troubleshooting/not-detected/</a></p>' +\n",
       "                '</div>'\n",
       "            );\n",
       "        return;\n",
       "    }\n",
       "    WebIO.mount(\n",
       "        document.querySelector('[data-webio-mountpoint=\"17558093584413002187\"]'),\n",
       "        {\"props\":{},\"nodeType\":\"Scope\",\"type\":\"node\",\"instanceArgs\":{\"imports\":{\"data\":[{\"name\":\"Plotly\",\"type\":\"js\",\"url\":\"\\/assetserver\\/429c6aaa48eaf0968f6b138e6853f2c80bcaf2c7-plotly.min.js\"},{\"name\":null,\"type\":\"js\",\"url\":\"\\/assetserver\\/94083cb4877671295d0541c18216b0ed75b23eb9-plotly_webio.bundle.js\"}],\"type\":\"async_block\"},\"id\":\"3672915231120927335\",\"handlers\":{\"_toImage\":[\"(function (options){return this.Plotly.toImage(this.plotElem,options).then((function (data){return WebIO.setval({\\\"name\\\":\\\"image\\\",\\\"scope\\\":\\\"3672915231120927335\\\",\\\"id\\\":\\\"370738832356843706\\\",\\\"type\\\":\\\"observable\\\"},data)}))})\"],\"__get_gd_contents\":[\"(function (prop){prop==\\\"data\\\" ? (WebIO.setval({\\\"name\\\":\\\"__gd_contents\\\",\\\"scope\\\":\\\"3672915231120927335\\\",\\\"id\\\":\\\"16031778423085009431\\\",\\\"type\\\":\\\"observable\\\"},this.plotElem.data)) : undefined; return prop==\\\"layout\\\" ? (WebIO.setval({\\\"name\\\":\\\"__gd_contents\\\",\\\"scope\\\":\\\"3672915231120927335\\\",\\\"id\\\":\\\"16031778423085009431\\\",\\\"type\\\":\\\"observable\\\"},this.plotElem.layout)) : undefined})\"],\"_downloadImage\":[\"(function (options){return this.Plotly.downloadImage(this.plotElem,options)})\"],\"_commands\":[\"(function (args){var fn=args.shift(); var elem=this.plotElem; var Plotly=this.Plotly; args.unshift(elem); return Plotly[fn].apply(this,args)})\"]},\"systemjs_options\":null,\"mount_callbacks\":[\"function () {\\n    var handler = ((function (Plotly,PlotlyWebIO){PlotlyWebIO.init(WebIO); var gd=this.dom.querySelector(\\\"#plot-9600a88c-66d8-4da9-b3d2-d9280863b6c9\\\"); this.plotElem=gd; this.Plotly=Plotly; (window.Blink!==undefined) ? (gd.style.width=\\\"100%\\\", gd.style.height=\\\"100vh\\\", gd.style.marginLeft=\\\"0%\\\", gd.style.marginTop=\\\"0vh\\\") : undefined; window.onresize=(function (){return Plotly.Plots.resize(gd)}); Plotly.newPlot(gd,[{\\\"x\\\":[0.0,9.72,11.1,0.0,0.0,0.0,7.6,7.0,2.15,6.75,4.54,0.58,2.87,3.17,6.13,2.66,9.1,5.28,2.99,6.2],\\\"mode\\\":\\\"markers\\\",\\\"xaxis\\\":\\\"x\\\",\\\"y\\\":[0.0,0.08,0.0,0.0,15.54,10.96,0.54,7.3,8.91,7.48,12.44,11.66,5.89,0.0,4.3,12.82,1.02,1.72,2.91,4.05],\\\"type\\\":\\\"mesh3d\\\",\\\"opacity\\\":0.5,\\\"yaxis\\\":\\\"y\\\",\\\"z\\\":[0.08,522.88,146.46,0.08,213.78,105.22,264.5,372.98,159.14,447.02,320.98,196.26,86.6,42.78,307.49,211.15,316.63,138.41,129.35,161.38],\\\"marker\\\":{\\\"size\\\":3}}],{\\\"xaxis\\\":{\\\"title\\\":{\\\"text\\\":\\\"uvMissSurface\\\"}},\\\"template\\\":{\\\"layout\\\":{\\\"coloraxis\\\":{\\\"colorbar\\\":{\\\"ticks\\\":\\\"\\\",\\\"outlinewidth\\\":0}},\\\"xaxis\\\":{\\\"gridcolor\\\":\\\"white\\\",\\\"zerolinewidth\\\":2,\\\"title\\\":{\\\"standoff\\\":15},\\\"ticks\\\":\\\"\\\",\\\"zerolinecolor\\\":\\\"white\\\",\\\"automargin\\\":true,\\\"linecolor\\\":\\\"white\\\"},\\\"hovermode\\\":\\\"closest\\\",\\\"paper_bgcolor\\\":\\\"white\\\",\\\"geo\\\":{\\\"showlakes\\\":true,\\\"showland\\\":true,\\\"landcolor\\\":\\\"#E5ECF6\\\",\\\"bgcolor\\\":\\\"white\\\",\\\"subunitcolor\\\":\\\"white\\\",\\\"lakecolor\\\":\\\"white\\\"},\\\"colorscale\\\":{\\\"sequential\\\":[[0.0,\\\"#0d0887\\\"],[0.1111111111111111,\\\"#46039f\\\"],[0.2222222222222222,\\\"#7201a8\\\"],[0.3333333333333333,\\\"#9c179e\\\"],[0.4444444444444444,\\\"#bd3786\\\"],[0.5555555555555556,\\\"#d8576b\\\"],[0.6666666666666666,\\\"#ed7953\\\"],[0.7777777777777778,\\\"#fb9f3a\\\"],[0.8888888888888888,\\\"#fdca26\\\"],[1.0,\\\"#f0f921\\\"]],\\\"diverging\\\":[[0,\\\"#8e0152\\\"],[0.1,\\\"#c51b7d\\\"],[0.2,\\\"#de77ae\\\"],[0.3,\\\"#f1b6da\\\"],[0.4,\\\"#fde0ef\\\"],[0.5,\\\"#f7f7f7\\\"],[0.6,\\\"#e6f5d0\\\"],[0.7,\\\"#b8e186\\\"],[0.8,\\\"#7fbc41\\\"],[0.9,\\\"#4d9221\\\"],[1,\\\"#276419\\\"]],\\\"sequentialminus\\\":[[0.0,\\\"#0d0887\\\"],[0.1111111111111111,\\\"#46039f\\\"],[0.2222222222222222,\\\"#7201a8\\\"],[0.3333333333333333,\\\"#9c179e\\\"],[0.4444444444444444,\\\"#bd3786\\\"],[0.5555555555555556,\\\"#d8576b\\\"],[0.6666666666666666,\\\"#ed7953\\\"],[0.7777777777777778,\\\"#fb9f3a\\\"],[0.8888888888888888,\\\"#fdca26\\\"],[1.0,\\\"#f0f921\\\"]]},\\\"yaxis\\\":{\\\"gridcolor\\\":\\\"white\\\",\\\"zerolinewidth\\\":2,\\\"title\\\":{\\\"standoff\\\":15},\\\"ticks\\\":\\\"\\\",\\\"zerolinecolor\\\":\\\"white\\\",\\\"automargin\\\":true,\\\"linecolor\\\":\\\"white\\\"},\\\"shapedefaults\\\":{\\\"line\\\":{\\\"color\\\":\\\"#2a3f5f\\\"}},\\\"hoverlabel\\\":{\\\"align\\\":\\\"left\\\"},\\\"mapbox\\\":{\\\"style\\\":\\\"light\\\"},\\\"polar\\\":{\\\"angularaxis\\\":{\\\"gridcolor\\\":\\\"white\\\",\\\"ticks\\\":\\\"\\\",\\\"linecolor\\\":\\\"white\\\"},\\\"bgcolor\\\":\\\"#E5ECF6\\\",\\\"radialaxis\\\":{\\\"gridcolor\\\":\\\"white\\\",\\\"ticks\\\":\\\"\\\",\\\"linecolor\\\":\\\"white\\\"}},\\\"autotypenumbers\\\":\\\"strict\\\",\\\"font\\\":{\\\"color\\\":\\\"#2a3f5f\\\"},\\\"ternary\\\":{\\\"baxis\\\":{\\\"gridcolor\\\":\\\"white\\\",\\\"ticks\\\":\\\"\\\",\\\"linecolor\\\":\\\"white\\\"},\\\"bgcolor\\\":\\\"#E5ECF6\\\",\\\"caxis\\\":{\\\"gridcolor\\\":\\\"white\\\",\\\"ticks\\\":\\\"\\\",\\\"linecolor\\\":\\\"white\\\"},\\\"aaxis\\\":{\\\"gridcolor\\\":\\\"white\\\",\\\"ticks\\\":\\\"\\\",\\\"linecolor\\\":\\\"white\\\"}},\\\"annotationdefaults\\\":{\\\"arrowhead\\\":0,\\\"arrowwidth\\\":1,\\\"arrowcolor\\\":\\\"#2a3f5f\\\"},\\\"plot_bgcolor\\\":\\\"#E5ECF6\\\",\\\"title\\\":{\\\"x\\\":0.05},\\\"scene\\\":{\\\"xaxis\\\":{\\\"gridcolor\\\":\\\"white\\\",\\\"gridwidth\\\":2,\\\"backgroundcolor\\\":\\\"#E5ECF6\\\",\\\"ticks\\\":\\\"\\\",\\\"showbackground\\\":true,\\\"zerolinecolor\\\":\\\"white\\\",\\\"linecolor\\\":\\\"white\\\"},\\\"zaxis\\\":{\\\"gridcolor\\\":\\\"white\\\",\\\"gridwidth\\\":2,\\\"backgroundcolor\\\":\\\"#E5ECF6\\\",\\\"ticks\\\":\\\"\\\",\\\"showbackground\\\":true,\\\"zerolinecolor\\\":\\\"white\\\",\\\"linecolor\\\":\\\"white\\\"},\\\"yaxis\\\":{\\\"gridcolor\\\":\\\"white\\\",\\\"gridwidth\\\":2,\\\"backgroundcolor\\\":\\\"#E5ECF6\\\",\\\"ticks\\\":\\\"\\\",\\\"showbackground\\\":true,\\\"zerolinecolor\\\":\\\"white\\\",\\\"linecolor\\\":\\\"white\\\"}},\\\"colorway\\\":[\\\"#636efa\\\",\\\"#EF553B\\\",\\\"#00cc96\\\",\\\"#ab63fa\\\",\\\"#FFA15A\\\",\\\"#19d3f3\\\",\\\"#FF6692\\\",\\\"#B6E880\\\",\\\"#FF97FF\\\",\\\"#FECB52\\\"]},\\\"data\\\":{\\\"barpolar\\\":[{\\\"type\\\":\\\"barpolar\\\",\\\"marker\\\":{\\\"line\\\":{\\\"color\\\":\\\"#E5ECF6\\\",\\\"width\\\":0.5}}}],\\\"carpet\\\":[{\\\"aaxis\\\":{\\\"gridcolor\\\":\\\"white\\\",\\\"endlinecolor\\\":\\\"#2a3f5f\\\",\\\"minorgridcolor\\\":\\\"white\\\",\\\"startlinecolor\\\":\\\"#2a3f5f\\\",\\\"linecolor\\\":\\\"white\\\"},\\\"type\\\":\\\"carpet\\\",\\\"baxis\\\":{\\\"gridcolor\\\":\\\"white\\\",\\\"endlinecolor\\\":\\\"#2a3f5f\\\",\\\"minorgridcolor\\\":\\\"white\\\",\\\"startlinecolor\\\":\\\"#2a3f5f\\\",\\\"linecolor\\\":\\\"white\\\"}}],\\\"scatterpolar\\\":[{\\\"type\\\":\\\"scatterpolar\\\",\\\"marker\\\":{\\\"colorbar\\\":{\\\"ticks\\\":\\\"\\\",\\\"outlinewidth\\\":0}}}],\\\"parcoords\\\":[{\\\"line\\\":{\\\"colorbar\\\":{\\\"ticks\\\":\\\"\\\",\\\"outlinewidth\\\":0}},\\\"type\\\":\\\"parcoords\\\"}],\\\"scatter\\\":[{\\\"type\\\":\\\"scatter\\\",\\\"marker\\\":{\\\"colorbar\\\":{\\\"ticks\\\":\\\"\\\",\\\"outlinewidth\\\":0}}}],\\\"histogram2dcontour\\\":[{\\\"colorbar\\\":{\\\"ticks\\\":\\\"\\\",\\\"outlinewidth\\\":0},\\\"type\\\":\\\"histogram2dcontour\\\",\\\"colorscale\\\":[[0.0,\\\"#0d0887\\\"],[0.1111111111111111,\\\"#46039f\\\"],[0.2222222222222222,\\\"#7201a8\\\"],[0.3333333333333333,\\\"#9c179e\\\"],[0.4444444444444444,\\\"#bd3786\\\"],[0.5555555555555556,\\\"#d8576b\\\"],[0.6666666666666666,\\\"#ed7953\\\"],[0.7777777777777778,\\\"#fb9f3a\\\"],[0.8888888888888888,\\\"#fdca26\\\"],[1.0,\\\"#f0f921\\\"]]}],\\\"contour\\\":[{\\\"colorbar\\\":{\\\"ticks\\\":\\\"\\\",\\\"outlinewidth\\\":0},\\\"type\\\":\\\"contour\\\",\\\"colorscale\\\":[[0.0,\\\"#0d0887\\\"],[0.1111111111111111,\\\"#46039f\\\"],[0.2222222222222222,\\\"#7201a8\\\"],[0.3333333333333333,\\\"#9c179e\\\"],[0.4444444444444444,\\\"#bd3786\\\"],[0.5555555555555556,\\\"#d8576b\\\"],[0.6666666666666666,\\\"#ed7953\\\"],[0.7777777777777778,\\\"#fb9f3a\\\"],[0.8888888888888888,\\\"#fdca26\\\"],[1.0,\\\"#f0f921\\\"]]}],\\\"scattercarpet\\\":[{\\\"type\\\":\\\"scattercarpet\\\",\\\"marker\\\":{\\\"colorbar\\\":{\\\"ticks\\\":\\\"\\\",\\\"outlinewidth\\\":0}}}],\\\"mesh3d\\\":[{\\\"colorbar\\\":{\\\"ticks\\\":\\\"\\\",\\\"outlinewidth\\\":0},\\\"type\\\":\\\"mesh3d\\\"}],\\\"surface\\\":[{\\\"colorbar\\\":{\\\"ticks\\\":\\\"\\\",\\\"outlinewidth\\\":0},\\\"type\\\":\\\"surface\\\",\\\"colorscale\\\":[[0.0,\\\"#0d0887\\\"],[0.1111111111111111,\\\"#46039f\\\"],[0.2222222222222222,\\\"#7201a8\\\"],[0.3333333333333333,\\\"#9c179e\\\"],[0.4444444444444444,\\\"#bd3786\\\"],[0.5555555555555556,\\\"#d8576b\\\"],[0.6666666666666666,\\\"#ed7953\\\"],[0.7777777777777778,\\\"#fb9f3a\\\"],[0.8888888888888888,\\\"#fdca26\\\"],[1.0,\\\"#f0f921\\\"]]}],\\\"scattermapbox\\\":[{\\\"type\\\":\\\"scattermapbox\\\",\\\"marker\\\":{\\\"colorbar\\\":{\\\"ticks\\\":\\\"\\\",\\\"outlinewidth\\\":0}}}],\\\"scattergeo\\\":[{\\\"type\\\":\\\"scattergeo\\\",\\\"marker\\\":{\\\"colorbar\\\":{\\\"ticks\\\":\\\"\\\",\\\"outlinewidth\\\":0}}}],\\\"histogram\\\":[{\\\"type\\\":\\\"histogram\\\",\\\"marker\\\":{\\\"colorbar\\\":{\\\"ticks\\\":\\\"\\\",\\\"outlinewidth\\\":0}}}],\\\"pie\\\":[{\\\"type\\\":\\\"pie\\\",\\\"automargin\\\":true}],\\\"choropleth\\\":[{\\\"colorbar\\\":{\\\"ticks\\\":\\\"\\\",\\\"outlinewidth\\\":0},\\\"type\\\":\\\"choropleth\\\"}],\\\"heatmapgl\\\":[{\\\"colorbar\\\":{\\\"ticks\\\":\\\"\\\",\\\"outlinewidth\\\":0},\\\"type\\\":\\\"heatmapgl\\\",\\\"colorscale\\\":[[0.0,\\\"#0d0887\\\"],[0.1111111111111111,\\\"#46039f\\\"],[0.2222222222222222,\\\"#7201a8\\\"],[0.3333333333333333,\\\"#9c179e\\\"],[0.4444444444444444,\\\"#bd3786\\\"],[0.5555555555555556,\\\"#d8576b\\\"],[0.6666666666666666,\\\"#ed7953\\\"],[0.7777777777777778,\\\"#fb9f3a\\\"],[0.8888888888888888,\\\"#fdca26\\\"],[1.0,\\\"#f0f921\\\"]]}],\\\"bar\\\":[{\\\"type\\\":\\\"bar\\\",\\\"error_y\\\":{\\\"color\\\":\\\"#2a3f5f\\\"},\\\"error_x\\\":{\\\"color\\\":\\\"#2a3f5f\\\"},\\\"marker\\\":{\\\"line\\\":{\\\"color\\\":\\\"#E5ECF6\\\",\\\"width\\\":0.5}}}],\\\"heatmap\\\":[{\\\"colorbar\\\":{\\\"ticks\\\":\\\"\\\",\\\"outlinewidth\\\":0},\\\"type\\\":\\\"heatmap\\\",\\\"colorscale\\\":[[0.0,\\\"#0d0887\\\"],[0.1111111111111111,\\\"#46039f\\\"],[0.2222222222222222,\\\"#7201a8\\\"],[0.3333333333333333,\\\"#9c179e\\\"],[0.4444444444444444,\\\"#bd3786\\\"],[0.5555555555555556,\\\"#d8576b\\\"],[0.6666666666666666,\\\"#ed7953\\\"],[0.7777777777777778,\\\"#fb9f3a\\\"],[0.8888888888888888,\\\"#fdca26\\\"],[1.0,\\\"#f0f921\\\"]]}],\\\"contourcarpet\\\":[{\\\"colorbar\\\":{\\\"ticks\\\":\\\"\\\",\\\"outlinewidth\\\":0},\\\"type\\\":\\\"contourcarpet\\\"}],\\\"table\\\":[{\\\"type\\\":\\\"table\\\",\\\"header\\\":{\\\"line\\\":{\\\"color\\\":\\\"white\\\"},\\\"fill\\\":{\\\"color\\\":\\\"#C8D4E3\\\"}},\\\"cells\\\":{\\\"line\\\":{\\\"color\\\":\\\"white\\\"},\\\"fill\\\":{\\\"color\\\":\\\"#EBF0F8\\\"}}}],\\\"scatter3d\\\":[{\\\"line\\\":{\\\"colorbar\\\":{\\\"ticks\\\":\\\"\\\",\\\"outlinewidth\\\":0}},\\\"type\\\":\\\"scatter3d\\\",\\\"marker\\\":{\\\"colorbar\\\":{\\\"ticks\\\":\\\"\\\",\\\"outlinewidth\\\":0}}}],\\\"scattergl\\\":[{\\\"type\\\":\\\"scattergl\\\",\\\"marker\\\":{\\\"colorbar\\\":{\\\"ticks\\\":\\\"\\\",\\\"outlinewidth\\\":0}}}],\\\"histogram2d\\\":[{\\\"colorbar\\\":{\\\"ticks\\\":\\\"\\\",\\\"outlinewidth\\\":0},\\\"type\\\":\\\"histogram2d\\\",\\\"colorscale\\\":[[0.0,\\\"#0d0887\\\"],[0.1111111111111111,\\\"#46039f\\\"],[0.2222222222222222,\\\"#7201a8\\\"],[0.3333333333333333,\\\"#9c179e\\\"],[0.4444444444444444,\\\"#bd3786\\\"],[0.5555555555555556,\\\"#d8576b\\\"],[0.6666666666666666,\\\"#ed7953\\\"],[0.7777777777777778,\\\"#fb9f3a\\\"],[0.8888888888888888,\\\"#fdca26\\\"],[1.0,\\\"#f0f921\\\"]]}],\\\"scatterternary\\\":[{\\\"type\\\":\\\"scatterternary\\\",\\\"marker\\\":{\\\"colorbar\\\":{\\\"ticks\\\":\\\"\\\",\\\"outlinewidth\\\":0}}}],\\\"scatterpolargl\\\":[{\\\"type\\\":\\\"scatterpolargl\\\",\\\"marker\\\":{\\\"colorbar\\\":{\\\"ticks\\\":\\\"\\\",\\\"outlinewidth\\\":0}}}]}},\\\"scene\\\":{\\\"xaxis\\\":{\\\"title\\\":\\\"UVC Missed Surface<br>Disinfection\\\",\\\"nticks\\\":4},\\\"yaxis\\\":{\\\"title\\\":\\\"UV Excess <br> Human <br> Exposure\\\",\\\"nticks\\\":4},\\\"zaxis\\\":{\\\"title\\\":\\\"Fuzzing Operation<br> Times\\\",\\\"nticks\\\":4}},\\\"margin\\\":{\\\"l\\\":50,\\\"b\\\":50,\\\"r\\\":50,\\\"t\\\":60},\\\"legend\\\":{\\\"tracegroupgap\\\":0},\\\"yaxis\\\":{\\\"title\\\":{\\\"text\\\":\\\"uvExcessHuman\\\"}}},{\\\"showLink\\\":false,\\\"editable\\\":false,\\\"responsive\\\":true,\\\"staticPlot\\\":false,\\\"scrollZoom\\\":true}); gd.on(\\\"plotly_hover\\\",(function (data){var filtered_data=WebIO.PlotlyCommands.filterEventData(gd,data,\\\"hover\\\"); return !(filtered_data.isnil) ? (WebIO.setval({\\\"name\\\":\\\"hover\\\",\\\"scope\\\":\\\"3672915231120927335\\\",\\\"id\\\":\\\"6483370422975560260\\\",\\\"type\\\":\\\"observable\\\"},filtered_data.out)) : undefined})); gd.on(\\\"plotly_unhover\\\",(function (){return WebIO.setval({\\\"name\\\":\\\"hover\\\",\\\"scope\\\":\\\"3672915231120927335\\\",\\\"id\\\":\\\"6483370422975560260\\\",\\\"type\\\":\\\"observable\\\"},{})})); gd.on(\\\"plotly_selected\\\",(function (data){var filtered_data=WebIO.PlotlyCommands.filterEventData(gd,data,\\\"selected\\\"); return !(filtered_data.isnil) ? (WebIO.setval({\\\"name\\\":\\\"selected\\\",\\\"scope\\\":\\\"3672915231120927335\\\",\\\"id\\\":\\\"13572496978079565992\\\",\\\"type\\\":\\\"observable\\\"},filtered_data.out)) : undefined})); gd.on(\\\"plotly_deselect\\\",(function (){return WebIO.setval({\\\"name\\\":\\\"selected\\\",\\\"scope\\\":\\\"3672915231120927335\\\",\\\"id\\\":\\\"13572496978079565992\\\",\\\"type\\\":\\\"observable\\\"},{})})); gd.on(\\\"plotly_relayout\\\",(function (data){var filtered_data=WebIO.PlotlyCommands.filterEventData(gd,data,\\\"relayout\\\"); return !(filtered_data.isnil) ? (WebIO.setval({\\\"name\\\":\\\"relayout\\\",\\\"scope\\\":\\\"3672915231120927335\\\",\\\"id\\\":\\\"7462096283669743512\\\",\\\"type\\\":\\\"observable\\\"},filtered_data.out)) : undefined})); return gd.on(\\\"plotly_click\\\",(function (data){var filtered_data=WebIO.PlotlyCommands.filterEventData(gd,data,\\\"click\\\"); return !(filtered_data.isnil) ? (WebIO.setval({\\\"name\\\":\\\"click\\\",\\\"scope\\\":\\\"3672915231120927335\\\",\\\"id\\\":\\\"8318214110192393997\\\",\\\"type\\\":\\\"observable\\\"},filtered_data.out)) : undefined}))}));\\n    (WebIO.importBlock({\\\"data\\\":[{\\\"name\\\":\\\"Plotly\\\",\\\"type\\\":\\\"js\\\",\\\"url\\\":\\\"\\/assetserver\\/429c6aaa48eaf0968f6b138e6853f2c80bcaf2c7-plotly.min.js\\\"},{\\\"name\\\":null,\\\"type\\\":\\\"js\\\",\\\"url\\\":\\\"\\/assetserver\\/94083cb4877671295d0541c18216b0ed75b23eb9-plotly_webio.bundle.js\\\"}],\\\"type\\\":\\\"async_block\\\"})).then((imports) => handler.apply(this, imports));\\n}\\n\"],\"observables\":{\"_toImage\":{\"sync\":false,\"id\":\"13581475828406843603\",\"value\":{}},\"hover\":{\"sync\":false,\"id\":\"6483370422975560260\",\"value\":{}},\"selected\":{\"sync\":false,\"id\":\"13572496978079565992\",\"value\":{}},\"__gd_contents\":{\"sync\":false,\"id\":\"16031778423085009431\",\"value\":{}},\"click\":{\"sync\":false,\"id\":\"8318214110192393997\",\"value\":{}},\"image\":{\"sync\":true,\"id\":\"370738832356843706\",\"value\":\"\"},\"__get_gd_contents\":{\"sync\":false,\"id\":\"16580310255300942298\",\"value\":\"\"},\"_downloadImage\":{\"sync\":false,\"id\":\"1004145323677263808\",\"value\":{}},\"relayout\":{\"sync\":false,\"id\":\"7462096283669743512\",\"value\":{}},\"_commands\":{\"sync\":false,\"id\":\"11850586851065970906\",\"value\":[]}}},\"children\":[{\"props\":{\"id\":\"plot-9600a88c-66d8-4da9-b3d2-d9280863b6c9\"},\"nodeType\":\"DOM\",\"type\":\"node\",\"instanceArgs\":{\"namespace\":\"html\",\"tag\":\"div\"},\"children\":[]}]},\n",
       "        window,\n",
       "    );\n",
       "    })()\n",
       "    </script>\n",
       "</div>\n"
      ],
      "text/plain": [
       "data: [\n",
       "  \"mesh3d with fields marker, mode, opacity, type, x, xaxis, y, yaxis, and z\"\n",
       "]\n",
       "\n",
       "layout: \"layout with fields legend, margin, scene, template, xaxis, and yaxis\"\n",
       "\n"
      ]
     },
     "execution_count": 62,
     "metadata": {},
     "output_type": "execute_result"
    }
   ],
   "source": [
    "using PlotlyJS\n",
    "\n",
    "layout = Layout(\n",
    "\n",
    "    scene=attr( \n",
    "            xaxis=attr(\n",
    "                nticks=4,\n",
    "                title=\"UVC Missed Surface<br>Disinfection\"),\n",
    "            yaxis=attr(\n",
    "                nticks=4,\n",
    "                title=\"UV Excess <br> Human <br> Exposure\"),\n",
    "            zaxis=attr(\n",
    "                nticks=4, \n",
    "                title=\"Fuzzing Operation<br> Times\")))\n",
    "\n",
    "surface = plot(timebased_data, x=:uvMissSurface, y=:uvExcessHuman, z=:fuzzOpTimes, type=\"mesh3d\",  opacity=0.5,\n",
    "     mode=\"markers\", marker=attr(size=3), layout)\n"
   ]
  },
  {
   "cell_type": "code",
   "execution_count": 63,
   "id": "8bd90dbb",
   "metadata": {},
   "outputs": [
    {
     "data": {
      "application/vnd.plotly.v1+json": {
       "config": {
        "editable": false,
        "responsive": true,
        "scrollZoom": true,
        "showLink": false,
        "staticPlot": false
       },
       "data": [
        {
         "marker": {
          "size": 3
         },
         "mode": "markers",
         "type": "scatter3d",
         "x": [
          0,
          9.72,
          11.1,
          0,
          0,
          0,
          7.6,
          7,
          2.15,
          6.75,
          4.54,
          0.58,
          2.87,
          3.17,
          6.13,
          2.66,
          9.1,
          5.28,
          2.99,
          6.2
         ],
         "xaxis": "x",
         "y": [
          0,
          0.08,
          0,
          0,
          15.54,
          10.96,
          0.54,
          7.3,
          8.91,
          7.48,
          12.44,
          11.66,
          5.89,
          0,
          4.3,
          12.82,
          1.02,
          1.72,
          2.91,
          4.05
         ],
         "yaxis": "y",
         "z": [
          0.08,
          522.88,
          146.46,
          0.08,
          213.78,
          105.22,
          264.5,
          372.98,
          159.14,
          447.02,
          320.98,
          196.26,
          86.6,
          42.78,
          307.49,
          211.15,
          316.63,
          138.41,
          129.35,
          161.38
         ]
        }
       ],
       "frames": [],
       "layout": {
        "legend": {
         "tracegroupgap": 0
        },
        "margin": {
         "b": 50,
         "l": 50,
         "r": 50,
         "t": 60
        },
        "scene": {
         "xaxis": {
          "nticks": 4,
          "title": "UV Missed Surface Disinfection"
         },
         "yaxis": {
          "nticks": 4,
          "title": "UV Excess\n Human Exposure"
         },
         "zaxis": {
          "nticks": 4,
          "title": "Fuzzing Operation Times"
         }
        },
        "template": {
         "data": {
          "bar": [
           {
            "error_x": {
             "color": "#2a3f5f"
            },
            "error_y": {
             "color": "#2a3f5f"
            },
            "marker": {
             "line": {
              "color": "#E5ECF6",
              "width": 0.5
             }
            },
            "type": "bar"
           }
          ],
          "barpolar": [
           {
            "marker": {
             "line": {
              "color": "#E5ECF6",
              "width": 0.5
             }
            },
            "type": "barpolar"
           }
          ],
          "carpet": [
           {
            "aaxis": {
             "endlinecolor": "#2a3f5f",
             "gridcolor": "white",
             "linecolor": "white",
             "minorgridcolor": "white",
             "startlinecolor": "#2a3f5f"
            },
            "baxis": {
             "endlinecolor": "#2a3f5f",
             "gridcolor": "white",
             "linecolor": "white",
             "minorgridcolor": "white",
             "startlinecolor": "#2a3f5f"
            },
            "type": "carpet"
           }
          ],
          "choropleth": [
           {
            "colorbar": {
             "outlinewidth": 0,
             "ticks": ""
            },
            "type": "choropleth"
           }
          ],
          "contour": [
           {
            "colorbar": {
             "outlinewidth": 0,
             "ticks": ""
            },
            "colorscale": [
             [
              0,
              "#0d0887"
             ],
             [
              0.1111111111111111,
              "#46039f"
             ],
             [
              0.2222222222222222,
              "#7201a8"
             ],
             [
              0.3333333333333333,
              "#9c179e"
             ],
             [
              0.4444444444444444,
              "#bd3786"
             ],
             [
              0.5555555555555556,
              "#d8576b"
             ],
             [
              0.6666666666666666,
              "#ed7953"
             ],
             [
              0.7777777777777778,
              "#fb9f3a"
             ],
             [
              0.8888888888888888,
              "#fdca26"
             ],
             [
              1,
              "#f0f921"
             ]
            ],
            "type": "contour"
           }
          ],
          "contourcarpet": [
           {
            "colorbar": {
             "outlinewidth": 0,
             "ticks": ""
            },
            "type": "contourcarpet"
           }
          ],
          "heatmap": [
           {
            "colorbar": {
             "outlinewidth": 0,
             "ticks": ""
            },
            "colorscale": [
             [
              0,
              "#0d0887"
             ],
             [
              0.1111111111111111,
              "#46039f"
             ],
             [
              0.2222222222222222,
              "#7201a8"
             ],
             [
              0.3333333333333333,
              "#9c179e"
             ],
             [
              0.4444444444444444,
              "#bd3786"
             ],
             [
              0.5555555555555556,
              "#d8576b"
             ],
             [
              0.6666666666666666,
              "#ed7953"
             ],
             [
              0.7777777777777778,
              "#fb9f3a"
             ],
             [
              0.8888888888888888,
              "#fdca26"
             ],
             [
              1,
              "#f0f921"
             ]
            ],
            "type": "heatmap"
           }
          ],
          "heatmapgl": [
           {
            "colorbar": {
             "outlinewidth": 0,
             "ticks": ""
            },
            "colorscale": [
             [
              0,
              "#0d0887"
             ],
             [
              0.1111111111111111,
              "#46039f"
             ],
             [
              0.2222222222222222,
              "#7201a8"
             ],
             [
              0.3333333333333333,
              "#9c179e"
             ],
             [
              0.4444444444444444,
              "#bd3786"
             ],
             [
              0.5555555555555556,
              "#d8576b"
             ],
             [
              0.6666666666666666,
              "#ed7953"
             ],
             [
              0.7777777777777778,
              "#fb9f3a"
             ],
             [
              0.8888888888888888,
              "#fdca26"
             ],
             [
              1,
              "#f0f921"
             ]
            ],
            "type": "heatmapgl"
           }
          ],
          "histogram": [
           {
            "marker": {
             "colorbar": {
              "outlinewidth": 0,
              "ticks": ""
             }
            },
            "type": "histogram"
           }
          ],
          "histogram2d": [
           {
            "colorbar": {
             "outlinewidth": 0,
             "ticks": ""
            },
            "colorscale": [
             [
              0,
              "#0d0887"
             ],
             [
              0.1111111111111111,
              "#46039f"
             ],
             [
              0.2222222222222222,
              "#7201a8"
             ],
             [
              0.3333333333333333,
              "#9c179e"
             ],
             [
              0.4444444444444444,
              "#bd3786"
             ],
             [
              0.5555555555555556,
              "#d8576b"
             ],
             [
              0.6666666666666666,
              "#ed7953"
             ],
             [
              0.7777777777777778,
              "#fb9f3a"
             ],
             [
              0.8888888888888888,
              "#fdca26"
             ],
             [
              1,
              "#f0f921"
             ]
            ],
            "type": "histogram2d"
           }
          ],
          "histogram2dcontour": [
           {
            "colorbar": {
             "outlinewidth": 0,
             "ticks": ""
            },
            "colorscale": [
             [
              0,
              "#0d0887"
             ],
             [
              0.1111111111111111,
              "#46039f"
             ],
             [
              0.2222222222222222,
              "#7201a8"
             ],
             [
              0.3333333333333333,
              "#9c179e"
             ],
             [
              0.4444444444444444,
              "#bd3786"
             ],
             [
              0.5555555555555556,
              "#d8576b"
             ],
             [
              0.6666666666666666,
              "#ed7953"
             ],
             [
              0.7777777777777778,
              "#fb9f3a"
             ],
             [
              0.8888888888888888,
              "#fdca26"
             ],
             [
              1,
              "#f0f921"
             ]
            ],
            "type": "histogram2dcontour"
           }
          ],
          "mesh3d": [
           {
            "colorbar": {
             "outlinewidth": 0,
             "ticks": ""
            },
            "type": "mesh3d"
           }
          ],
          "parcoords": [
           {
            "line": {
             "colorbar": {
              "outlinewidth": 0,
              "ticks": ""
             }
            },
            "type": "parcoords"
           }
          ],
          "pie": [
           {
            "automargin": true,
            "type": "pie"
           }
          ],
          "scatter": [
           {
            "marker": {
             "colorbar": {
              "outlinewidth": 0,
              "ticks": ""
             }
            },
            "type": "scatter"
           }
          ],
          "scatter3d": [
           {
            "line": {
             "colorbar": {
              "outlinewidth": 0,
              "ticks": ""
             }
            },
            "marker": {
             "colorbar": {
              "outlinewidth": 0,
              "ticks": ""
             }
            },
            "type": "scatter3d"
           }
          ],
          "scattercarpet": [
           {
            "marker": {
             "colorbar": {
              "outlinewidth": 0,
              "ticks": ""
             }
            },
            "type": "scattercarpet"
           }
          ],
          "scattergeo": [
           {
            "marker": {
             "colorbar": {
              "outlinewidth": 0,
              "ticks": ""
             }
            },
            "type": "scattergeo"
           }
          ],
          "scattergl": [
           {
            "marker": {
             "colorbar": {
              "outlinewidth": 0,
              "ticks": ""
             }
            },
            "type": "scattergl"
           }
          ],
          "scattermapbox": [
           {
            "marker": {
             "colorbar": {
              "outlinewidth": 0,
              "ticks": ""
             }
            },
            "type": "scattermapbox"
           }
          ],
          "scatterpolar": [
           {
            "marker": {
             "colorbar": {
              "outlinewidth": 0,
              "ticks": ""
             }
            },
            "type": "scatterpolar"
           }
          ],
          "scatterpolargl": [
           {
            "marker": {
             "colorbar": {
              "outlinewidth": 0,
              "ticks": ""
             }
            },
            "type": "scatterpolargl"
           }
          ],
          "scatterternary": [
           {
            "marker": {
             "colorbar": {
              "outlinewidth": 0,
              "ticks": ""
             }
            },
            "type": "scatterternary"
           }
          ],
          "surface": [
           {
            "colorbar": {
             "outlinewidth": 0,
             "ticks": ""
            },
            "colorscale": [
             [
              0,
              "#0d0887"
             ],
             [
              0.1111111111111111,
              "#46039f"
             ],
             [
              0.2222222222222222,
              "#7201a8"
             ],
             [
              0.3333333333333333,
              "#9c179e"
             ],
             [
              0.4444444444444444,
              "#bd3786"
             ],
             [
              0.5555555555555556,
              "#d8576b"
             ],
             [
              0.6666666666666666,
              "#ed7953"
             ],
             [
              0.7777777777777778,
              "#fb9f3a"
             ],
             [
              0.8888888888888888,
              "#fdca26"
             ],
             [
              1,
              "#f0f921"
             ]
            ],
            "type": "surface"
           }
          ],
          "table": [
           {
            "cells": {
             "fill": {
              "color": "#EBF0F8"
             },
             "line": {
              "color": "white"
             }
            },
            "header": {
             "fill": {
              "color": "#C8D4E3"
             },
             "line": {
              "color": "white"
             }
            },
            "type": "table"
           }
          ]
         },
         "layout": {
          "annotationdefaults": {
           "arrowcolor": "#2a3f5f",
           "arrowhead": 0,
           "arrowwidth": 1
          },
          "autotypenumbers": "strict",
          "coloraxis": {
           "colorbar": {
            "outlinewidth": 0,
            "ticks": ""
           }
          },
          "colorscale": {
           "diverging": [
            [
             0,
             "#8e0152"
            ],
            [
             0.1,
             "#c51b7d"
            ],
            [
             0.2,
             "#de77ae"
            ],
            [
             0.3,
             "#f1b6da"
            ],
            [
             0.4,
             "#fde0ef"
            ],
            [
             0.5,
             "#f7f7f7"
            ],
            [
             0.6,
             "#e6f5d0"
            ],
            [
             0.7,
             "#b8e186"
            ],
            [
             0.8,
             "#7fbc41"
            ],
            [
             0.9,
             "#4d9221"
            ],
            [
             1,
             "#276419"
            ]
           ],
           "sequential": [
            [
             0,
             "#0d0887"
            ],
            [
             0.1111111111111111,
             "#46039f"
            ],
            [
             0.2222222222222222,
             "#7201a8"
            ],
            [
             0.3333333333333333,
             "#9c179e"
            ],
            [
             0.4444444444444444,
             "#bd3786"
            ],
            [
             0.5555555555555556,
             "#d8576b"
            ],
            [
             0.6666666666666666,
             "#ed7953"
            ],
            [
             0.7777777777777778,
             "#fb9f3a"
            ],
            [
             0.8888888888888888,
             "#fdca26"
            ],
            [
             1,
             "#f0f921"
            ]
           ],
           "sequentialminus": [
            [
             0,
             "#0d0887"
            ],
            [
             0.1111111111111111,
             "#46039f"
            ],
            [
             0.2222222222222222,
             "#7201a8"
            ],
            [
             0.3333333333333333,
             "#9c179e"
            ],
            [
             0.4444444444444444,
             "#bd3786"
            ],
            [
             0.5555555555555556,
             "#d8576b"
            ],
            [
             0.6666666666666666,
             "#ed7953"
            ],
            [
             0.7777777777777778,
             "#fb9f3a"
            ],
            [
             0.8888888888888888,
             "#fdca26"
            ],
            [
             1,
             "#f0f921"
            ]
           ]
          },
          "colorway": [
           "#636efa",
           "#EF553B",
           "#00cc96",
           "#ab63fa",
           "#FFA15A",
           "#19d3f3",
           "#FF6692",
           "#B6E880",
           "#FF97FF",
           "#FECB52"
          ],
          "font": {
           "color": "#2a3f5f"
          },
          "geo": {
           "bgcolor": "white",
           "lakecolor": "white",
           "landcolor": "#E5ECF6",
           "showlakes": true,
           "showland": true,
           "subunitcolor": "white"
          },
          "hoverlabel": {
           "align": "left"
          },
          "hovermode": "closest",
          "mapbox": {
           "style": "light"
          },
          "paper_bgcolor": "white",
          "plot_bgcolor": "#E5ECF6",
          "polar": {
           "angularaxis": {
            "gridcolor": "white",
            "linecolor": "white",
            "ticks": ""
           },
           "bgcolor": "#E5ECF6",
           "radialaxis": {
            "gridcolor": "white",
            "linecolor": "white",
            "ticks": ""
           }
          },
          "scene": {
           "xaxis": {
            "backgroundcolor": "#E5ECF6",
            "gridcolor": "white",
            "gridwidth": 2,
            "linecolor": "white",
            "showbackground": true,
            "ticks": "",
            "zerolinecolor": "white"
           },
           "yaxis": {
            "backgroundcolor": "#E5ECF6",
            "gridcolor": "white",
            "gridwidth": 2,
            "linecolor": "white",
            "showbackground": true,
            "ticks": "",
            "zerolinecolor": "white"
           },
           "zaxis": {
            "backgroundcolor": "#E5ECF6",
            "gridcolor": "white",
            "gridwidth": 2,
            "linecolor": "white",
            "showbackground": true,
            "ticks": "",
            "zerolinecolor": "white"
           }
          },
          "shapedefaults": {
           "line": {
            "color": "#2a3f5f"
           }
          },
          "ternary": {
           "aaxis": {
            "gridcolor": "white",
            "linecolor": "white",
            "ticks": ""
           },
           "baxis": {
            "gridcolor": "white",
            "linecolor": "white",
            "ticks": ""
           },
           "bgcolor": "#E5ECF6",
           "caxis": {
            "gridcolor": "white",
            "linecolor": "white",
            "ticks": ""
           }
          },
          "title": {
           "x": 0.05
          },
          "xaxis": {
           "automargin": true,
           "gridcolor": "white",
           "linecolor": "white",
           "ticks": "",
           "title": {
            "standoff": 15
           },
           "zerolinecolor": "white",
           "zerolinewidth": 2
          },
          "yaxis": {
           "automargin": true,
           "gridcolor": "white",
           "linecolor": "white",
           "ticks": "",
           "title": {
            "standoff": 15
           },
           "zerolinecolor": "white",
           "zerolinewidth": 2
          }
         }
        },
        "xaxis": {
         "title": {
          "text": "uvMissSurface"
         }
        },
        "yaxis": {
         "title": {
          "text": "uvExcessHuman"
         }
        }
       }
      },
      "text/html": [
       "<div\n",
       "    class=\"webio-mountpoint\"\n",
       "    data-webio-mountpoint=\"12228500107527467480\"\n",
       ">\n",
       "    <script>\n",
       "    (function(){\n",
       "    // Some integrations (namely, IJulia/Jupyter) use an alternate render pathway than\n",
       "    // just putting the html on the page. If WebIO isn't defined, then it's pretty likely\n",
       "    // that we're in one of those situations and the integration just isn't installed\n",
       "    // correctly.\n",
       "    if (typeof window.WebIO === \"undefined\") {\n",
       "        document\n",
       "            .querySelector('[data-webio-mountpoint=\"12228500107527467480\"]')\n",
       "            .innerHTML = (\n",
       "                '<div style=\"padding: 1em; background-color: #f8d6da; border: 1px solid #f5c6cb; font-weight: bold;\">' +\n",
       "                '<p><strong>WebIO not detected.</strong></p>' +\n",
       "                '<p>Please read ' +\n",
       "                '<a href=\"https://juliagizmos.github.io/WebIO.jl/latest/troubleshooting/not-detected/\" target=\"_blank\">the troubleshooting guide</a> ' +\n",
       "                'for more information on how to resolve this issue.</p>' +\n",
       "                '<p><a href=\"https://juliagizmos.github.io/WebIO.jl/latest/troubleshooting/not-detected/\" target=\"_blank\">https://juliagizmos.github.io/WebIO.jl/latest/troubleshooting/not-detected/</a></p>' +\n",
       "                '</div>'\n",
       "            );\n",
       "        return;\n",
       "    }\n",
       "    WebIO.mount(\n",
       "        document.querySelector('[data-webio-mountpoint=\"12228500107527467480\"]'),\n",
       "        {\"props\":{},\"nodeType\":\"Scope\",\"type\":\"node\",\"instanceArgs\":{\"imports\":{\"data\":[{\"name\":\"Plotly\",\"type\":\"js\",\"url\":\"\\/assetserver\\/429c6aaa48eaf0968f6b138e6853f2c80bcaf2c7-plotly.min.js\"},{\"name\":null,\"type\":\"js\",\"url\":\"\\/assetserver\\/94083cb4877671295d0541c18216b0ed75b23eb9-plotly_webio.bundle.js\"}],\"type\":\"async_block\"},\"id\":\"4460578301184658618\",\"handlers\":{\"_toImage\":[\"(function (options){return this.Plotly.toImage(this.plotElem,options).then((function (data){return WebIO.setval({\\\"name\\\":\\\"image\\\",\\\"scope\\\":\\\"4460578301184658618\\\",\\\"id\\\":\\\"16811629843125415359\\\",\\\"type\\\":\\\"observable\\\"},data)}))})\"],\"__get_gd_contents\":[\"(function (prop){prop==\\\"data\\\" ? (WebIO.setval({\\\"name\\\":\\\"__gd_contents\\\",\\\"scope\\\":\\\"4460578301184658618\\\",\\\"id\\\":\\\"10956069835046563173\\\",\\\"type\\\":\\\"observable\\\"},this.plotElem.data)) : undefined; return prop==\\\"layout\\\" ? (WebIO.setval({\\\"name\\\":\\\"__gd_contents\\\",\\\"scope\\\":\\\"4460578301184658618\\\",\\\"id\\\":\\\"10956069835046563173\\\",\\\"type\\\":\\\"observable\\\"},this.plotElem.layout)) : undefined})\"],\"_downloadImage\":[\"(function (options){return this.Plotly.downloadImage(this.plotElem,options)})\"],\"_commands\":[\"(function (args){var fn=args.shift(); var elem=this.plotElem; var Plotly=this.Plotly; args.unshift(elem); return Plotly[fn].apply(this,args)})\"]},\"systemjs_options\":null,\"mount_callbacks\":[\"function () {\\n    var handler = ((function (Plotly,PlotlyWebIO){PlotlyWebIO.init(WebIO); var gd=this.dom.querySelector(\\\"#plot-ed9b811c-3015-4c09-b7ff-f285e402e838\\\"); this.plotElem=gd; this.Plotly=Plotly; (window.Blink!==undefined) ? (gd.style.width=\\\"100%\\\", gd.style.height=\\\"100vh\\\", gd.style.marginLeft=\\\"0%\\\", gd.style.marginTop=\\\"0vh\\\") : undefined; window.onresize=(function (){return Plotly.Plots.resize(gd)}); Plotly.newPlot(gd,[{\\\"x\\\":[0.0,9.72,11.1,0.0,0.0,0.0,7.6,7.0,2.15,6.75,4.54,0.58,2.87,3.17,6.13,2.66,9.1,5.28,2.99,6.2],\\\"mode\\\":\\\"markers\\\",\\\"xaxis\\\":\\\"x\\\",\\\"y\\\":[0.0,0.08,0.0,0.0,15.54,10.96,0.54,7.3,8.91,7.48,12.44,11.66,5.89,0.0,4.3,12.82,1.02,1.72,2.91,4.05],\\\"type\\\":\\\"scatter3d\\\",\\\"yaxis\\\":\\\"y\\\",\\\"z\\\":[0.08,522.88,146.46,0.08,213.78,105.22,264.5,372.98,159.14,447.02,320.98,196.26,86.6,42.78,307.49,211.15,316.63,138.41,129.35,161.38],\\\"marker\\\":{\\\"size\\\":3}}],{\\\"xaxis\\\":{\\\"title\\\":{\\\"text\\\":\\\"uvMissSurface\\\"}},\\\"template\\\":{\\\"layout\\\":{\\\"coloraxis\\\":{\\\"colorbar\\\":{\\\"ticks\\\":\\\"\\\",\\\"outlinewidth\\\":0}},\\\"xaxis\\\":{\\\"gridcolor\\\":\\\"white\\\",\\\"zerolinewidth\\\":2,\\\"title\\\":{\\\"standoff\\\":15},\\\"ticks\\\":\\\"\\\",\\\"zerolinecolor\\\":\\\"white\\\",\\\"automargin\\\":true,\\\"linecolor\\\":\\\"white\\\"},\\\"hovermode\\\":\\\"closest\\\",\\\"paper_bgcolor\\\":\\\"white\\\",\\\"geo\\\":{\\\"showlakes\\\":true,\\\"showland\\\":true,\\\"landcolor\\\":\\\"#E5ECF6\\\",\\\"bgcolor\\\":\\\"white\\\",\\\"subunitcolor\\\":\\\"white\\\",\\\"lakecolor\\\":\\\"white\\\"},\\\"colorscale\\\":{\\\"sequential\\\":[[0.0,\\\"#0d0887\\\"],[0.1111111111111111,\\\"#46039f\\\"],[0.2222222222222222,\\\"#7201a8\\\"],[0.3333333333333333,\\\"#9c179e\\\"],[0.4444444444444444,\\\"#bd3786\\\"],[0.5555555555555556,\\\"#d8576b\\\"],[0.6666666666666666,\\\"#ed7953\\\"],[0.7777777777777778,\\\"#fb9f3a\\\"],[0.8888888888888888,\\\"#fdca26\\\"],[1.0,\\\"#f0f921\\\"]],\\\"diverging\\\":[[0,\\\"#8e0152\\\"],[0.1,\\\"#c51b7d\\\"],[0.2,\\\"#de77ae\\\"],[0.3,\\\"#f1b6da\\\"],[0.4,\\\"#fde0ef\\\"],[0.5,\\\"#f7f7f7\\\"],[0.6,\\\"#e6f5d0\\\"],[0.7,\\\"#b8e186\\\"],[0.8,\\\"#7fbc41\\\"],[0.9,\\\"#4d9221\\\"],[1,\\\"#276419\\\"]],\\\"sequentialminus\\\":[[0.0,\\\"#0d0887\\\"],[0.1111111111111111,\\\"#46039f\\\"],[0.2222222222222222,\\\"#7201a8\\\"],[0.3333333333333333,\\\"#9c179e\\\"],[0.4444444444444444,\\\"#bd3786\\\"],[0.5555555555555556,\\\"#d8576b\\\"],[0.6666666666666666,\\\"#ed7953\\\"],[0.7777777777777778,\\\"#fb9f3a\\\"],[0.8888888888888888,\\\"#fdca26\\\"],[1.0,\\\"#f0f921\\\"]]},\\\"yaxis\\\":{\\\"gridcolor\\\":\\\"white\\\",\\\"zerolinewidth\\\":2,\\\"title\\\":{\\\"standoff\\\":15},\\\"ticks\\\":\\\"\\\",\\\"zerolinecolor\\\":\\\"white\\\",\\\"automargin\\\":true,\\\"linecolor\\\":\\\"white\\\"},\\\"shapedefaults\\\":{\\\"line\\\":{\\\"color\\\":\\\"#2a3f5f\\\"}},\\\"hoverlabel\\\":{\\\"align\\\":\\\"left\\\"},\\\"mapbox\\\":{\\\"style\\\":\\\"light\\\"},\\\"polar\\\":{\\\"angularaxis\\\":{\\\"gridcolor\\\":\\\"white\\\",\\\"ticks\\\":\\\"\\\",\\\"linecolor\\\":\\\"white\\\"},\\\"bgcolor\\\":\\\"#E5ECF6\\\",\\\"radialaxis\\\":{\\\"gridcolor\\\":\\\"white\\\",\\\"ticks\\\":\\\"\\\",\\\"linecolor\\\":\\\"white\\\"}},\\\"autotypenumbers\\\":\\\"strict\\\",\\\"font\\\":{\\\"color\\\":\\\"#2a3f5f\\\"},\\\"ternary\\\":{\\\"baxis\\\":{\\\"gridcolor\\\":\\\"white\\\",\\\"ticks\\\":\\\"\\\",\\\"linecolor\\\":\\\"white\\\"},\\\"bgcolor\\\":\\\"#E5ECF6\\\",\\\"caxis\\\":{\\\"gridcolor\\\":\\\"white\\\",\\\"ticks\\\":\\\"\\\",\\\"linecolor\\\":\\\"white\\\"},\\\"aaxis\\\":{\\\"gridcolor\\\":\\\"white\\\",\\\"ticks\\\":\\\"\\\",\\\"linecolor\\\":\\\"white\\\"}},\\\"annotationdefaults\\\":{\\\"arrowhead\\\":0,\\\"arrowwidth\\\":1,\\\"arrowcolor\\\":\\\"#2a3f5f\\\"},\\\"plot_bgcolor\\\":\\\"#E5ECF6\\\",\\\"title\\\":{\\\"x\\\":0.05},\\\"scene\\\":{\\\"xaxis\\\":{\\\"gridcolor\\\":\\\"white\\\",\\\"gridwidth\\\":2,\\\"backgroundcolor\\\":\\\"#E5ECF6\\\",\\\"ticks\\\":\\\"\\\",\\\"showbackground\\\":true,\\\"zerolinecolor\\\":\\\"white\\\",\\\"linecolor\\\":\\\"white\\\"},\\\"zaxis\\\":{\\\"gridcolor\\\":\\\"white\\\",\\\"gridwidth\\\":2,\\\"backgroundcolor\\\":\\\"#E5ECF6\\\",\\\"ticks\\\":\\\"\\\",\\\"showbackground\\\":true,\\\"zerolinecolor\\\":\\\"white\\\",\\\"linecolor\\\":\\\"white\\\"},\\\"yaxis\\\":{\\\"gridcolor\\\":\\\"white\\\",\\\"gridwidth\\\":2,\\\"backgroundcolor\\\":\\\"#E5ECF6\\\",\\\"ticks\\\":\\\"\\\",\\\"showbackground\\\":true,\\\"zerolinecolor\\\":\\\"white\\\",\\\"linecolor\\\":\\\"white\\\"}},\\\"colorway\\\":[\\\"#636efa\\\",\\\"#EF553B\\\",\\\"#00cc96\\\",\\\"#ab63fa\\\",\\\"#FFA15A\\\",\\\"#19d3f3\\\",\\\"#FF6692\\\",\\\"#B6E880\\\",\\\"#FF97FF\\\",\\\"#FECB52\\\"]},\\\"data\\\":{\\\"barpolar\\\":[{\\\"type\\\":\\\"barpolar\\\",\\\"marker\\\":{\\\"line\\\":{\\\"color\\\":\\\"#E5ECF6\\\",\\\"width\\\":0.5}}}],\\\"carpet\\\":[{\\\"aaxis\\\":{\\\"gridcolor\\\":\\\"white\\\",\\\"endlinecolor\\\":\\\"#2a3f5f\\\",\\\"minorgridcolor\\\":\\\"white\\\",\\\"startlinecolor\\\":\\\"#2a3f5f\\\",\\\"linecolor\\\":\\\"white\\\"},\\\"type\\\":\\\"carpet\\\",\\\"baxis\\\":{\\\"gridcolor\\\":\\\"white\\\",\\\"endlinecolor\\\":\\\"#2a3f5f\\\",\\\"minorgridcolor\\\":\\\"white\\\",\\\"startlinecolor\\\":\\\"#2a3f5f\\\",\\\"linecolor\\\":\\\"white\\\"}}],\\\"scatterpolar\\\":[{\\\"type\\\":\\\"scatterpolar\\\",\\\"marker\\\":{\\\"colorbar\\\":{\\\"ticks\\\":\\\"\\\",\\\"outlinewidth\\\":0}}}],\\\"parcoords\\\":[{\\\"line\\\":{\\\"colorbar\\\":{\\\"ticks\\\":\\\"\\\",\\\"outlinewidth\\\":0}},\\\"type\\\":\\\"parcoords\\\"}],\\\"scatter\\\":[{\\\"type\\\":\\\"scatter\\\",\\\"marker\\\":{\\\"colorbar\\\":{\\\"ticks\\\":\\\"\\\",\\\"outlinewidth\\\":0}}}],\\\"histogram2dcontour\\\":[{\\\"colorbar\\\":{\\\"ticks\\\":\\\"\\\",\\\"outlinewidth\\\":0},\\\"type\\\":\\\"histogram2dcontour\\\",\\\"colorscale\\\":[[0.0,\\\"#0d0887\\\"],[0.1111111111111111,\\\"#46039f\\\"],[0.2222222222222222,\\\"#7201a8\\\"],[0.3333333333333333,\\\"#9c179e\\\"],[0.4444444444444444,\\\"#bd3786\\\"],[0.5555555555555556,\\\"#d8576b\\\"],[0.6666666666666666,\\\"#ed7953\\\"],[0.7777777777777778,\\\"#fb9f3a\\\"],[0.8888888888888888,\\\"#fdca26\\\"],[1.0,\\\"#f0f921\\\"]]}],\\\"contour\\\":[{\\\"colorbar\\\":{\\\"ticks\\\":\\\"\\\",\\\"outlinewidth\\\":0},\\\"type\\\":\\\"contour\\\",\\\"colorscale\\\":[[0.0,\\\"#0d0887\\\"],[0.1111111111111111,\\\"#46039f\\\"],[0.2222222222222222,\\\"#7201a8\\\"],[0.3333333333333333,\\\"#9c179e\\\"],[0.4444444444444444,\\\"#bd3786\\\"],[0.5555555555555556,\\\"#d8576b\\\"],[0.6666666666666666,\\\"#ed7953\\\"],[0.7777777777777778,\\\"#fb9f3a\\\"],[0.8888888888888888,\\\"#fdca26\\\"],[1.0,\\\"#f0f921\\\"]]}],\\\"scattercarpet\\\":[{\\\"type\\\":\\\"scattercarpet\\\",\\\"marker\\\":{\\\"colorbar\\\":{\\\"ticks\\\":\\\"\\\",\\\"outlinewidth\\\":0}}}],\\\"mesh3d\\\":[{\\\"colorbar\\\":{\\\"ticks\\\":\\\"\\\",\\\"outlinewidth\\\":0},\\\"type\\\":\\\"mesh3d\\\"}],\\\"surface\\\":[{\\\"colorbar\\\":{\\\"ticks\\\":\\\"\\\",\\\"outlinewidth\\\":0},\\\"type\\\":\\\"surface\\\",\\\"colorscale\\\":[[0.0,\\\"#0d0887\\\"],[0.1111111111111111,\\\"#46039f\\\"],[0.2222222222222222,\\\"#7201a8\\\"],[0.3333333333333333,\\\"#9c179e\\\"],[0.4444444444444444,\\\"#bd3786\\\"],[0.5555555555555556,\\\"#d8576b\\\"],[0.6666666666666666,\\\"#ed7953\\\"],[0.7777777777777778,\\\"#fb9f3a\\\"],[0.8888888888888888,\\\"#fdca26\\\"],[1.0,\\\"#f0f921\\\"]]}],\\\"scattermapbox\\\":[{\\\"type\\\":\\\"scattermapbox\\\",\\\"marker\\\":{\\\"colorbar\\\":{\\\"ticks\\\":\\\"\\\",\\\"outlinewidth\\\":0}}}],\\\"scattergeo\\\":[{\\\"type\\\":\\\"scattergeo\\\",\\\"marker\\\":{\\\"colorbar\\\":{\\\"ticks\\\":\\\"\\\",\\\"outlinewidth\\\":0}}}],\\\"histogram\\\":[{\\\"type\\\":\\\"histogram\\\",\\\"marker\\\":{\\\"colorbar\\\":{\\\"ticks\\\":\\\"\\\",\\\"outlinewidth\\\":0}}}],\\\"pie\\\":[{\\\"type\\\":\\\"pie\\\",\\\"automargin\\\":true}],\\\"choropleth\\\":[{\\\"colorbar\\\":{\\\"ticks\\\":\\\"\\\",\\\"outlinewidth\\\":0},\\\"type\\\":\\\"choropleth\\\"}],\\\"heatmapgl\\\":[{\\\"colorbar\\\":{\\\"ticks\\\":\\\"\\\",\\\"outlinewidth\\\":0},\\\"type\\\":\\\"heatmapgl\\\",\\\"colorscale\\\":[[0.0,\\\"#0d0887\\\"],[0.1111111111111111,\\\"#46039f\\\"],[0.2222222222222222,\\\"#7201a8\\\"],[0.3333333333333333,\\\"#9c179e\\\"],[0.4444444444444444,\\\"#bd3786\\\"],[0.5555555555555556,\\\"#d8576b\\\"],[0.6666666666666666,\\\"#ed7953\\\"],[0.7777777777777778,\\\"#fb9f3a\\\"],[0.8888888888888888,\\\"#fdca26\\\"],[1.0,\\\"#f0f921\\\"]]}],\\\"bar\\\":[{\\\"type\\\":\\\"bar\\\",\\\"error_y\\\":{\\\"color\\\":\\\"#2a3f5f\\\"},\\\"error_x\\\":{\\\"color\\\":\\\"#2a3f5f\\\"},\\\"marker\\\":{\\\"line\\\":{\\\"color\\\":\\\"#E5ECF6\\\",\\\"width\\\":0.5}}}],\\\"heatmap\\\":[{\\\"colorbar\\\":{\\\"ticks\\\":\\\"\\\",\\\"outlinewidth\\\":0},\\\"type\\\":\\\"heatmap\\\",\\\"colorscale\\\":[[0.0,\\\"#0d0887\\\"],[0.1111111111111111,\\\"#46039f\\\"],[0.2222222222222222,\\\"#7201a8\\\"],[0.3333333333333333,\\\"#9c179e\\\"],[0.4444444444444444,\\\"#bd3786\\\"],[0.5555555555555556,\\\"#d8576b\\\"],[0.6666666666666666,\\\"#ed7953\\\"],[0.7777777777777778,\\\"#fb9f3a\\\"],[0.8888888888888888,\\\"#fdca26\\\"],[1.0,\\\"#f0f921\\\"]]}],\\\"contourcarpet\\\":[{\\\"colorbar\\\":{\\\"ticks\\\":\\\"\\\",\\\"outlinewidth\\\":0},\\\"type\\\":\\\"contourcarpet\\\"}],\\\"table\\\":[{\\\"type\\\":\\\"table\\\",\\\"header\\\":{\\\"line\\\":{\\\"color\\\":\\\"white\\\"},\\\"fill\\\":{\\\"color\\\":\\\"#C8D4E3\\\"}},\\\"cells\\\":{\\\"line\\\":{\\\"color\\\":\\\"white\\\"},\\\"fill\\\":{\\\"color\\\":\\\"#EBF0F8\\\"}}}],\\\"scatter3d\\\":[{\\\"line\\\":{\\\"colorbar\\\":{\\\"ticks\\\":\\\"\\\",\\\"outlinewidth\\\":0}},\\\"type\\\":\\\"scatter3d\\\",\\\"marker\\\":{\\\"colorbar\\\":{\\\"ticks\\\":\\\"\\\",\\\"outlinewidth\\\":0}}}],\\\"scattergl\\\":[{\\\"type\\\":\\\"scattergl\\\",\\\"marker\\\":{\\\"colorbar\\\":{\\\"ticks\\\":\\\"\\\",\\\"outlinewidth\\\":0}}}],\\\"histogram2d\\\":[{\\\"colorbar\\\":{\\\"ticks\\\":\\\"\\\",\\\"outlinewidth\\\":0},\\\"type\\\":\\\"histogram2d\\\",\\\"colorscale\\\":[[0.0,\\\"#0d0887\\\"],[0.1111111111111111,\\\"#46039f\\\"],[0.2222222222222222,\\\"#7201a8\\\"],[0.3333333333333333,\\\"#9c179e\\\"],[0.4444444444444444,\\\"#bd3786\\\"],[0.5555555555555556,\\\"#d8576b\\\"],[0.6666666666666666,\\\"#ed7953\\\"],[0.7777777777777778,\\\"#fb9f3a\\\"],[0.8888888888888888,\\\"#fdca26\\\"],[1.0,\\\"#f0f921\\\"]]}],\\\"scatterternary\\\":[{\\\"type\\\":\\\"scatterternary\\\",\\\"marker\\\":{\\\"colorbar\\\":{\\\"ticks\\\":\\\"\\\",\\\"outlinewidth\\\":0}}}],\\\"scatterpolargl\\\":[{\\\"type\\\":\\\"scatterpolargl\\\",\\\"marker\\\":{\\\"colorbar\\\":{\\\"ticks\\\":\\\"\\\",\\\"outlinewidth\\\":0}}}]}},\\\"scene\\\":{\\\"xaxis\\\":{\\\"title\\\":\\\"UV Missed Surface Disinfection\\\",\\\"nticks\\\":4},\\\"yaxis\\\":{\\\"title\\\":\\\"UV Excess\\\\n Human Exposure\\\",\\\"nticks\\\":4},\\\"zaxis\\\":{\\\"title\\\":\\\"Fuzzing Operation Times\\\",\\\"nticks\\\":4}},\\\"margin\\\":{\\\"l\\\":50,\\\"b\\\":50,\\\"r\\\":50,\\\"t\\\":60},\\\"legend\\\":{\\\"tracegroupgap\\\":0},\\\"yaxis\\\":{\\\"title\\\":{\\\"text\\\":\\\"uvExcessHuman\\\"}}},{\\\"showLink\\\":false,\\\"editable\\\":false,\\\"responsive\\\":true,\\\"staticPlot\\\":false,\\\"scrollZoom\\\":true}); gd.on(\\\"plotly_hover\\\",(function (data){var filtered_data=WebIO.PlotlyCommands.filterEventData(gd,data,\\\"hover\\\"); return !(filtered_data.isnil) ? (WebIO.setval({\\\"name\\\":\\\"hover\\\",\\\"scope\\\":\\\"4460578301184658618\\\",\\\"id\\\":\\\"10147196373927426964\\\",\\\"type\\\":\\\"observable\\\"},filtered_data.out)) : undefined})); gd.on(\\\"plotly_unhover\\\",(function (){return WebIO.setval({\\\"name\\\":\\\"hover\\\",\\\"scope\\\":\\\"4460578301184658618\\\",\\\"id\\\":\\\"10147196373927426964\\\",\\\"type\\\":\\\"observable\\\"},{})})); gd.on(\\\"plotly_selected\\\",(function (data){var filtered_data=WebIO.PlotlyCommands.filterEventData(gd,data,\\\"selected\\\"); return !(filtered_data.isnil) ? (WebIO.setval({\\\"name\\\":\\\"selected\\\",\\\"scope\\\":\\\"4460578301184658618\\\",\\\"id\\\":\\\"1402733168840037629\\\",\\\"type\\\":\\\"observable\\\"},filtered_data.out)) : undefined})); gd.on(\\\"plotly_deselect\\\",(function (){return WebIO.setval({\\\"name\\\":\\\"selected\\\",\\\"scope\\\":\\\"4460578301184658618\\\",\\\"id\\\":\\\"1402733168840037629\\\",\\\"type\\\":\\\"observable\\\"},{})})); gd.on(\\\"plotly_relayout\\\",(function (data){var filtered_data=WebIO.PlotlyCommands.filterEventData(gd,data,\\\"relayout\\\"); return !(filtered_data.isnil) ? (WebIO.setval({\\\"name\\\":\\\"relayout\\\",\\\"scope\\\":\\\"4460578301184658618\\\",\\\"id\\\":\\\"14623957332567021758\\\",\\\"type\\\":\\\"observable\\\"},filtered_data.out)) : undefined})); return gd.on(\\\"plotly_click\\\",(function (data){var filtered_data=WebIO.PlotlyCommands.filterEventData(gd,data,\\\"click\\\"); return !(filtered_data.isnil) ? (WebIO.setval({\\\"name\\\":\\\"click\\\",\\\"scope\\\":\\\"4460578301184658618\\\",\\\"id\\\":\\\"4460971088713352879\\\",\\\"type\\\":\\\"observable\\\"},filtered_data.out)) : undefined}))}));\\n    (WebIO.importBlock({\\\"data\\\":[{\\\"name\\\":\\\"Plotly\\\",\\\"type\\\":\\\"js\\\",\\\"url\\\":\\\"\\/assetserver\\/429c6aaa48eaf0968f6b138e6853f2c80bcaf2c7-plotly.min.js\\\"},{\\\"name\\\":null,\\\"type\\\":\\\"js\\\",\\\"url\\\":\\\"\\/assetserver\\/94083cb4877671295d0541c18216b0ed75b23eb9-plotly_webio.bundle.js\\\"}],\\\"type\\\":\\\"async_block\\\"})).then((imports) => handler.apply(this, imports));\\n}\\n\"],\"observables\":{\"_toImage\":{\"sync\":false,\"id\":\"92810744727246271\",\"value\":{}},\"hover\":{\"sync\":false,\"id\":\"10147196373927426964\",\"value\":{}},\"selected\":{\"sync\":false,\"id\":\"1402733168840037629\",\"value\":{}},\"__gd_contents\":{\"sync\":false,\"id\":\"10956069835046563173\",\"value\":{}},\"click\":{\"sync\":false,\"id\":\"4460971088713352879\",\"value\":{}},\"image\":{\"sync\":true,\"id\":\"16811629843125415359\",\"value\":\"\"},\"__get_gd_contents\":{\"sync\":false,\"id\":\"3812988038876745878\",\"value\":\"\"},\"_downloadImage\":{\"sync\":false,\"id\":\"5805882365131633239\",\"value\":{}},\"relayout\":{\"sync\":false,\"id\":\"14623957332567021758\",\"value\":{}},\"_commands\":{\"sync\":false,\"id\":\"8921542305565539909\",\"value\":[]}}},\"children\":[{\"props\":{\"id\":\"plot-ed9b811c-3015-4c09-b7ff-f285e402e838\"},\"nodeType\":\"DOM\",\"type\":\"node\",\"instanceArgs\":{\"namespace\":\"html\",\"tag\":\"div\"},\"children\":[]}]},\n",
       "        window,\n",
       "    );\n",
       "    })()\n",
       "    </script>\n",
       "</div>\n"
      ],
      "text/plain": [
       "data: [\n",
       "  \"scatter3d with fields marker, mode, type, x, xaxis, y, yaxis, and z\"\n",
       "]\n",
       "\n",
       "layout: \"layout with fields legend, margin, scene, template, xaxis, and yaxis\"\n",
       "\n"
      ]
     },
     "execution_count": 63,
     "metadata": {},
     "output_type": "execute_result"
    }
   ],
   "source": [
    "using PlotlyJS\n",
    "\n",
    "fig = make_subplots(\n",
    "\n",
    "    rows=1, cols=1,\n",
    "\n",
    "    specs=fill(Spec(kind=\"scene\"), 1, 1)\n",
    ")\n",
    "\n",
    "layout = Layout(\n",
    "\n",
    "    scene=attr( \n",
    "            xaxis=attr(\n",
    "                nticks=4,\n",
    "                title=\"UV Missed Surface Disinfection\"),\n",
    "            yaxis=attr(\n",
    "                nticks=4,\n",
    "                title=\"UV Excess\\n Human Exposure\"),\n",
    "            zaxis=attr(\n",
    "                nticks=4, \n",
    "                title=\"Fuzzing Operation Times\")))\n",
    "\n",
    "plot(timebased_data, x=:uvMissSurface, y=:uvExcessHuman, z=:fuzzOpTimes, type=\"scatter3d\",\n",
    "mode=\"markers\", marker=attr(size=3), layout)\n"
   ]
  },
  {
   "cell_type": "code",
   "execution_count": 60,
   "id": "8c09763a",
   "metadata": {},
   "outputs": [
    {
     "data": {
      "text/plain": [
       "mesh3d (generic function with 3 methods)"
      ]
     },
     "execution_count": 60,
     "metadata": {},
     "output_type": "execute_result"
    }
   ],
   "source": [
    "a = PlotlyJS.mesh3d"
   ]
  },
  {
   "cell_type": "code",
   "execution_count": 64,
   "id": "75075aae",
   "metadata": {},
   "outputs": [
    {
     "data": {
      "application/vnd.plotly.v1+json": {
       "config": {
        "editable": false,
        "responsive": true,
        "scrollZoom": true,
        "showLink": false,
        "staticPlot": false
       },
       "data": [
        {
         "marker": {
          "size": 3
         },
         "mode": "markers",
         "opacity": 0.5,
         "type": "mesh3d",
         "x": [
          0,
          9.72,
          11.1,
          0,
          0,
          0,
          7.6,
          7,
          2.15,
          6.75,
          4.54,
          0.58,
          2.87,
          3.17,
          6.13,
          2.66,
          9.1,
          5.28,
          2.99,
          6.2
         ],
         "xaxis": "x",
         "y": [
          0,
          0.08,
          0,
          0,
          15.54,
          10.96,
          0.54,
          7.3,
          8.91,
          7.48,
          12.44,
          11.66,
          5.89,
          0,
          4.3,
          12.82,
          1.02,
          1.72,
          2.91,
          4.05
         ],
         "yaxis": "y",
         "z": [
          0.08,
          522.88,
          146.46,
          0.08,
          213.78,
          105.22,
          264.5,
          372.98,
          159.14,
          447.02,
          320.98,
          196.26,
          86.6,
          42.78,
          307.49,
          211.15,
          316.63,
          138.41,
          129.35,
          161.38
         ]
        }
       ],
       "frames": [],
       "layout": {
        "legend": {
         "tracegroupgap": 0
        },
        "margin": {
         "b": 50,
         "l": 50,
         "r": 50,
         "t": 60
        },
        "scene": {
         "xaxis": {
          "nticks": 4,
          "title": "UVC Missed Surface<br>Disinfection"
         },
         "yaxis": {
          "nticks": 4,
          "title": "UV Excess <br> Human <br> Exposure"
         },
         "zaxis": {
          "nticks": 4,
          "title": "Fuzzing Operation<br> Times"
         }
        },
        "template": {
         "data": {
          "bar": [
           {
            "error_x": {
             "color": "#2a3f5f"
            },
            "error_y": {
             "color": "#2a3f5f"
            },
            "marker": {
             "line": {
              "color": "#E5ECF6",
              "width": 0.5
             }
            },
            "type": "bar"
           }
          ],
          "barpolar": [
           {
            "marker": {
             "line": {
              "color": "#E5ECF6",
              "width": 0.5
             }
            },
            "type": "barpolar"
           }
          ],
          "carpet": [
           {
            "aaxis": {
             "endlinecolor": "#2a3f5f",
             "gridcolor": "white",
             "linecolor": "white",
             "minorgridcolor": "white",
             "startlinecolor": "#2a3f5f"
            },
            "baxis": {
             "endlinecolor": "#2a3f5f",
             "gridcolor": "white",
             "linecolor": "white",
             "minorgridcolor": "white",
             "startlinecolor": "#2a3f5f"
            },
            "type": "carpet"
           }
          ],
          "choropleth": [
           {
            "colorbar": {
             "outlinewidth": 0,
             "ticks": ""
            },
            "type": "choropleth"
           }
          ],
          "contour": [
           {
            "colorbar": {
             "outlinewidth": 0,
             "ticks": ""
            },
            "colorscale": [
             [
              0,
              "#0d0887"
             ],
             [
              0.1111111111111111,
              "#46039f"
             ],
             [
              0.2222222222222222,
              "#7201a8"
             ],
             [
              0.3333333333333333,
              "#9c179e"
             ],
             [
              0.4444444444444444,
              "#bd3786"
             ],
             [
              0.5555555555555556,
              "#d8576b"
             ],
             [
              0.6666666666666666,
              "#ed7953"
             ],
             [
              0.7777777777777778,
              "#fb9f3a"
             ],
             [
              0.8888888888888888,
              "#fdca26"
             ],
             [
              1,
              "#f0f921"
             ]
            ],
            "type": "contour"
           }
          ],
          "contourcarpet": [
           {
            "colorbar": {
             "outlinewidth": 0,
             "ticks": ""
            },
            "type": "contourcarpet"
           }
          ],
          "heatmap": [
           {
            "colorbar": {
             "outlinewidth": 0,
             "ticks": ""
            },
            "colorscale": [
             [
              0,
              "#0d0887"
             ],
             [
              0.1111111111111111,
              "#46039f"
             ],
             [
              0.2222222222222222,
              "#7201a8"
             ],
             [
              0.3333333333333333,
              "#9c179e"
             ],
             [
              0.4444444444444444,
              "#bd3786"
             ],
             [
              0.5555555555555556,
              "#d8576b"
             ],
             [
              0.6666666666666666,
              "#ed7953"
             ],
             [
              0.7777777777777778,
              "#fb9f3a"
             ],
             [
              0.8888888888888888,
              "#fdca26"
             ],
             [
              1,
              "#f0f921"
             ]
            ],
            "type": "heatmap"
           }
          ],
          "heatmapgl": [
           {
            "colorbar": {
             "outlinewidth": 0,
             "ticks": ""
            },
            "colorscale": [
             [
              0,
              "#0d0887"
             ],
             [
              0.1111111111111111,
              "#46039f"
             ],
             [
              0.2222222222222222,
              "#7201a8"
             ],
             [
              0.3333333333333333,
              "#9c179e"
             ],
             [
              0.4444444444444444,
              "#bd3786"
             ],
             [
              0.5555555555555556,
              "#d8576b"
             ],
             [
              0.6666666666666666,
              "#ed7953"
             ],
             [
              0.7777777777777778,
              "#fb9f3a"
             ],
             [
              0.8888888888888888,
              "#fdca26"
             ],
             [
              1,
              "#f0f921"
             ]
            ],
            "type": "heatmapgl"
           }
          ],
          "histogram": [
           {
            "marker": {
             "colorbar": {
              "outlinewidth": 0,
              "ticks": ""
             }
            },
            "type": "histogram"
           }
          ],
          "histogram2d": [
           {
            "colorbar": {
             "outlinewidth": 0,
             "ticks": ""
            },
            "colorscale": [
             [
              0,
              "#0d0887"
             ],
             [
              0.1111111111111111,
              "#46039f"
             ],
             [
              0.2222222222222222,
              "#7201a8"
             ],
             [
              0.3333333333333333,
              "#9c179e"
             ],
             [
              0.4444444444444444,
              "#bd3786"
             ],
             [
              0.5555555555555556,
              "#d8576b"
             ],
             [
              0.6666666666666666,
              "#ed7953"
             ],
             [
              0.7777777777777778,
              "#fb9f3a"
             ],
             [
              0.8888888888888888,
              "#fdca26"
             ],
             [
              1,
              "#f0f921"
             ]
            ],
            "type": "histogram2d"
           }
          ],
          "histogram2dcontour": [
           {
            "colorbar": {
             "outlinewidth": 0,
             "ticks": ""
            },
            "colorscale": [
             [
              0,
              "#0d0887"
             ],
             [
              0.1111111111111111,
              "#46039f"
             ],
             [
              0.2222222222222222,
              "#7201a8"
             ],
             [
              0.3333333333333333,
              "#9c179e"
             ],
             [
              0.4444444444444444,
              "#bd3786"
             ],
             [
              0.5555555555555556,
              "#d8576b"
             ],
             [
              0.6666666666666666,
              "#ed7953"
             ],
             [
              0.7777777777777778,
              "#fb9f3a"
             ],
             [
              0.8888888888888888,
              "#fdca26"
             ],
             [
              1,
              "#f0f921"
             ]
            ],
            "type": "histogram2dcontour"
           }
          ],
          "mesh3d": [
           {
            "colorbar": {
             "outlinewidth": 0,
             "ticks": ""
            },
            "type": "mesh3d"
           }
          ],
          "parcoords": [
           {
            "line": {
             "colorbar": {
              "outlinewidth": 0,
              "ticks": ""
             }
            },
            "type": "parcoords"
           }
          ],
          "pie": [
           {
            "automargin": true,
            "type": "pie"
           }
          ],
          "scatter": [
           {
            "marker": {
             "colorbar": {
              "outlinewidth": 0,
              "ticks": ""
             }
            },
            "type": "scatter"
           }
          ],
          "scatter3d": [
           {
            "line": {
             "colorbar": {
              "outlinewidth": 0,
              "ticks": ""
             }
            },
            "marker": {
             "colorbar": {
              "outlinewidth": 0,
              "ticks": ""
             }
            },
            "type": "scatter3d"
           }
          ],
          "scattercarpet": [
           {
            "marker": {
             "colorbar": {
              "outlinewidth": 0,
              "ticks": ""
             }
            },
            "type": "scattercarpet"
           }
          ],
          "scattergeo": [
           {
            "marker": {
             "colorbar": {
              "outlinewidth": 0,
              "ticks": ""
             }
            },
            "type": "scattergeo"
           }
          ],
          "scattergl": [
           {
            "marker": {
             "colorbar": {
              "outlinewidth": 0,
              "ticks": ""
             }
            },
            "type": "scattergl"
           }
          ],
          "scattermapbox": [
           {
            "marker": {
             "colorbar": {
              "outlinewidth": 0,
              "ticks": ""
             }
            },
            "type": "scattermapbox"
           }
          ],
          "scatterpolar": [
           {
            "marker": {
             "colorbar": {
              "outlinewidth": 0,
              "ticks": ""
             }
            },
            "type": "scatterpolar"
           }
          ],
          "scatterpolargl": [
           {
            "marker": {
             "colorbar": {
              "outlinewidth": 0,
              "ticks": ""
             }
            },
            "type": "scatterpolargl"
           }
          ],
          "scatterternary": [
           {
            "marker": {
             "colorbar": {
              "outlinewidth": 0,
              "ticks": ""
             }
            },
            "type": "scatterternary"
           }
          ],
          "surface": [
           {
            "colorbar": {
             "outlinewidth": 0,
             "ticks": ""
            },
            "colorscale": [
             [
              0,
              "#0d0887"
             ],
             [
              0.1111111111111111,
              "#46039f"
             ],
             [
              0.2222222222222222,
              "#7201a8"
             ],
             [
              0.3333333333333333,
              "#9c179e"
             ],
             [
              0.4444444444444444,
              "#bd3786"
             ],
             [
              0.5555555555555556,
              "#d8576b"
             ],
             [
              0.6666666666666666,
              "#ed7953"
             ],
             [
              0.7777777777777778,
              "#fb9f3a"
             ],
             [
              0.8888888888888888,
              "#fdca26"
             ],
             [
              1,
              "#f0f921"
             ]
            ],
            "type": "surface"
           }
          ],
          "table": [
           {
            "cells": {
             "fill": {
              "color": "#EBF0F8"
             },
             "line": {
              "color": "white"
             }
            },
            "header": {
             "fill": {
              "color": "#C8D4E3"
             },
             "line": {
              "color": "white"
             }
            },
            "type": "table"
           }
          ]
         },
         "layout": {
          "annotationdefaults": {
           "arrowcolor": "#2a3f5f",
           "arrowhead": 0,
           "arrowwidth": 1
          },
          "autotypenumbers": "strict",
          "coloraxis": {
           "colorbar": {
            "outlinewidth": 0,
            "ticks": ""
           }
          },
          "colorscale": {
           "diverging": [
            [
             0,
             "#8e0152"
            ],
            [
             0.1,
             "#c51b7d"
            ],
            [
             0.2,
             "#de77ae"
            ],
            [
             0.3,
             "#f1b6da"
            ],
            [
             0.4,
             "#fde0ef"
            ],
            [
             0.5,
             "#f7f7f7"
            ],
            [
             0.6,
             "#e6f5d0"
            ],
            [
             0.7,
             "#b8e186"
            ],
            [
             0.8,
             "#7fbc41"
            ],
            [
             0.9,
             "#4d9221"
            ],
            [
             1,
             "#276419"
            ]
           ],
           "sequential": [
            [
             0,
             "#0d0887"
            ],
            [
             0.1111111111111111,
             "#46039f"
            ],
            [
             0.2222222222222222,
             "#7201a8"
            ],
            [
             0.3333333333333333,
             "#9c179e"
            ],
            [
             0.4444444444444444,
             "#bd3786"
            ],
            [
             0.5555555555555556,
             "#d8576b"
            ],
            [
             0.6666666666666666,
             "#ed7953"
            ],
            [
             0.7777777777777778,
             "#fb9f3a"
            ],
            [
             0.8888888888888888,
             "#fdca26"
            ],
            [
             1,
             "#f0f921"
            ]
           ],
           "sequentialminus": [
            [
             0,
             "#0d0887"
            ],
            [
             0.1111111111111111,
             "#46039f"
            ],
            [
             0.2222222222222222,
             "#7201a8"
            ],
            [
             0.3333333333333333,
             "#9c179e"
            ],
            [
             0.4444444444444444,
             "#bd3786"
            ],
            [
             0.5555555555555556,
             "#d8576b"
            ],
            [
             0.6666666666666666,
             "#ed7953"
            ],
            [
             0.7777777777777778,
             "#fb9f3a"
            ],
            [
             0.8888888888888888,
             "#fdca26"
            ],
            [
             1,
             "#f0f921"
            ]
           ]
          },
          "colorway": [
           "#636efa",
           "#EF553B",
           "#00cc96",
           "#ab63fa",
           "#FFA15A",
           "#19d3f3",
           "#FF6692",
           "#B6E880",
           "#FF97FF",
           "#FECB52"
          ],
          "font": {
           "color": "#2a3f5f"
          },
          "geo": {
           "bgcolor": "white",
           "lakecolor": "white",
           "landcolor": "#E5ECF6",
           "showlakes": true,
           "showland": true,
           "subunitcolor": "white"
          },
          "hoverlabel": {
           "align": "left"
          },
          "hovermode": "closest",
          "mapbox": {
           "style": "light"
          },
          "paper_bgcolor": "white",
          "plot_bgcolor": "#E5ECF6",
          "polar": {
           "angularaxis": {
            "gridcolor": "white",
            "linecolor": "white",
            "ticks": ""
           },
           "bgcolor": "#E5ECF6",
           "radialaxis": {
            "gridcolor": "white",
            "linecolor": "white",
            "ticks": ""
           }
          },
          "scene": {
           "xaxis": {
            "backgroundcolor": "#E5ECF6",
            "gridcolor": "white",
            "gridwidth": 2,
            "linecolor": "white",
            "showbackground": true,
            "ticks": "",
            "zerolinecolor": "white"
           },
           "yaxis": {
            "backgroundcolor": "#E5ECF6",
            "gridcolor": "white",
            "gridwidth": 2,
            "linecolor": "white",
            "showbackground": true,
            "ticks": "",
            "zerolinecolor": "white"
           },
           "zaxis": {
            "backgroundcolor": "#E5ECF6",
            "gridcolor": "white",
            "gridwidth": 2,
            "linecolor": "white",
            "showbackground": true,
            "ticks": "",
            "zerolinecolor": "white"
           }
          },
          "shapedefaults": {
           "line": {
            "color": "#2a3f5f"
           }
          },
          "ternary": {
           "aaxis": {
            "gridcolor": "white",
            "linecolor": "white",
            "ticks": ""
           },
           "baxis": {
            "gridcolor": "white",
            "linecolor": "white",
            "ticks": ""
           },
           "bgcolor": "#E5ECF6",
           "caxis": {
            "gridcolor": "white",
            "linecolor": "white",
            "ticks": ""
           }
          },
          "title": {
           "x": 0.05
          },
          "xaxis": {
           "automargin": true,
           "gridcolor": "white",
           "linecolor": "white",
           "ticks": "",
           "title": {
            "standoff": 15
           },
           "zerolinecolor": "white",
           "zerolinewidth": 2
          },
          "yaxis": {
           "automargin": true,
           "gridcolor": "white",
           "linecolor": "white",
           "ticks": "",
           "title": {
            "standoff": 15
           },
           "zerolinecolor": "white",
           "zerolinewidth": 2
          }
         }
        },
        "xaxis": {
         "title": {
          "text": "uvMissSurface"
         }
        },
        "yaxis": {
         "title": {
          "text": "uvExcessHuman"
         }
        }
       }
      },
      "text/html": [
       "<div\n",
       "    class=\"webio-mountpoint\"\n",
       "    data-webio-mountpoint=\"8499224641960939087\"\n",
       ">\n",
       "    <script>\n",
       "    (function(){\n",
       "    // Some integrations (namely, IJulia/Jupyter) use an alternate render pathway than\n",
       "    // just putting the html on the page. If WebIO isn't defined, then it's pretty likely\n",
       "    // that we're in one of those situations and the integration just isn't installed\n",
       "    // correctly.\n",
       "    if (typeof window.WebIO === \"undefined\") {\n",
       "        document\n",
       "            .querySelector('[data-webio-mountpoint=\"8499224641960939087\"]')\n",
       "            .innerHTML = (\n",
       "                '<div style=\"padding: 1em; background-color: #f8d6da; border: 1px solid #f5c6cb; font-weight: bold;\">' +\n",
       "                '<p><strong>WebIO not detected.</strong></p>' +\n",
       "                '<p>Please read ' +\n",
       "                '<a href=\"https://juliagizmos.github.io/WebIO.jl/latest/troubleshooting/not-detected/\" target=\"_blank\">the troubleshooting guide</a> ' +\n",
       "                'for more information on how to resolve this issue.</p>' +\n",
       "                '<p><a href=\"https://juliagizmos.github.io/WebIO.jl/latest/troubleshooting/not-detected/\" target=\"_blank\">https://juliagizmos.github.io/WebIO.jl/latest/troubleshooting/not-detected/</a></p>' +\n",
       "                '</div>'\n",
       "            );\n",
       "        return;\n",
       "    }\n",
       "    WebIO.mount(\n",
       "        document.querySelector('[data-webio-mountpoint=\"8499224641960939087\"]'),\n",
       "        {\"props\":{},\"nodeType\":\"Scope\",\"type\":\"node\",\"instanceArgs\":{\"imports\":{\"data\":[{\"name\":\"Plotly\",\"type\":\"js\",\"url\":\"\\/assetserver\\/429c6aaa48eaf0968f6b138e6853f2c80bcaf2c7-plotly.min.js\"},{\"name\":null,\"type\":\"js\",\"url\":\"\\/assetserver\\/94083cb4877671295d0541c18216b0ed75b23eb9-plotly_webio.bundle.js\"}],\"type\":\"async_block\"},\"id\":\"5562831776466050042\",\"handlers\":{\"_toImage\":[\"(function (options){return this.Plotly.toImage(this.plotElem,options).then((function (data){return WebIO.setval({\\\"name\\\":\\\"image\\\",\\\"scope\\\":\\\"5562831776466050042\\\",\\\"id\\\":\\\"10285575472168983005\\\",\\\"type\\\":\\\"observable\\\"},data)}))})\"],\"__get_gd_contents\":[\"(function (prop){prop==\\\"data\\\" ? (WebIO.setval({\\\"name\\\":\\\"__gd_contents\\\",\\\"scope\\\":\\\"5562831776466050042\\\",\\\"id\\\":\\\"3673691426074792134\\\",\\\"type\\\":\\\"observable\\\"},this.plotElem.data)) : undefined; return prop==\\\"layout\\\" ? (WebIO.setval({\\\"name\\\":\\\"__gd_contents\\\",\\\"scope\\\":\\\"5562831776466050042\\\",\\\"id\\\":\\\"3673691426074792134\\\",\\\"type\\\":\\\"observable\\\"},this.plotElem.layout)) : undefined})\"],\"_downloadImage\":[\"(function (options){return this.Plotly.downloadImage(this.plotElem,options)})\"],\"_commands\":[\"(function (args){var fn=args.shift(); var elem=this.plotElem; var Plotly=this.Plotly; args.unshift(elem); return Plotly[fn].apply(this,args)})\"]},\"systemjs_options\":null,\"mount_callbacks\":[\"function () {\\n    var handler = ((function (Plotly,PlotlyWebIO){PlotlyWebIO.init(WebIO); var gd=this.dom.querySelector(\\\"#plot-f01833fa-2335-4f56-ba46-6b3f01428b1f\\\"); this.plotElem=gd; this.Plotly=Plotly; (window.Blink!==undefined) ? (gd.style.width=\\\"100%\\\", gd.style.height=\\\"100vh\\\", gd.style.marginLeft=\\\"0%\\\", gd.style.marginTop=\\\"0vh\\\") : undefined; window.onresize=(function (){return Plotly.Plots.resize(gd)}); Plotly.newPlot(gd,[{\\\"x\\\":[0.0,9.72,11.1,0.0,0.0,0.0,7.6,7.0,2.15,6.75,4.54,0.58,2.87,3.17,6.13,2.66,9.1,5.28,2.99,6.2],\\\"mode\\\":\\\"markers\\\",\\\"xaxis\\\":\\\"x\\\",\\\"y\\\":[0.0,0.08,0.0,0.0,15.54,10.96,0.54,7.3,8.91,7.48,12.44,11.66,5.89,0.0,4.3,12.82,1.02,1.72,2.91,4.05],\\\"type\\\":\\\"mesh3d\\\",\\\"opacity\\\":0.5,\\\"yaxis\\\":\\\"y\\\",\\\"z\\\":[0.08,522.88,146.46,0.08,213.78,105.22,264.5,372.98,159.14,447.02,320.98,196.26,86.6,42.78,307.49,211.15,316.63,138.41,129.35,161.38],\\\"marker\\\":{\\\"size\\\":3}}],{\\\"xaxis\\\":{\\\"title\\\":{\\\"text\\\":\\\"uvMissSurface\\\"}},\\\"template\\\":{\\\"layout\\\":{\\\"coloraxis\\\":{\\\"colorbar\\\":{\\\"ticks\\\":\\\"\\\",\\\"outlinewidth\\\":0}},\\\"xaxis\\\":{\\\"gridcolor\\\":\\\"white\\\",\\\"zerolinewidth\\\":2,\\\"title\\\":{\\\"standoff\\\":15},\\\"ticks\\\":\\\"\\\",\\\"zerolinecolor\\\":\\\"white\\\",\\\"automargin\\\":true,\\\"linecolor\\\":\\\"white\\\"},\\\"hovermode\\\":\\\"closest\\\",\\\"paper_bgcolor\\\":\\\"white\\\",\\\"geo\\\":{\\\"showlakes\\\":true,\\\"showland\\\":true,\\\"landcolor\\\":\\\"#E5ECF6\\\",\\\"bgcolor\\\":\\\"white\\\",\\\"subunitcolor\\\":\\\"white\\\",\\\"lakecolor\\\":\\\"white\\\"},\\\"colorscale\\\":{\\\"sequential\\\":[[0.0,\\\"#0d0887\\\"],[0.1111111111111111,\\\"#46039f\\\"],[0.2222222222222222,\\\"#7201a8\\\"],[0.3333333333333333,\\\"#9c179e\\\"],[0.4444444444444444,\\\"#bd3786\\\"],[0.5555555555555556,\\\"#d8576b\\\"],[0.6666666666666666,\\\"#ed7953\\\"],[0.7777777777777778,\\\"#fb9f3a\\\"],[0.8888888888888888,\\\"#fdca26\\\"],[1.0,\\\"#f0f921\\\"]],\\\"diverging\\\":[[0,\\\"#8e0152\\\"],[0.1,\\\"#c51b7d\\\"],[0.2,\\\"#de77ae\\\"],[0.3,\\\"#f1b6da\\\"],[0.4,\\\"#fde0ef\\\"],[0.5,\\\"#f7f7f7\\\"],[0.6,\\\"#e6f5d0\\\"],[0.7,\\\"#b8e186\\\"],[0.8,\\\"#7fbc41\\\"],[0.9,\\\"#4d9221\\\"],[1,\\\"#276419\\\"]],\\\"sequentialminus\\\":[[0.0,\\\"#0d0887\\\"],[0.1111111111111111,\\\"#46039f\\\"],[0.2222222222222222,\\\"#7201a8\\\"],[0.3333333333333333,\\\"#9c179e\\\"],[0.4444444444444444,\\\"#bd3786\\\"],[0.5555555555555556,\\\"#d8576b\\\"],[0.6666666666666666,\\\"#ed7953\\\"],[0.7777777777777778,\\\"#fb9f3a\\\"],[0.8888888888888888,\\\"#fdca26\\\"],[1.0,\\\"#f0f921\\\"]]},\\\"yaxis\\\":{\\\"gridcolor\\\":\\\"white\\\",\\\"zerolinewidth\\\":2,\\\"title\\\":{\\\"standoff\\\":15},\\\"ticks\\\":\\\"\\\",\\\"zerolinecolor\\\":\\\"white\\\",\\\"automargin\\\":true,\\\"linecolor\\\":\\\"white\\\"},\\\"shapedefaults\\\":{\\\"line\\\":{\\\"color\\\":\\\"#2a3f5f\\\"}},\\\"hoverlabel\\\":{\\\"align\\\":\\\"left\\\"},\\\"mapbox\\\":{\\\"style\\\":\\\"light\\\"},\\\"polar\\\":{\\\"angularaxis\\\":{\\\"gridcolor\\\":\\\"white\\\",\\\"ticks\\\":\\\"\\\",\\\"linecolor\\\":\\\"white\\\"},\\\"bgcolor\\\":\\\"#E5ECF6\\\",\\\"radialaxis\\\":{\\\"gridcolor\\\":\\\"white\\\",\\\"ticks\\\":\\\"\\\",\\\"linecolor\\\":\\\"white\\\"}},\\\"autotypenumbers\\\":\\\"strict\\\",\\\"font\\\":{\\\"color\\\":\\\"#2a3f5f\\\"},\\\"ternary\\\":{\\\"baxis\\\":{\\\"gridcolor\\\":\\\"white\\\",\\\"ticks\\\":\\\"\\\",\\\"linecolor\\\":\\\"white\\\"},\\\"bgcolor\\\":\\\"#E5ECF6\\\",\\\"caxis\\\":{\\\"gridcolor\\\":\\\"white\\\",\\\"ticks\\\":\\\"\\\",\\\"linecolor\\\":\\\"white\\\"},\\\"aaxis\\\":{\\\"gridcolor\\\":\\\"white\\\",\\\"ticks\\\":\\\"\\\",\\\"linecolor\\\":\\\"white\\\"}},\\\"annotationdefaults\\\":{\\\"arrowhead\\\":0,\\\"arrowwidth\\\":1,\\\"arrowcolor\\\":\\\"#2a3f5f\\\"},\\\"plot_bgcolor\\\":\\\"#E5ECF6\\\",\\\"title\\\":{\\\"x\\\":0.05},\\\"scene\\\":{\\\"xaxis\\\":{\\\"gridcolor\\\":\\\"white\\\",\\\"gridwidth\\\":2,\\\"backgroundcolor\\\":\\\"#E5ECF6\\\",\\\"ticks\\\":\\\"\\\",\\\"showbackground\\\":true,\\\"zerolinecolor\\\":\\\"white\\\",\\\"linecolor\\\":\\\"white\\\"},\\\"zaxis\\\":{\\\"gridcolor\\\":\\\"white\\\",\\\"gridwidth\\\":2,\\\"backgroundcolor\\\":\\\"#E5ECF6\\\",\\\"ticks\\\":\\\"\\\",\\\"showbackground\\\":true,\\\"zerolinecolor\\\":\\\"white\\\",\\\"linecolor\\\":\\\"white\\\"},\\\"yaxis\\\":{\\\"gridcolor\\\":\\\"white\\\",\\\"gridwidth\\\":2,\\\"backgroundcolor\\\":\\\"#E5ECF6\\\",\\\"ticks\\\":\\\"\\\",\\\"showbackground\\\":true,\\\"zerolinecolor\\\":\\\"white\\\",\\\"linecolor\\\":\\\"white\\\"}},\\\"colorway\\\":[\\\"#636efa\\\",\\\"#EF553B\\\",\\\"#00cc96\\\",\\\"#ab63fa\\\",\\\"#FFA15A\\\",\\\"#19d3f3\\\",\\\"#FF6692\\\",\\\"#B6E880\\\",\\\"#FF97FF\\\",\\\"#FECB52\\\"]},\\\"data\\\":{\\\"barpolar\\\":[{\\\"type\\\":\\\"barpolar\\\",\\\"marker\\\":{\\\"line\\\":{\\\"color\\\":\\\"#E5ECF6\\\",\\\"width\\\":0.5}}}],\\\"carpet\\\":[{\\\"aaxis\\\":{\\\"gridcolor\\\":\\\"white\\\",\\\"endlinecolor\\\":\\\"#2a3f5f\\\",\\\"minorgridcolor\\\":\\\"white\\\",\\\"startlinecolor\\\":\\\"#2a3f5f\\\",\\\"linecolor\\\":\\\"white\\\"},\\\"type\\\":\\\"carpet\\\",\\\"baxis\\\":{\\\"gridcolor\\\":\\\"white\\\",\\\"endlinecolor\\\":\\\"#2a3f5f\\\",\\\"minorgridcolor\\\":\\\"white\\\",\\\"startlinecolor\\\":\\\"#2a3f5f\\\",\\\"linecolor\\\":\\\"white\\\"}}],\\\"scatterpolar\\\":[{\\\"type\\\":\\\"scatterpolar\\\",\\\"marker\\\":{\\\"colorbar\\\":{\\\"ticks\\\":\\\"\\\",\\\"outlinewidth\\\":0}}}],\\\"parcoords\\\":[{\\\"line\\\":{\\\"colorbar\\\":{\\\"ticks\\\":\\\"\\\",\\\"outlinewidth\\\":0}},\\\"type\\\":\\\"parcoords\\\"}],\\\"scatter\\\":[{\\\"type\\\":\\\"scatter\\\",\\\"marker\\\":{\\\"colorbar\\\":{\\\"ticks\\\":\\\"\\\",\\\"outlinewidth\\\":0}}}],\\\"histogram2dcontour\\\":[{\\\"colorbar\\\":{\\\"ticks\\\":\\\"\\\",\\\"outlinewidth\\\":0},\\\"type\\\":\\\"histogram2dcontour\\\",\\\"colorscale\\\":[[0.0,\\\"#0d0887\\\"],[0.1111111111111111,\\\"#46039f\\\"],[0.2222222222222222,\\\"#7201a8\\\"],[0.3333333333333333,\\\"#9c179e\\\"],[0.4444444444444444,\\\"#bd3786\\\"],[0.5555555555555556,\\\"#d8576b\\\"],[0.6666666666666666,\\\"#ed7953\\\"],[0.7777777777777778,\\\"#fb9f3a\\\"],[0.8888888888888888,\\\"#fdca26\\\"],[1.0,\\\"#f0f921\\\"]]}],\\\"contour\\\":[{\\\"colorbar\\\":{\\\"ticks\\\":\\\"\\\",\\\"outlinewidth\\\":0},\\\"type\\\":\\\"contour\\\",\\\"colorscale\\\":[[0.0,\\\"#0d0887\\\"],[0.1111111111111111,\\\"#46039f\\\"],[0.2222222222222222,\\\"#7201a8\\\"],[0.3333333333333333,\\\"#9c179e\\\"],[0.4444444444444444,\\\"#bd3786\\\"],[0.5555555555555556,\\\"#d8576b\\\"],[0.6666666666666666,\\\"#ed7953\\\"],[0.7777777777777778,\\\"#fb9f3a\\\"],[0.8888888888888888,\\\"#fdca26\\\"],[1.0,\\\"#f0f921\\\"]]}],\\\"scattercarpet\\\":[{\\\"type\\\":\\\"scattercarpet\\\",\\\"marker\\\":{\\\"colorbar\\\":{\\\"ticks\\\":\\\"\\\",\\\"outlinewidth\\\":0}}}],\\\"mesh3d\\\":[{\\\"colorbar\\\":{\\\"ticks\\\":\\\"\\\",\\\"outlinewidth\\\":0},\\\"type\\\":\\\"mesh3d\\\"}],\\\"surface\\\":[{\\\"colorbar\\\":{\\\"ticks\\\":\\\"\\\",\\\"outlinewidth\\\":0},\\\"type\\\":\\\"surface\\\",\\\"colorscale\\\":[[0.0,\\\"#0d0887\\\"],[0.1111111111111111,\\\"#46039f\\\"],[0.2222222222222222,\\\"#7201a8\\\"],[0.3333333333333333,\\\"#9c179e\\\"],[0.4444444444444444,\\\"#bd3786\\\"],[0.5555555555555556,\\\"#d8576b\\\"],[0.6666666666666666,\\\"#ed7953\\\"],[0.7777777777777778,\\\"#fb9f3a\\\"],[0.8888888888888888,\\\"#fdca26\\\"],[1.0,\\\"#f0f921\\\"]]}],\\\"scattermapbox\\\":[{\\\"type\\\":\\\"scattermapbox\\\",\\\"marker\\\":{\\\"colorbar\\\":{\\\"ticks\\\":\\\"\\\",\\\"outlinewidth\\\":0}}}],\\\"scattergeo\\\":[{\\\"type\\\":\\\"scattergeo\\\",\\\"marker\\\":{\\\"colorbar\\\":{\\\"ticks\\\":\\\"\\\",\\\"outlinewidth\\\":0}}}],\\\"histogram\\\":[{\\\"type\\\":\\\"histogram\\\",\\\"marker\\\":{\\\"colorbar\\\":{\\\"ticks\\\":\\\"\\\",\\\"outlinewidth\\\":0}}}],\\\"pie\\\":[{\\\"type\\\":\\\"pie\\\",\\\"automargin\\\":true}],\\\"choropleth\\\":[{\\\"colorbar\\\":{\\\"ticks\\\":\\\"\\\",\\\"outlinewidth\\\":0},\\\"type\\\":\\\"choropleth\\\"}],\\\"heatmapgl\\\":[{\\\"colorbar\\\":{\\\"ticks\\\":\\\"\\\",\\\"outlinewidth\\\":0},\\\"type\\\":\\\"heatmapgl\\\",\\\"colorscale\\\":[[0.0,\\\"#0d0887\\\"],[0.1111111111111111,\\\"#46039f\\\"],[0.2222222222222222,\\\"#7201a8\\\"],[0.3333333333333333,\\\"#9c179e\\\"],[0.4444444444444444,\\\"#bd3786\\\"],[0.5555555555555556,\\\"#d8576b\\\"],[0.6666666666666666,\\\"#ed7953\\\"],[0.7777777777777778,\\\"#fb9f3a\\\"],[0.8888888888888888,\\\"#fdca26\\\"],[1.0,\\\"#f0f921\\\"]]}],\\\"bar\\\":[{\\\"type\\\":\\\"bar\\\",\\\"error_y\\\":{\\\"color\\\":\\\"#2a3f5f\\\"},\\\"error_x\\\":{\\\"color\\\":\\\"#2a3f5f\\\"},\\\"marker\\\":{\\\"line\\\":{\\\"color\\\":\\\"#E5ECF6\\\",\\\"width\\\":0.5}}}],\\\"heatmap\\\":[{\\\"colorbar\\\":{\\\"ticks\\\":\\\"\\\",\\\"outlinewidth\\\":0},\\\"type\\\":\\\"heatmap\\\",\\\"colorscale\\\":[[0.0,\\\"#0d0887\\\"],[0.1111111111111111,\\\"#46039f\\\"],[0.2222222222222222,\\\"#7201a8\\\"],[0.3333333333333333,\\\"#9c179e\\\"],[0.4444444444444444,\\\"#bd3786\\\"],[0.5555555555555556,\\\"#d8576b\\\"],[0.6666666666666666,\\\"#ed7953\\\"],[0.7777777777777778,\\\"#fb9f3a\\\"],[0.8888888888888888,\\\"#fdca26\\\"],[1.0,\\\"#f0f921\\\"]]}],\\\"contourcarpet\\\":[{\\\"colorbar\\\":{\\\"ticks\\\":\\\"\\\",\\\"outlinewidth\\\":0},\\\"type\\\":\\\"contourcarpet\\\"}],\\\"table\\\":[{\\\"type\\\":\\\"table\\\",\\\"header\\\":{\\\"line\\\":{\\\"color\\\":\\\"white\\\"},\\\"fill\\\":{\\\"color\\\":\\\"#C8D4E3\\\"}},\\\"cells\\\":{\\\"line\\\":{\\\"color\\\":\\\"white\\\"},\\\"fill\\\":{\\\"color\\\":\\\"#EBF0F8\\\"}}}],\\\"scatter3d\\\":[{\\\"line\\\":{\\\"colorbar\\\":{\\\"ticks\\\":\\\"\\\",\\\"outlinewidth\\\":0}},\\\"type\\\":\\\"scatter3d\\\",\\\"marker\\\":{\\\"colorbar\\\":{\\\"ticks\\\":\\\"\\\",\\\"outlinewidth\\\":0}}}],\\\"scattergl\\\":[{\\\"type\\\":\\\"scattergl\\\",\\\"marker\\\":{\\\"colorbar\\\":{\\\"ticks\\\":\\\"\\\",\\\"outlinewidth\\\":0}}}],\\\"histogram2d\\\":[{\\\"colorbar\\\":{\\\"ticks\\\":\\\"\\\",\\\"outlinewidth\\\":0},\\\"type\\\":\\\"histogram2d\\\",\\\"colorscale\\\":[[0.0,\\\"#0d0887\\\"],[0.1111111111111111,\\\"#46039f\\\"],[0.2222222222222222,\\\"#7201a8\\\"],[0.3333333333333333,\\\"#9c179e\\\"],[0.4444444444444444,\\\"#bd3786\\\"],[0.5555555555555556,\\\"#d8576b\\\"],[0.6666666666666666,\\\"#ed7953\\\"],[0.7777777777777778,\\\"#fb9f3a\\\"],[0.8888888888888888,\\\"#fdca26\\\"],[1.0,\\\"#f0f921\\\"]]}],\\\"scatterternary\\\":[{\\\"type\\\":\\\"scatterternary\\\",\\\"marker\\\":{\\\"colorbar\\\":{\\\"ticks\\\":\\\"\\\",\\\"outlinewidth\\\":0}}}],\\\"scatterpolargl\\\":[{\\\"type\\\":\\\"scatterpolargl\\\",\\\"marker\\\":{\\\"colorbar\\\":{\\\"ticks\\\":\\\"\\\",\\\"outlinewidth\\\":0}}}]}},\\\"scene\\\":{\\\"xaxis\\\":{\\\"title\\\":\\\"UVC Missed Surface<br>Disinfection\\\",\\\"nticks\\\":4},\\\"yaxis\\\":{\\\"title\\\":\\\"UV Excess <br> Human <br> Exposure\\\",\\\"nticks\\\":4},\\\"zaxis\\\":{\\\"title\\\":\\\"Fuzzing Operation<br> Times\\\",\\\"nticks\\\":4}},\\\"margin\\\":{\\\"l\\\":50,\\\"b\\\":50,\\\"r\\\":50,\\\"t\\\":60},\\\"legend\\\":{\\\"tracegroupgap\\\":0},\\\"yaxis\\\":{\\\"title\\\":{\\\"text\\\":\\\"uvExcessHuman\\\"}}},{\\\"showLink\\\":false,\\\"editable\\\":false,\\\"responsive\\\":true,\\\"staticPlot\\\":false,\\\"scrollZoom\\\":true}); gd.on(\\\"plotly_hover\\\",(function (data){var filtered_data=WebIO.PlotlyCommands.filterEventData(gd,data,\\\"hover\\\"); return !(filtered_data.isnil) ? (WebIO.setval({\\\"name\\\":\\\"hover\\\",\\\"scope\\\":\\\"5562831776466050042\\\",\\\"id\\\":\\\"17654527060214919170\\\",\\\"type\\\":\\\"observable\\\"},filtered_data.out)) : undefined})); gd.on(\\\"plotly_unhover\\\",(function (){return WebIO.setval({\\\"name\\\":\\\"hover\\\",\\\"scope\\\":\\\"5562831776466050042\\\",\\\"id\\\":\\\"17654527060214919170\\\",\\\"type\\\":\\\"observable\\\"},{})})); gd.on(\\\"plotly_selected\\\",(function (data){var filtered_data=WebIO.PlotlyCommands.filterEventData(gd,data,\\\"selected\\\"); return !(filtered_data.isnil) ? (WebIO.setval({\\\"name\\\":\\\"selected\\\",\\\"scope\\\":\\\"5562831776466050042\\\",\\\"id\\\":\\\"12625303581856831212\\\",\\\"type\\\":\\\"observable\\\"},filtered_data.out)) : undefined})); gd.on(\\\"plotly_deselect\\\",(function (){return WebIO.setval({\\\"name\\\":\\\"selected\\\",\\\"scope\\\":\\\"5562831776466050042\\\",\\\"id\\\":\\\"12625303581856831212\\\",\\\"type\\\":\\\"observable\\\"},{})})); gd.on(\\\"plotly_relayout\\\",(function (data){var filtered_data=WebIO.PlotlyCommands.filterEventData(gd,data,\\\"relayout\\\"); return !(filtered_data.isnil) ? (WebIO.setval({\\\"name\\\":\\\"relayout\\\",\\\"scope\\\":\\\"5562831776466050042\\\",\\\"id\\\":\\\"7554729350207016761\\\",\\\"type\\\":\\\"observable\\\"},filtered_data.out)) : undefined})); return gd.on(\\\"plotly_click\\\",(function (data){var filtered_data=WebIO.PlotlyCommands.filterEventData(gd,data,\\\"click\\\"); return !(filtered_data.isnil) ? (WebIO.setval({\\\"name\\\":\\\"click\\\",\\\"scope\\\":\\\"5562831776466050042\\\",\\\"id\\\":\\\"7900905110290188775\\\",\\\"type\\\":\\\"observable\\\"},filtered_data.out)) : undefined}))}));\\n    (WebIO.importBlock({\\\"data\\\":[{\\\"name\\\":\\\"Plotly\\\",\\\"type\\\":\\\"js\\\",\\\"url\\\":\\\"\\/assetserver\\/429c6aaa48eaf0968f6b138e6853f2c80bcaf2c7-plotly.min.js\\\"},{\\\"name\\\":null,\\\"type\\\":\\\"js\\\",\\\"url\\\":\\\"\\/assetserver\\/94083cb4877671295d0541c18216b0ed75b23eb9-plotly_webio.bundle.js\\\"}],\\\"type\\\":\\\"async_block\\\"})).then((imports) => handler.apply(this, imports));\\n}\\n\"],\"observables\":{\"_toImage\":{\"sync\":false,\"id\":\"7733019255985226712\",\"value\":{}},\"hover\":{\"sync\":false,\"id\":\"17654527060214919170\",\"value\":{}},\"selected\":{\"sync\":false,\"id\":\"12625303581856831212\",\"value\":{}},\"__gd_contents\":{\"sync\":false,\"id\":\"3673691426074792134\",\"value\":{}},\"click\":{\"sync\":false,\"id\":\"7900905110290188775\",\"value\":{}},\"image\":{\"sync\":true,\"id\":\"10285575472168983005\",\"value\":\"\"},\"__get_gd_contents\":{\"sync\":false,\"id\":\"10176124754634781363\",\"value\":\"\"},\"_downloadImage\":{\"sync\":false,\"id\":\"524421017186932570\",\"value\":{}},\"relayout\":{\"sync\":false,\"id\":\"7554729350207016761\",\"value\":{}},\"_commands\":{\"sync\":false,\"id\":\"14835069646861792886\",\"value\":[]}}},\"children\":[{\"props\":{\"id\":\"plot-f01833fa-2335-4f56-ba46-6b3f01428b1f\"},\"nodeType\":\"DOM\",\"type\":\"node\",\"instanceArgs\":{\"namespace\":\"html\",\"tag\":\"div\"},\"children\":[]}]},\n",
       "        window,\n",
       "    );\n",
       "    })()\n",
       "    </script>\n",
       "</div>\n"
      ],
      "text/plain": [
       "data: [\n",
       "  \"mesh3d with fields marker, mode, opacity, type, x, xaxis, y, yaxis, and z\"\n",
       "]\n",
       "\n",
       "layout: \"layout with fields legend, margin, scene, template, xaxis, and yaxis\"\n",
       "\n"
      ]
     },
     "execution_count": 64,
     "metadata": {},
     "output_type": "execute_result"
    }
   ],
   "source": [
    "using PlotlyJS\n",
    "\n",
    "layout = Layout(\n",
    "    scene=attr( \n",
    "            xaxis=attr(\n",
    "                nticks=4,\n",
    "                title=\"UVC Missed Surface<br>Disinfection\"),\n",
    "            yaxis=attr(\n",
    "                nticks=4,\n",
    "                title=\"UV Excess <br> Human <br> Exposure\"),\n",
    "            zaxis=attr(\n",
    "                nticks=4, \n",
    "                title=\"Fuzzing Operation<br> Times\")))\n",
    "\n",
    "mesh = plot(timebased_data, \n",
    "        x=:uvMissSurface, y=:uvExcessHuman, z=:fuzzOpTimes, opacity=0.5, type=\"mesh3d\",\n",
    "        mode=\"markers\", marker=attr(size=3), layout)\n",
    "    \n"
   ]
  },
  {
   "cell_type": "code",
   "execution_count": null,
   "id": "f3da7cb4",
   "metadata": {},
   "outputs": [],
   "source": []
  }
 ],
 "metadata": {
  "@webio": {
   "lastCommId": "305acceff3b1467f84fdf59daf042270",
   "lastKernelId": "1f7c1394-2c7f-4f0e-b0bc-4ce972424678"
  },
  "kernelspec": {
   "display_name": "Julia 1.8.5",
   "language": "julia",
   "name": "julia-1.8"
  },
  "language_info": {
   "file_extension": ".jl",
   "mimetype": "application/julia",
   "name": "julia",
   "version": "1.8.5"
  }
 },
 "nbformat": 4,
 "nbformat_minor": 5
}
