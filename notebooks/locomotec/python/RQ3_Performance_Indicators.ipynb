{
 "cells": [
  {
   "cell_type": "code",
   "execution_count": 1,
   "id": "a316bb33-21f6-43a7-8fdf-20dcdba96165",
   "metadata": {},
   "outputs": [],
   "source": [
    "import pandas as pd \n",
    "import matplotlib.pyplot as plt\n",
    "import numpy as np\n",
    "# This import registers the 3D projection, but is otherwise unused.\n",
    "from mpl_toolkits.mplot3d import Axes3D  # noqa: F401 unused import\n",
    "import sys\n",
    "\n",
    "from pymoo.indicators.igd import IGD\n",
    "from pymoo.indicators.hv import HV"
   ]
  },
  {
   "cell_type": "code",
   "execution_count": 2,
   "id": "caa4cc77-8739-4bd3-afee-0cc4b475359b",
   "metadata": {},
   "outputs": [],
   "source": [
    "condbased_res1000_orig = pd.read_csv(\"locomotec-res-condfuzz-python\", delim_whitespace=True)\n",
    "condbased_res250_orig = pd.read_csv(\"locomotec-history-condfuzz-250\", delim_whitespace=True)\n",
    "condbased_res500_orig = pd.read_csv(\"locomotec-history-condfuzz-500\", delim_whitespace=True)\n",
    "condbased_res750_orig = pd.read_csv(\"locomotec-history-condfuzz-750\", delim_whitespace=True)"
   ]
  },
  {
   "cell_type": "code",
   "execution_count": 3,
   "id": "1ff28545-75b2-4825-984d-07d39f268b59",
   "metadata": {},
   "outputs": [],
   "source": [
    "selected_cols_for_indicators = ['uvMissSurface','uvExcessHuman','fuzzOpTimes']"
   ]
  },
  {
   "cell_type": "code",
   "execution_count": 4,
   "id": "da8331b1-98b1-4d07-a15f-5fafdf9333db",
   "metadata": {},
   "outputs": [],
   "source": [
    "def invert_signs_for_metrics(df):\n",
    "    df_new = df.copy()\n",
    "    df_new.uvMissSurface *= -1\n",
    "    df_new.uvExcessHuman *= -1\n",
    "    return df_new"
   ]
  },
  {
   "cell_type": "code",
   "execution_count": 5,
   "id": "cb9291b4-9910-43fb-becc-177b154add86",
   "metadata": {},
   "outputs": [],
   "source": [
    "# These have the appropriate signs now\n",
    "condbased_res1000 = invert_signs_for_metrics(condbased_res1000_orig)\n",
    "condbased_res250 = invert_signs_for_metrics(condbased_res250_orig)\n",
    "condbased_res500 = invert_signs_for_metrics(condbased_res500_orig)\n",
    "condbased_res750 = invert_signs_for_metrics(condbased_res750_orig)"
   ]
  },
  {
   "cell_type": "code",
   "execution_count": 6,
   "id": "60cceea1-450f-4ec8-873c-982eded5c6fd",
   "metadata": {},
   "outputs": [],
   "source": [
    "def max_point_from_front(pf):\n",
    "    return np.array([np.max(pf.uvMissSurface), np.max(pf.uvExcessHuman), np.max(pf.fuzzOpTimes)])"
   ]
  },
  {
   "cell_type": "code",
   "execution_count": 7,
   "id": "2f5aaf8f-45aa-418b-82df-9fe0df39e3fa",
   "metadata": {},
   "outputs": [],
   "source": [
    "def max_point_from_all_fronts(pf_list):\n",
    "    max_points_2d = np.column_stack(list(map(lambda pf: max_point_from_front(pf), pf_list)))\n",
    "    max_of_all = np.amax(max_points_2d, axis=1)\n",
    "    return max_of_all"
   ]
  },
  {
   "cell_type": "code",
   "execution_count": 8,
   "id": "ea92000c-937b-46e0-b58f-13332275e986",
   "metadata": {},
   "outputs": [],
   "source": [
    "def front_to_numpy_array(front):\n",
    "    return front[selected_cols_for_indicators].to_numpy()"
   ]
  },
  {
   "cell_type": "code",
   "execution_count": 9,
   "id": "29c06ad4-5a47-48e8-a0bd-274b9d38c7e3",
   "metadata": {},
   "outputs": [
    {
     "data": {
      "text/plain": [
       "array([ -0.   ,  -0.   , 267.353])"
      ]
     },
     "execution_count": 9,
     "metadata": {},
     "output_type": "execute_result"
    }
   ],
   "source": [
    "max_point_from_front(condbased_res500)"
   ]
  },
  {
   "cell_type": "code",
   "execution_count": 10,
   "id": "45a23a26-9f1e-4e40-ba75-8fd8e83bba45",
   "metadata": {},
   "outputs": [
    {
     "data": {
      "text/plain": [
       "array([ -0.   ,  -0.   , 267.353])"
      ]
     },
     "execution_count": 10,
     "metadata": {},
     "output_type": "execute_result"
    }
   ],
   "source": [
    "all_fronts = [condbased_res250, condbased_res500, condbased_res750, condbased_res1000]\n",
    "max_point_from_all_fronts(all_fronts)"
   ]
  },
  {
   "cell_type": "code",
   "execution_count": 15,
   "id": "e5ad19d8-a854-4583-a026-fcf0ab58a19a",
   "metadata": {},
   "outputs": [],
   "source": [
    "def indicators_for_intermediate_fronts(fronts):\n",
    "    # Reference point is obtained as the max point from all fronts\n",
    "    ref_point = max_point_from_all_fronts(fronts)\n",
    "    ref_front = front_to_numpy_array(condbased_res1000)\n",
    "\n",
    "    for front_pandas in fronts:\n",
    "        # Get front as numpy array\n",
    "        front = front_to_numpy_array(front_pandas)\n",
    "        hv_ind = HV(ref_point=ref_point)\n",
    "        igd_ind = IGD(ref_front)\n",
    "        hv_val = hv_ind(front)\n",
    "        igd_val = igd_ind(front)\n",
    "        print(\"HV = \" + str(hv_val) + \"IGD = \" + str(igd_val))"
   ]
  },
  {
   "cell_type": "code",
   "execution_count": 16,
   "id": "5160cdb5-b000-4e79-b378-179fc590356a",
   "metadata": {},
   "outputs": [
    {
     "name": "stdout",
     "output_type": "stream",
     "text": [
      "HV = 1813.3033955400003IGD = 29.143584373001993\n",
      "HV = 2094.581752499001IGD = 12.250625939046172\n",
      "HV = 5072.54860814IGD = 3.565302314849478\n",
      "HV = 7155.899359200001IGD = 0.0\n"
     ]
    }
   ],
   "source": [
    "indicators_for_intermediate_fronts(all_fronts)"
   ]
  },
  {
   "cell_type": "code",
   "execution_count": null,
   "id": "e5e8ccd2-ae6e-47a3-945e-b96ec38d0079",
   "metadata": {},
   "outputs": [],
   "source": []
  }
 ],
 "metadata": {
  "kernelspec": {
   "display_name": "Python 3 (ipykernel)",
   "language": "python",
   "name": "python3"
  },
  "language_info": {
   "codemirror_mode": {
    "name": "ipython",
    "version": 3
   },
   "file_extension": ".py",
   "mimetype": "text/x-python",
   "name": "python",
   "nbconvert_exporter": "python",
   "pygments_lexer": "ipython3",
   "version": "3.11.6"
  }
 },
 "nbformat": 4,
 "nbformat_minor": 5
}
