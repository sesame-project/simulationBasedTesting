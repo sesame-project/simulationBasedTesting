{
 "cells": [
  {
   "cell_type": "code",
   "execution_count": 13,
   "id": "89ae5877-0809-454b-8572-e9c6d820df02",
   "metadata": {
    "tags": []
   },
   "outputs": [],
   "source": [
    "import networkx as nx\n",
    "import numpy as np"
   ]
  },
  {
   "cell_type": "code",
   "execution_count": 2,
   "id": "81dd5e6d-3704-44b7-91cd-03571bac156d",
   "metadata": {
    "tags": []
   },
   "outputs": [],
   "source": [
    "G = nx.Graph()"
   ]
  },
  {
   "cell_type": "code",
   "execution_count": 24,
   "id": "1bb8d9ba-3574-4172-ac0b-63f84b2808c5",
   "metadata": {
    "tags": []
   },
   "outputs": [
    {
     "ename": "TypeError",
     "evalue": "'module' object is not callable",
     "output_type": "error",
     "traceback": [
      "\u001b[0;31m---------------------------------------------------------------------------\u001b[0m",
      "\u001b[0;31mTypeError\u001b[0m                                 Traceback (most recent call last)",
      "Cell \u001b[0;32mIn[24], line 1\u001b[0m\n\u001b[0;32m----> 1\u001b[0m \u001b[43mnp\u001b[49m\u001b[38;5;241;43m.\u001b[39;49m\u001b[43mrandom\u001b[49m\u001b[43m(\u001b[49m\u001b[43m)\u001b[49m\n",
      "\u001b[0;31mTypeError\u001b[0m: 'module' object is not callable"
     ]
    }
   ],
   "source": [
    "np.random()"
   ]
  },
  {
   "cell_type": "code",
   "execution_count": 20,
   "id": "4add4c52-3114-43d1-8c46-7a4296c2213b",
   "metadata": {
    "tags": []
   },
   "outputs": [
    {
     "data": {
      "text/plain": [
       "[2, 3]"
      ]
     },
     "execution_count": 20,
     "metadata": {},
     "output_type": "execute_result"
    }
   ],
   "source": [
    "G = nx.Graph()\n",
    "G.add_node(1, x=1, y=2, z=5)\n",
    "G.add_node(2, x=4, y=7, z=4)\n",
    "G.add_node(3, x=8, y=3, z=1)\n",
    "G.add_edge(1,2)\n",
    "G.add_edge(1,3)\n",
    "\n",
    "list(G.adj[1])"
   ]
  },
  {
   "cell_type": "code",
   "execution_count": 17,
   "id": "0064ed42-03b1-41ea-be5f-a44d730114fb",
   "metadata": {
    "tags": []
   },
   "outputs": [
    {
     "data": {
      "text/plain": [
       "{'x': 1, 'y': 2, 'z': 5}"
      ]
     },
     "execution_count": 17,
     "metadata": {},
     "output_type": "execute_result"
    }
   ],
   "source": [
    "G.nodes[1]\n",
    "G.nodes[2]\n",
    "\n",
    "G.nodes[1] - "
   ]
  },
  {
   "cell_type": "code",
   "execution_count": 31,
   "id": "62b4a8b3-c790-45e6-a2d8-33355b58636e",
   "metadata": {
    "tags": []
   },
   "outputs": [
    {
     "data": {
      "text/plain": [
       "2.094056328384127"
      ]
     },
     "execution_count": 31,
     "metadata": {},
     "output_type": "execute_result"
    }
   ],
   "source": [
    "np.random.uniform(low=0, high=10.0)"
   ]
  },
  {
   "cell_type": "code",
   "execution_count": 1,
   "id": "e700ef45-bea8-47f5-a290-e0a997a3e5ce",
   "metadata": {
    "tags": []
   },
   "outputs": [],
   "source": [
    "d1 = {}\n",
    "d2 = {}"
   ]
  },
  {
   "cell_type": "code",
   "execution_count": 5,
   "id": "35d1b1bc-881b-4061-88af-70a9df4d65d4",
   "metadata": {
    "tags": []
   },
   "outputs": [],
   "source": [
    "d1[1] = 5.0\n",
    "d1[2] = 6.0\n",
    "d2[1] = 0.0\n",
    "d2[2] = 4.0\n",
    "\n"
   ]
  },
  {
   "cell_type": "code",
   "execution_count": 11,
   "id": "57f01f62-25f0-4354-b105-6acc0e92fa6f",
   "metadata": {},
   "outputs": [
    {
     "name": "stdout",
     "output_type": "stream",
     "text": [
      "k = 1\n",
      "v = 5.0\n",
      "k = 2\n",
      "v = 6.0\n"
     ]
    },
    {
     "ename": "NameError",
     "evalue": "name 'Math' is not defined",
     "output_type": "error",
     "traceback": [
      "\u001b[0;31m---------------------------------------------------------------------------\u001b[0m",
      "\u001b[0;31mNameError\u001b[0m                                 Traceback (most recent call last)",
      "Cell \u001b[0;32mIn[11], line 7\u001b[0m\n\u001b[1;32m      5\u001b[0m     dist \u001b[38;5;241m=\u001b[39m (v \u001b[38;5;241m-\u001b[39m d2[k])\n\u001b[1;32m      6\u001b[0m     weight_tot \u001b[38;5;241m+\u001b[39m\u001b[38;5;241m=\u001b[39m dist \u001b[38;5;241m*\u001b[39m\u001b[38;5;241m*\u001b[39m \u001b[38;5;241m2.0\u001b[39m\n\u001b[0;32m----> 7\u001b[0m \u001b[43mMath\u001b[49m\u001b[38;5;241m.\u001b[39msqrt(weight_tot)\n",
      "\u001b[0;31mNameError\u001b[0m: name 'Math' is not defined"
     ]
    }
   ],
   "source": [
    "weight_tot = 0\n",
    "for k,v in d1.items():\n",
    "    print(\"k = \" + str(k))\n",
    "    print(\"v = \" + str(v))\n",
    "    dist = (v - d2[k])\n",
    "    weight_tot += dist ** 2.0\n",
    "Math.sqrt(weight_tot)"
   ]
  },
  {
   "cell_type": "code",
   "execution_count": 22,
   "id": "e6e84f17-3f88-4e57-8122-6d73617e189c",
   "metadata": {},
   "outputs": [
    {
     "data": {
      "text/plain": [
       "True"
      ]
     },
     "execution_count": 22,
     "metadata": {},
     "output_type": "execute_result"
    }
   ],
   "source": [
    "\"t\" in \"testing\""
   ]
  },
  {
   "cell_type": "code",
   "execution_count": 1,
   "id": "daf78fcb-7816-4b70-82fe-90a8d428ea3e",
   "metadata": {},
   "outputs": [],
   "source": [
    "def powerset(iterable):\n",
    "    \"powerset([1,2,3]) --> () (1,) (2,) (3,) (1,2) (1,3) (2,3) (1,2,3)\"\n",
    "    s = list(iterable)\n",
    "    return chain.from_iterable(combinations(s, r) for r in range(len(s)+1))"
   ]
  },
  {
   "cell_type": "code",
   "execution_count": null,
   "id": "95bc4177-d8dc-47e7-accc-70bfcbca8f9d",
   "metadata": {},
   "outputs": [],
   "source": []
  }
 ],
 "metadata": {
  "kernelspec": {
   "display_name": "Python 3 (ipykernel)",
   "language": "python",
   "name": "python3"
  },
  "language_info": {
   "codemirror_mode": {
    "name": "ipython",
    "version": 3
   },
   "file_extension": ".py",
   "mimetype": "text/x-python",
   "name": "python",
   "nbconvert_exporter": "python",
   "pygments_lexer": "ipython3",
   "version": "3.10.11"
  }
 },
 "nbformat": 4,
 "nbformat_minor": 5
}
