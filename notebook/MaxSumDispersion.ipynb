{
 "cells": [
  {
   "cell_type": "code",
   "execution_count": 86,
   "id": "80376a13-5729-49e7-830c-e2a0ec7c9667",
   "metadata": {
    "tags": []
   },
   "outputs": [],
   "source": [
    "import networkx as nx\n",
    "import numpy as np\n",
    "from itertools import chain, combinations"
   ]
  },
  {
   "cell_type": "code",
   "execution_count": 87,
   "id": "1087befa-4e03-419a-b12c-162ddf3d17bf",
   "metadata": {
    "tags": []
   },
   "outputs": [],
   "source": [
    "def powerset(iterable):\n",
    "    \"powerset([1,2,3]) --> () (1,) (2,) (3,) (1,2) (1,3) (2,3) (1,2,3)\"\n",
    "    s = list(iterable)\n",
    "    return chain.from_iterable(combinations(s, r) for r in range(len(s)+1))"
   ]
  },
  {
   "cell_type": "code",
   "execution_count": 88,
   "id": "139fb2d9-765f-4117-a351-180e26407e45",
   "metadata": {
    "tags": []
   },
   "outputs": [
    {
     "data": {
      "text/plain": [
       "64"
      ]
     },
     "execution_count": 88,
     "metadata": {},
     "output_type": "execute_result"
    }
   ],
   "source": [
    "len(list(powerset([1,2,3,4,5,6])))"
   ]
  },
  {
   "cell_type": "code",
   "execution_count": 89,
   "id": "1aeb0ba3-d6ae-4f03-ac55-8c801e4c6c9c",
   "metadata": {
    "tags": []
   },
   "outputs": [],
   "source": [
    "def find_max_weight_edge(sim_graph):\n",
    "    # Search for\n",
    "    max_weight = -1\n",
    "    tu = 0\n",
    "    tv = 0\n",
    "    vertex_count = sim_graph.number_of_nodes()\n",
    "    for u in range(0,vertex_count):\n",
    "        linked_nodes = sim_graph.adj[u]\n",
    "        for v in list(linked_nodes):\n",
    "            w = sim_graph.edges[u,v][\"weight\"]\n",
    "            print(\"u=\"+str(u) + \",\" + str(v) + \",weight=\" + str(w))\n",
    "            if (w > max_weight):\n",
    "                tu = u\n",
    "                tv = v\n",
    "                max_weight = w\n",
    "    return tu,tv, max_weight"
   ]
  },
  {
   "cell_type": "code",
   "execution_count": 90,
   "id": "3653f087-5d37-4ea2-b355-2c383f53d57d",
   "metadata": {
    "tags": []
   },
   "outputs": [],
   "source": [
    "def delete_edges_from(graph, vertex):\n",
    "    e = graph.adj[vertex]\n",
    "    for linked in list(e):\n",
    "        graph.remove_edge(vertex,linked)"
   ]
  },
  {
   "cell_type": "code",
   "execution_count": 91,
   "id": "97301b5f-603b-45c2-8e54-a0f9617c1fcc",
   "metadata": {},
   "outputs": [],
   "source": [
    "def sort_by_metric_func(graph):\n",
    "    return list(graph.nodes())"
   ]
  },
  {
   "cell_type": "code",
   "execution_count": 92,
   "id": "5a961be0-1cf9-4ad5-9d6e-f22a27591197",
   "metadata": {
    "tags": []
   },
   "outputs": [],
   "source": [
    "def get_metric_ranking(rankings, num):\n",
    "    return rankings.index(num)"
   ]
  },
  {
   "cell_type": "code",
   "execution_count": 93,
   "id": "0901e002-60c3-417a-98f4-bcf5929b63a0",
   "metadata": {
    "tags": []
   },
   "outputs": [],
   "source": [
    "# Eqn 2 in diversification paper\n",
    "def calc_compdist_from(graph, i, j, lam):\n",
    "    dimension_dist = 0\n",
    "    i_props = graph.nodes[i]\n",
    "    j_props = graph.nodes[j]\n",
    "    \n",
    "    rankings = sort_by_metric_func(graph)\n",
    "    ranking_i = get_metric_ranking(rankings, i)\n",
    "    ranking_j = get_metric_ranking(rankings, j)\n",
    "    print(\"ranking_i\" + str(ranking_i))\n",
    "    print(\"ranking_j\" + str(ranking_j))\n",
    "    \n",
    "    # Get the properties\n",
    "    for k,v in i_props.items():\n",
    "        # Dimension values only\n",
    "        if \"d\" in k:\n",
    "            dist = (v - j_props[k])\n",
    "            dimension_dist += (dist ** 2.0)\n",
    "            \n",
    "    comp_value = ranking_i + ranking_j + 2 * lam * np.sqrt(dimension_dist)\n",
    "    print(\"dimension_dist = \" + str(dimension_dist))\n",
    "    print(\"comp_value = \" + str(comp_value))\n",
    "    return comp_value\n",
    "    "
   ]
  },
  {
   "cell_type": "code",
   "execution_count": 94,
   "id": "cac193c7-f3c1-436e-a1b7-d6ae99d75f3f",
   "metadata": {
    "tags": []
   },
   "outputs": [],
   "source": [
    "# Need to add arbitrary vertex\n",
    "def max_sum_divergence_approx(sim_graph, phy_count):\n",
    "    Phy = nx.Graph() \n",
    "    lim = int(np.floor(phy_count/2))\n",
    "    for i in range(0,lim):\n",
    "        mu, mv, weight = find_max_weight_edge(sim_graph)\n",
    "        if (mu != mv):\n",
    "            print(\"Max weight: \" + str(mu) + \"->\" + str(mv) + \",weight=\" + str(weight))\n",
    "            Phy.add_node(mu)\n",
    "            Phy.add_node(mv)\n",
    "            Phy.add_edge(mu,mv)\n",
    "            Phy.edges[mu,mv][\"weight\"] = sim_graph.edges[mu,mv][\"weight\"]\n",
    "            print(\"Number of edges in Phy=\" + str(Phy.number_of_edges()))\n",
    "            # remove other connected edges from mu and mv in the s\\im_graph\n",
    "            delete_edges_from(sim_graph, mu)\n",
    "            delete_edges_from(sim_graph, mv)\n",
    "            # check further\n",
    "        \n",
    "    # If phy_count is odd, add a random vertex\n",
    "    # for now, only use an even phy_count\n",
    "    return Phy"
   ]
  },
  {
   "cell_type": "code",
   "execution_count": 95,
   "id": "7fe01e35-6417-4c6b-bb96-b21992e1e8c9",
   "metadata": {
    "tags": []
   },
   "outputs": [],
   "source": [
    "def gen_node_props(metrics_count, dim_count, metric_max, dim_max):\n",
    "    nodeprops = {}\n",
    "    metrics = []\n",
    "    \n",
    "    for di in range(0, dim_count):\n",
    "        rand_dim = np.random.uniform(low=0, high=dim_max)\n",
    "        nodeprops[\"d\" + str(di)] = rand_dim\n",
    "        \n",
    "    # Generate the metrics\n",
    "    for mi in range(0,metrics_count):\n",
    "        rand_metric = np.random.uniform(low=0, high=metric_max)\n",
    "        metrics.append(rand_metric)\n",
    "        nodeprops[\"m\" + str(mi)] = rand_metric\n",
    "    return nodeprops"
   ]
  },
  {
   "cell_type": "code",
   "execution_count": 96,
   "id": "f2764ab6-cf98-415a-b1a2-62f8c56ceb55",
   "metadata": {},
   "outputs": [],
   "source": [
    "def create_random_sim_graph(node_count, metric_count, metric_max, dim_count, dim_max, lam):\n",
    "    Sim = nx.Graph();\n",
    "    for i in range(0,node_count):\n",
    "        Sim.add_nodes_from([(i, gen_node_props(metric_count, dim_count, metric_max, dim_max))])\n",
    "    # add connections from all nodes, depending on their distance \n",
    "    for i in range(0, node_count):\n",
    "        for j in range(0, node_count):\n",
    "            if (i != j):\n",
    "                Sim.add_edge(i,j)\n",
    "                weight = calc_compdist_from(Sim, i, j, lam)\n",
    "                Sim.edges[i,j][\"weight\"] = weight\n",
    "                print(\"Adding edge from \" + str(i) + \"->\" + str(j) + \", weight = \" + str(Sim.edges[i,j][\"weight\"]))\n",
    "                #print(Sim.edges[i, j])\n",
    "    print(\"Edges: = \" + str(Sim.number_of_edges()))\n",
    "    return Sim"
   ]
  },
  {
   "cell_type": "code",
   "execution_count": 97,
   "id": "1e4403b2-9cbe-4590-889a-326a2949b092",
   "metadata": {
    "tags": []
   },
   "outputs": [
    {
     "name": "stdout",
     "output_type": "stream",
     "text": [
      "ranking_i0\n",
      "ranking_j1\n",
      "dimension_dist = 120.93827774041033\n",
      "comp_value = 11.997194084875028\n",
      "Adding edge from 0->1, weight = 11.997194084875028\n",
      "ranking_i0\n",
      "ranking_j2\n",
      "dimension_dist = 20.351827626544004\n",
      "comp_value = 6.511299992966994\n",
      "Adding edge from 0->2, weight = 6.511299992966994\n",
      "ranking_i0\n",
      "ranking_j3\n",
      "dimension_dist = 105.26068214534524\n",
      "comp_value = 13.259662867041257\n",
      "Adding edge from 0->3, weight = 13.259662867041257\n",
      "ranking_i0\n",
      "ranking_j4\n",
      "dimension_dist = 63.45863928194454\n",
      "comp_value = 11.966093100255893\n",
      "Adding edge from 0->4, weight = 11.966093100255893\n",
      "ranking_i0\n",
      "ranking_j5\n",
      "dimension_dist = 11.659603523331041\n",
      "comp_value = 8.414616160468267\n",
      "Adding edge from 0->5, weight = 8.414616160468267\n",
      "ranking_i1\n",
      "ranking_j0\n",
      "dimension_dist = 120.93827774041033\n",
      "comp_value = 11.997194084875028\n",
      "Adding edge from 1->0, weight = 11.997194084875028\n",
      "ranking_i1\n",
      "ranking_j2\n",
      "dimension_dist = 114.55545931028465\n",
      "comp_value = 13.703058409178409\n",
      "Adding edge from 1->2, weight = 13.703058409178409\n",
      "ranking_i1\n",
      "ranking_j3\n",
      "dimension_dist = 18.5516185659705\n",
      "comp_value = 8.307158990096664\n",
      "Adding edge from 1->3, weight = 8.307158990096664\n",
      "ranking_i1\n",
      "ranking_j4\n",
      "dimension_dist = 44.48288078311123\n",
      "comp_value = 11.669548769078101\n",
      "Adding edge from 1->4, weight = 11.669548769078101\n",
      "ranking_i1\n",
      "ranking_j5\n",
      "dimension_dist = 93.97986386555432\n",
      "comp_value = 15.694321217370215\n",
      "Adding edge from 1->5, weight = 15.694321217370215\n",
      "ranking_i2\n",
      "ranking_j0\n",
      "dimension_dist = 20.351827626544004\n",
      "comp_value = 6.511299992966994\n",
      "Adding edge from 2->0, weight = 6.511299992966994\n",
      "ranking_i2\n",
      "ranking_j1\n",
      "dimension_dist = 114.55545931028465\n",
      "comp_value = 13.703058409178409\n",
      "Adding edge from 2->1, weight = 13.703058409178409\n",
      "ranking_i2\n",
      "ranking_j3\n",
      "dimension_dist = 136.42774251407351\n",
      "comp_value = 16.680228701274366\n",
      "Adding edge from 2->3, weight = 16.680228701274366\n",
      "ranking_i2\n",
      "ranking_j4\n",
      "dimension_dist = 79.72241229586731\n",
      "comp_value = 14.928740801247805\n",
      "Adding edge from 2->4, weight = 14.928740801247805\n",
      "ranking_i2\n",
      "ranking_j5\n",
      "dimension_dist = 38.01895286219148\n",
      "comp_value = 13.165951091453085\n",
      "Adding edge from 2->5, weight = 13.165951091453085\n",
      "ranking_i3\n",
      "ranking_j0\n",
      "dimension_dist = 105.26068214534524\n",
      "comp_value = 13.259662867041257\n",
      "Adding edge from 3->0, weight = 13.259662867041257\n",
      "ranking_i3\n",
      "ranking_j1\n",
      "dimension_dist = 18.5516185659705\n",
      "comp_value = 8.307158990096664\n",
      "Adding edge from 3->1, weight = 8.307158990096664\n",
      "ranking_i3\n",
      "ranking_j2\n",
      "dimension_dist = 136.42774251407351\n",
      "comp_value = 16.680228701274366\n",
      "Adding edge from 3->2, weight = 16.680228701274366\n",
      "ranking_i3\n",
      "ranking_j4\n",
      "dimension_dist = 47.779845699548964\n",
      "comp_value = 13.912296702221987\n",
      "Adding edge from 3->4, weight = 13.912296702221987\n",
      "ranking_i3\n",
      "ranking_j5\n",
      "dimension_dist = 80.00669167396808\n",
      "comp_value = 16.9446459781239\n",
      "Adding edge from 3->5, weight = 16.9446459781239\n",
      "ranking_i4\n",
      "ranking_j0\n",
      "dimension_dist = 63.45863928194454\n",
      "comp_value = 11.966093100255893\n",
      "Adding edge from 4->0, weight = 11.966093100255893\n",
      "ranking_i4\n",
      "ranking_j1\n",
      "dimension_dist = 44.48288078311123\n",
      "comp_value = 11.669548769078101\n",
      "Adding edge from 4->1, weight = 11.669548769078101\n",
      "ranking_i4\n",
      "ranking_j2\n",
      "dimension_dist = 79.72241229586731\n",
      "comp_value = 14.928740801247805\n",
      "Adding edge from 4->2, weight = 14.928740801247805\n",
      "ranking_i4\n",
      "ranking_j3\n",
      "dimension_dist = 47.779845699548964\n",
      "comp_value = 13.912296702221987\n",
      "Adding edge from 4->3, weight = 13.912296702221987\n",
      "ranking_i4\n",
      "ranking_j5\n",
      "dimension_dist = 24.96570953884351\n",
      "comp_value = 13.996569777241533\n",
      "Adding edge from 4->5, weight = 13.996569777241533\n",
      "ranking_i5\n",
      "ranking_j0\n",
      "dimension_dist = 11.659603523331041\n",
      "comp_value = 8.414616160468267\n",
      "Adding edge from 5->0, weight = 8.414616160468267\n",
      "ranking_i5\n",
      "ranking_j1\n",
      "dimension_dist = 93.97986386555432\n",
      "comp_value = 15.694321217370215\n",
      "Adding edge from 5->1, weight = 15.694321217370215\n",
      "ranking_i5\n",
      "ranking_j2\n",
      "dimension_dist = 38.01895286219148\n",
      "comp_value = 13.165951091453085\n",
      "Adding edge from 5->2, weight = 13.165951091453085\n",
      "ranking_i5\n",
      "ranking_j3\n",
      "dimension_dist = 80.00669167396808\n",
      "comp_value = 16.9446459781239\n",
      "Adding edge from 5->3, weight = 16.9446459781239\n",
      "ranking_i5\n",
      "ranking_j4\n",
      "dimension_dist = 24.96570953884351\n",
      "comp_value = 13.996569777241533\n",
      "Adding edge from 5->4, weight = 13.996569777241533\n",
      "Edges: = 15\n",
      "u=0,1,weight=11.997194084875028\n",
      "u=0,2,weight=6.511299992966994\n",
      "u=0,3,weight=13.259662867041257\n",
      "u=0,4,weight=11.966093100255893\n",
      "u=0,5,weight=8.414616160468267\n",
      "u=1,0,weight=11.997194084875028\n",
      "u=1,2,weight=13.703058409178409\n",
      "u=1,3,weight=8.307158990096664\n",
      "u=1,4,weight=11.669548769078101\n",
      "u=1,5,weight=15.694321217370215\n",
      "u=2,0,weight=6.511299992966994\n",
      "u=2,1,weight=13.703058409178409\n",
      "u=2,3,weight=16.680228701274366\n",
      "u=2,4,weight=14.928740801247805\n",
      "u=2,5,weight=13.165951091453085\n",
      "u=3,0,weight=13.259662867041257\n",
      "u=3,1,weight=8.307158990096664\n",
      "u=3,2,weight=16.680228701274366\n",
      "u=3,4,weight=13.912296702221987\n",
      "u=3,5,weight=16.9446459781239\n",
      "u=4,0,weight=11.966093100255893\n",
      "u=4,1,weight=11.669548769078101\n",
      "u=4,2,weight=14.928740801247805\n",
      "u=4,3,weight=13.912296702221987\n",
      "u=4,5,weight=13.996569777241533\n",
      "u=5,0,weight=8.414616160468267\n",
      "u=5,1,weight=15.694321217370215\n",
      "u=5,2,weight=13.165951091453085\n",
      "u=5,3,weight=16.9446459781239\n",
      "u=5,4,weight=13.996569777241533\n",
      "Max weight: 3->5,weight=16.9446459781239\n",
      "Number of edges in Phy=1\n",
      "u=0,1,weight=11.997194084875028\n",
      "u=0,2,weight=6.511299992966994\n",
      "u=0,4,weight=11.966093100255893\n",
      "u=1,0,weight=11.997194084875028\n",
      "u=1,2,weight=13.703058409178409\n",
      "u=1,4,weight=11.669548769078101\n",
      "u=2,0,weight=6.511299992966994\n",
      "u=2,1,weight=13.703058409178409\n",
      "u=2,4,weight=14.928740801247805\n",
      "u=4,0,weight=11.966093100255893\n",
      "u=4,1,weight=11.669548769078101\n",
      "u=4,2,weight=14.928740801247805\n",
      "Max weight: 2->4,weight=14.928740801247805\n",
      "Number of edges in Phy=2\n",
      "u=0,1,weight=11.997194084875028\n",
      "u=1,0,weight=11.997194084875028\n",
      "Max weight: 0->1,weight=11.997194084875028\n",
      "Number of edges in Phy=3\n"
     ]
    },
    {
     "data": {
      "text/plain": [
       "<networkx.classes.graph.Graph at 0x7f0a6c249ff0>"
      ]
     },
     "execution_count": 97,
     "metadata": {},
     "output_type": "execute_result"
    }
   ],
   "source": [
    "sim = create_random_sim_graph(6, 2, 10.0, 3, 10.0, 0.5)\n",
    "phy = max_sum_divergence_approx(sim, 10)\n",
    "phy"
   ]
  },
  {
   "cell_type": "code",
   "execution_count": 98,
   "id": "996e17a0-a5e9-43aa-b2b4-dd1e425ce7db",
   "metadata": {
    "tags": []
   },
   "outputs": [],
   "source": [
    "def ranking_func(graph,node_id):\n",
    "    return node_id"
   ]
  },
  {
   "cell_type": "code",
   "execution_count": 115,
   "id": "7fe3e92f-425f-4c37-af90-15a21ce09665",
   "metadata": {},
   "outputs": [],
   "source": [
    "def dist_func(graph, ni, nj):\n",
    "    i_props = graph.nodes[ni]\n",
    "    j_props = graph.nodes[nj]\n",
    "    dimension_dist = 0.0\n",
    "    for k,v in i_props.items():\n",
    "    # Dimension values only\n",
    "        if \"d\" in k:\n",
    "            dist = (v - j_props[k])\n",
    "            dimension_dist += (dist ** 2.0)\n",
    "    return np.sqrt(dimension_dist)"
   ]
  },
  {
   "cell_type": "code",
   "execution_count": 100,
   "id": "cb7cfd67-e0e5-4520-bd7a-8a2a6304e776",
   "metadata": {
    "tags": []
   },
   "outputs": [],
   "source": [
    "def calc_subset_value_function(graph, subset_inds, lam):\n",
    "    k = len(subset_inds)\n",
    "    weight_sum = 0\n",
    "    for ni in subset_inds:\n",
    "        # ranking_func is w in the equation\n",
    "        weight_sum += ranking_func(graph, ni)\n",
    "    \n",
    "    dist_sum = 0\n",
    "    for ni in subset_inds:\n",
    "        for nj in subset_inds:\n",
    "            dist_sum += dist_func(graph, ni,nj)\n",
    "    \n",
    "    total = (k-1)*weight_sum + 2*lam*dist_sum  \n",
    "    return total"
   ]
  },
  {
   "cell_type": "code",
   "execution_count": 101,
   "id": "932f29c1-2566-4ce3-b013-f10eb03f7299",
   "metadata": {},
   "outputs": [],
   "source": [
    "all_subsets = list(powerset(sim.nodes()))"
   ]
  },
  {
   "cell_type": "code",
   "execution_count": 102,
   "id": "9b4d27b3-7b3a-41a4-b990-14a210a4c0ea",
   "metadata": {
    "tags": []
   },
   "outputs": [
    {
     "data": {
      "text/plain": [
       "EdgeView([(3, 5), (2, 4), (0, 1)])"
      ]
     },
     "execution_count": 102,
     "metadata": {},
     "output_type": "execute_result"
    }
   ],
   "source": [
    "phy.number_of_nodes()\n",
    "phy.edges()"
   ]
  },
  {
   "cell_type": "code",
   "execution_count": 103,
   "id": "15442905-4de3-4cd1-8fa2-7c4b75ac1b75",
   "metadata": {
    "tags": []
   },
   "outputs": [],
   "source": [
    "def subset_value(graph, subset, lam):\n",
    "    value = calc_subset_value_function(graph, subset, lam)\n",
    "    return (subset, value)"
   ]
  },
  {
   "cell_type": "code",
   "execution_count": 104,
   "id": "c7700061-8dfd-4780-a2a4-1ef9c9a8d410",
   "metadata": {
    "tags": []
   },
   "outputs": [],
   "source": [
    "FIXED_SUBSET_COUNT = 5"
   ]
  },
  {
   "cell_type": "code",
   "execution_count": 119,
   "id": "ff9f8ef3-0b42-43f5-8045-ad3d224aeaba",
   "metadata": {
    "tags": []
   },
   "outputs": [],
   "source": [
    "def meets_cost_constraint(subset):\n",
    "    return (len(subset) == FIXED_SUBSET_COUNT)"
   ]
  },
  {
   "cell_type": "code",
   "execution_count": 106,
   "id": "3f109760-e3eb-4243-829e-5f8eb8e86452",
   "metadata": {},
   "outputs": [],
   "source": [
    "def subsets_viable_sorted_by_cost(simgraph, lam):\n",
    "    all_subsets = list(powerset(simgraph.nodes()))\n",
    "    viable_subsets = filter(meets_cost_constraint, all_subsets)\n",
    "    subset_info = map(lambda subset: subset_value(simgraph, subset, lam), viable_subsets)\n",
    "    return subset_info"
   ]
  },
  {
   "cell_type": "code",
   "execution_count": 123,
   "id": "f40ce146-5f64-424e-a986-ed444d77e6e0",
   "metadata": {
    "tags": []
   },
   "outputs": [
    {
     "data": {
      "text/plain": [
       "[((0, 1, 2, 3, 4), 40.0),\n",
       " ((0, 1, 2, 3, 5), 44.0),\n",
       " ((0, 1, 2, 4, 5), 48.0),\n",
       " ((0, 1, 3, 4, 5), 52.0),\n",
       " ((0, 2, 3, 4, 5), 56.0),\n",
       " ((1, 2, 3, 4, 5), 60.0)]"
      ]
     },
     "execution_count": 123,
     "metadata": {},
     "output_type": "execute_result"
    }
   ],
   "source": [
    "res = subsets_viable_sorted_by_cost(sim, 0.0)\n",
    "list(res)"
   ]
  },
  {
   "cell_type": "code",
   "execution_count": null,
   "id": "98945929-2f76-4e3c-83e5-146ccd822090",
   "metadata": {
    "tags": []
   },
   "outputs": [],
   "source": [
    "len(list(res))"
   ]
  },
  {
   "cell_type": "code",
   "execution_count": null,
   "id": "877f7e02-01ed-4e6b-ac56-db2544cdafae",
   "metadata": {},
   "outputs": [],
   "source": []
  }
 ],
 "metadata": {
  "kernelspec": {
   "display_name": "Python 3 (ipykernel)",
   "language": "python",
   "name": "python3"
  },
  "language_info": {
   "codemirror_mode": {
    "name": "ipython",
    "version": 3
   },
   "file_extension": ".py",
   "mimetype": "text/x-python",
   "name": "python",
   "nbconvert_exporter": "python",
   "pygments_lexer": "ipython3",
   "version": "3.10.11"
  }
 },
 "nbformat": 4,
 "nbformat_minor": 5
}
