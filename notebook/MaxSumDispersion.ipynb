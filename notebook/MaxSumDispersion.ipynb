{
 "cells": [
  {
   "cell_type": "code",
   "execution_count": 122,
   "id": "80376a13-5729-49e7-830c-e2a0ec7c9667",
   "metadata": {
    "tags": []
   },
   "outputs": [],
   "source": [
    "import networkx as nx\n",
    "import numpy as np\n",
    "from itertools import chain, combinations\n",
    "\n",
    "import matplotlib.pyplot as plt\n",
    "from mpl_toolkits.mplot3d import Axes3D"
   ]
  },
  {
   "cell_type": "code",
   "execution_count": 67,
   "id": "1087befa-4e03-419a-b12c-162ddf3d17bf",
   "metadata": {
    "tags": []
   },
   "outputs": [],
   "source": [
    "def powerset(iterable):\n",
    "    \"powerset([1,2,3]) --> () (1,) (2,) (3,) (1,2) (1,3) (2,3) (1,2,3)\"\n",
    "    s = list(iterable)\n",
    "    return chain.from_iterable(combinations(s, r) for r in range(len(s)+1))"
   ]
  },
  {
   "cell_type": "code",
   "execution_count": 68,
   "id": "139fb2d9-765f-4117-a351-180e26407e45",
   "metadata": {
    "tags": []
   },
   "outputs": [
    {
     "data": {
      "text/plain": [
       "64"
      ]
     },
     "execution_count": 68,
     "metadata": {},
     "output_type": "execute_result"
    }
   ],
   "source": [
    "len(list(powerset([1,2,3,4,5,6])))"
   ]
  },
  {
   "cell_type": "code",
   "execution_count": 69,
   "id": "1aeb0ba3-d6ae-4f03-ac55-8c801e4c6c9c",
   "metadata": {
    "tags": []
   },
   "outputs": [],
   "source": [
    "def find_max_weight_edge(sim_graph):\n",
    "    # Search for\n",
    "    max_weight = -1\n",
    "    tu = 0\n",
    "    tv = 0\n",
    "    vertex_count = sim_graph.number_of_nodes()\n",
    "    for u in range(0,vertex_count):\n",
    "        linked_nodes = sim_graph.adj[u]\n",
    "        for v in list(linked_nodes):\n",
    "            w = sim_graph.edges[u,v][\"weight\"]\n",
    "            print(\"u=\"+str(u) + \",\" + str(v) + \",weight=\" + str(w))\n",
    "            if (w > max_weight):\n",
    "                tu = u\n",
    "                tv = v\n",
    "                max_weight = w\n",
    "    return tu,tv, max_weight"
   ]
  },
  {
   "cell_type": "code",
   "execution_count": 70,
   "id": "3653f087-5d37-4ea2-b355-2c383f53d57d",
   "metadata": {
    "tags": []
   },
   "outputs": [],
   "source": [
    "def delete_edges_from(graph, vertex):\n",
    "    e = graph.adj[vertex]\n",
    "    for linked in list(e):\n",
    "        graph.remove_edge(vertex,linked)"
   ]
  },
  {
   "cell_type": "code",
   "execution_count": 71,
   "id": "97301b5f-603b-45c2-8e54-a0f9617c1fcc",
   "metadata": {},
   "outputs": [],
   "source": [
    "def sort_by_metric_func(graph):\n",
    "    return list(graph.nodes())"
   ]
  },
  {
   "cell_type": "code",
   "execution_count": 72,
   "id": "5a961be0-1cf9-4ad5-9d6e-f22a27591197",
   "metadata": {
    "tags": []
   },
   "outputs": [],
   "source": [
    "def get_metric_ranking(rankings, num):\n",
    "    return rankings.index(num)"
   ]
  },
  {
   "cell_type": "code",
   "execution_count": 73,
   "id": "0901e002-60c3-417a-98f4-bcf5929b63a0",
   "metadata": {
    "tags": []
   },
   "outputs": [],
   "source": [
    "# Eqn 2 in diversification paper\n",
    "def calc_compdist_from(graph, i, j, lam):\n",
    "    dimension_dist = 0\n",
    "    i_props = graph.nodes[i]\n",
    "    j_props = graph.nodes[j]\n",
    "    \n",
    "    rankings = sort_by_metric_func(graph)\n",
    "    ranking_i = get_metric_ranking(rankings, i)\n",
    "    ranking_j = get_metric_ranking(rankings, j)\n",
    "    print(\"ranking_i\" + str(ranking_i))\n",
    "    print(\"ranking_j\" + str(ranking_j))\n",
    "    \n",
    "    # Get the properties\n",
    "    for k,v in i_props.items():\n",
    "        # Dimension values only\n",
    "        if \"d\" in k:\n",
    "            dist = (v - j_props[k])\n",
    "            dimension_dist += (dist ** 2.0)\n",
    "            \n",
    "    comp_value = ranking_i + ranking_j + 2 * lam * np.sqrt(dimension_dist)\n",
    "    print(\"dimension_dist = \" + str(dimension_dist))\n",
    "    print(\"comp_value = \" + str(comp_value))\n",
    "    return comp_value\n",
    "    "
   ]
  },
  {
   "cell_type": "code",
   "execution_count": 74,
   "id": "cac193c7-f3c1-436e-a1b7-d6ae99d75f3f",
   "metadata": {
    "tags": []
   },
   "outputs": [],
   "source": [
    "# Need to add arbitrary vertex\n",
    "def max_sum_divergence_approx(sim_graph, phy_count):\n",
    "    Phy = nx.Graph() \n",
    "    lim = int(np.floor(phy_count/2))\n",
    "    for i in range(0,lim):\n",
    "        mu, mv, weight = find_max_weight_edge(sim_graph)\n",
    "        if (mu != mv):\n",
    "            print(\"Max weight: \" + str(mu) + \"->\" + str(mv) + \",weight=\" + str(weight))\n",
    "            Phy.add_node(mu)\n",
    "            Phy.add_node(mv)\n",
    "            Phy.add_edge(mu,mv)\n",
    "            Phy.edges[mu,mv][\"weight\"] = sim_graph.edges[mu,mv][\"weight\"]\n",
    "            print(\"Number of edges in Phy=\" + str(Phy.number_of_edges()))\n",
    "            # remove other connected edges from mu and mv in the s\\im_graph\n",
    "            delete_edges_from(sim_graph, mu)\n",
    "            delete_edges_from(sim_graph, mv)\n",
    "            # check further\n",
    "        \n",
    "    # If phy_count is odd, add a random vertex\n",
    "    # for now, only use an even phy_count\n",
    "    return Phy"
   ]
  },
  {
   "cell_type": "code",
   "execution_count": 75,
   "id": "7fe01e35-6417-4c6b-bb96-b21992e1e8c9",
   "metadata": {
    "tags": []
   },
   "outputs": [],
   "source": [
    "def gen_node_props(metrics_count, dim_count, metric_max, dim_max):\n",
    "    nodeprops = {}\n",
    "    metrics = []\n",
    "    \n",
    "    for di in range(0, dim_count):\n",
    "        rand_dim = np.random.uniform(low=0, high=dim_max)\n",
    "        nodeprops[\"d\" + str(di)] = rand_dim\n",
    "        \n",
    "    # Generate the metrics\n",
    "    for mi in range(0,metrics_count):\n",
    "        rand_metric = np.random.uniform(low=0, high=metric_max)\n",
    "        metrics.append(rand_metric)\n",
    "        nodeprops[\"m\" + str(mi)] = rand_metric\n",
    "    return nodeprops"
   ]
  },
  {
   "cell_type": "code",
   "execution_count": 76,
   "id": "f2764ab6-cf98-415a-b1a2-62f8c56ceb55",
   "metadata": {},
   "outputs": [],
   "source": [
    "def create_random_sim_graph(node_count, metric_count, metric_max, dim_count, dim_max):\n",
    "    Sim = nx.Graph();\n",
    "    for i in range(0,node_count):\n",
    "        Sim.add_nodes_from([(i, gen_node_props(metric_count, dim_count, metric_max, dim_max))])\n",
    "    # add connections from all nodes, depending on their distance \n",
    "    for i in range(0, node_count):\n",
    "        for j in range(0, node_count):\n",
    "            if (i != j):\n",
    "                Sim.add_edge(i,j)\n",
    "                #weight = calc_compdist_from(Sim, i, j, lam)\n",
    "                #Sim.edges[i,j][\"weight\"] = weight\n",
    "                #print(\"Adding edge from \" + str(i) + \"->\" + str(j) + \", weight = \" + str(Sim.edges[i,j][\"weight\"]))\n",
    "                #print(Sim.edges[i, j])\n",
    "    print(\"Edges: = \" + str(Sim.number_of_edges()))\n",
    "    return Sim"
   ]
  },
  {
   "cell_type": "code",
   "execution_count": 77,
   "id": "1e4403b2-9cbe-4590-889a-326a2949b092",
   "metadata": {
    "tags": []
   },
   "outputs": [
    {
     "name": "stdout",
     "output_type": "stream",
     "text": [
      "Edges: = 15\n"
     ]
    },
    {
     "data": {
      "text/plain": [
       "<networkx.classes.graph.Graph at 0x7fc4ec2b9db0>"
      ]
     },
     "execution_count": 77,
     "metadata": {},
     "output_type": "execute_result"
    }
   ],
   "source": [
    "max_dimension = 1 / np.sqrt(3)\n",
    "sim = create_random_sim_graph(6, 2, 10.0, 3, max_dimension)\n",
    "#phy = max_sum_divergence_approx(sim, 10)\n",
    "#phy\n",
    "sim"
   ]
  },
  {
   "cell_type": "code",
   "execution_count": 78,
   "id": "996e17a0-a5e9-43aa-b2b4-dd1e425ce7db",
   "metadata": {
    "tags": []
   },
   "outputs": [],
   "source": [
    "def ranking_func(graph,node_id):\n",
    "    return node_id / len(graph.nodes())"
   ]
  },
  {
   "cell_type": "code",
   "execution_count": 111,
   "id": "7fe3e92f-425f-4c37-af90-15a21ce09665",
   "metadata": {},
   "outputs": [],
   "source": [
    "def dist_func(graph, ni, nj):\n",
    "    i_props = graph.nodes[ni]\n",
    "    j_props = graph.nodes[nj]\n",
    "    dimension_dist = 0.0\n",
    "    for k,v in i_props.items():\n",
    "    # Dimension values only\n",
    "        if \"d\" in k:\n",
    "            dist = (v - j_props[k])\n",
    "            dimension_dist += (dist ** 2.0)\n",
    "    return np.sqrt(dimension_dist)"
   ]
  },
  {
   "cell_type": "code",
   "execution_count": 113,
   "id": "cb7cfd67-e0e5-4520-bd7a-8a2a6304e776",
   "metadata": {
    "tags": []
   },
   "outputs": [],
   "source": [
    "def calc_subset_value_function(graph, subset_inds, lam):\n",
    "    k = len(subset_inds)\n",
    "    weight_sum = 0\n",
    "    for ni in subset_inds:\n",
    "    # ranking_func is w in the equation\n",
    "        weight_sum += ranking_func(graph, ni)\n",
    "    \n",
    "    # Are we double counting the distance here?\n",
    "    dist_sum = 0\n",
    "    for ni in subset_inds:\n",
    "        for nj in subset_inds:\n",
    "            dist_sum += dist_func(graph, ni,nj)\n",
    "    total = (k-1)*weight_sum + 2*lam*dist_sum  \n",
    "    return total"
   ]
  },
  {
   "cell_type": "code",
   "execution_count": 91,
   "id": "932f29c1-2566-4ce3-b013-f10eb03f7299",
   "metadata": {},
   "outputs": [],
   "source": [
    "all_subsets = list(powerset(sim.nodes()))"
   ]
  },
  {
   "cell_type": "code",
   "execution_count": 82,
   "id": "15442905-4de3-4cd1-8fa2-7c4b75ac1b75",
   "metadata": {
    "tags": []
   },
   "outputs": [],
   "source": [
    "def subset_value(graph, subset, lam):\n",
    "    value = calc_subset_value_function(graph, subset, lam)\n",
    "    return (subset, value)"
   ]
  },
  {
   "cell_type": "code",
   "execution_count": 83,
   "id": "c7700061-8dfd-4780-a2a4-1ef9c9a8d410",
   "metadata": {
    "tags": []
   },
   "outputs": [],
   "source": [
    "FIXED_SUBSET_COUNT = 5"
   ]
  },
  {
   "cell_type": "code",
   "execution_count": 84,
   "id": "d5af5379-8078-4c39-a5fc-67845d75dba4",
   "metadata": {
    "tags": []
   },
   "outputs": [],
   "source": [
    "def subset_cost(subset):\n",
    "    return len(subset)"
   ]
  },
  {
   "cell_type": "code",
   "execution_count": 85,
   "id": "ff9f8ef3-0b42-43f5-8045-ad3d224aeaba",
   "metadata": {
    "tags": []
   },
   "outputs": [],
   "source": [
    "def meets_cost_constraint(subset):\n",
    "    return (subset_cost(subset) < FIXED_SUBSET_COUNT)"
   ]
  },
  {
   "cell_type": "code",
   "execution_count": 115,
   "id": "3f109760-e3eb-4243-829e-5f8eb8e86452",
   "metadata": {},
   "outputs": [],
   "source": [
    "def subsets_viable_sorted_by_cost(simgraph, lam):\n",
    "    all_subsets = list(powerset(simgraph.nodes()))\n",
    "    viable_subsets = filter(meets_cost_constraint, all_subsets)\n",
    "    subset_info = map(lambda subset: subset_value(simgraph, subset, lam), viable_subsets)\n",
    "    return sorted(subset_info, key=lambda info: info[1], reverse=True)"
   ]
  },
  {
   "cell_type": "code",
   "execution_count": 119,
   "id": "f40ce146-5f64-424e-a986-ed444d77e6e0",
   "metadata": {
    "tags": []
   },
   "outputs": [
    {
     "data": {
      "text/plain": [
       "[((0, 2, 4, 5), 14.417205844520774),\n",
       " ((0, 2, 3, 4), 13.96153103309453),\n",
       " ((0, 2, 3, 5), 13.632665978150719),\n",
       " ((2, 3, 4, 5), 13.118946280121033),\n",
       " ((0, 1, 2, 4), 12.66426034443312),\n",
       " ((0, 3, 4, 5), 12.55136455520724),\n",
       " ((0, 1, 2, 5), 12.49607353390177),\n",
       " ((0, 1, 2, 3), 11.982061954506147),\n",
       " ((0, 1, 4, 5), 11.687244638719172),\n",
       " ((0, 1, 3, 4), 11.341239450167063),\n",
       " ((1, 2, 3, 4), 11.213732418448602),\n",
       " ((1, 2, 4, 5), 11.11990609591193),\n",
       " ((0, 1, 3, 5), 11.055504622327977),\n",
       " ((1, 2, 3, 5), 10.845208358995553),\n",
       " ((1, 3, 4, 5), 10.277922330310131),\n",
       " ((0, 2, 4), 7.694065345440879),\n",
       " ((0, 2, 5), 7.5807837308881485),\n",
       " ((0, 2, 3), 7.018385759012048),\n",
       " ((2, 3, 4), 6.881602846289788),\n",
       " ((2, 4, 5), 6.836162916233592),\n",
       " ((0, 4, 5), 6.723399696478932),\n",
       " ((2, 3, 5), 6.56798398281536),\n",
       " ((0, 1, 2), 6.3501970373042),\n",
       " ((0, 3, 4), 6.329008115446344),\n",
       " ((0, 3, 5), 6.09817848358588),\n",
       " ((3, 4, 5), 5.952142814903323),\n",
       " ((0, 1, 4), 5.933291921499379),\n",
       " ((0, 1, 5), 5.8631405340513725),\n",
       " ((0, 1, 3), 5.410412185049408),\n",
       " ((1, 2, 4), 5.350966384621786),\n",
       " ((1, 2, 5), 5.198025765559818),\n",
       " ((1, 2, 3), 5.185128927646637),\n",
       " ((1, 3, 4), 5.009766678338992),\n",
       " ((1, 4, 5), 4.854657125408661),\n",
       " ((1, 3, 5), 4.73927804196929),\n",
       " ((0, 2), 2.842403209939816),\n",
       " ((2, 4), 2.474719180592687),\n",
       " ((0, 4), 2.3769429549083756),\n",
       " ((2, 5), 2.3766837575093405),\n",
       " ((0, 5), 2.361696763438992),\n",
       " ((2, 3), 2.315400527115682),\n",
       " ((0, 1), 2.0939477949631438),\n",
       " ((3, 4), 2.091483138581419),\n",
       " ((4, 5), 1.984759978131565),\n",
       " ((3, 5), 1.8758996981903389),\n",
       " ((0, 3), 1.8605820219565494),\n",
       " ((1, 4), 1.4624011716278589),\n",
       " ((1, 3), 1.4558823681297142),\n",
       " ((1, 2), 1.4138460324012403),\n",
       " ((1, 5), 1.407495975649237),\n",
       " ((), 0.0),\n",
       " ((0,), 0.0),\n",
       " ((1,), 0.0),\n",
       " ((2,), 0.0),\n",
       " ((3,), 0.0),\n",
       " ((4,), 0.0),\n",
       " ((5,), 0.0)]"
      ]
     },
     "execution_count": 119,
     "metadata": {},
     "output_type": "execute_result"
    }
   ],
   "source": [
    "res = subsets_viable_sorted_by_cost(sim, 1.0)\n",
    "list(res)"
   ]
  },
  {
   "cell_type": "code",
   "execution_count": 121,
   "id": "98945929-2f76-4e3c-83e5-146ccd822090",
   "metadata": {
    "tags": []
   },
   "outputs": [],
   "source": [
    "# Plot the surface and the graph between them"
   ]
  },
  {
   "cell_type": "code",
   "execution_count": 127,
   "id": "225c5f36-bc65-47b6-a529-c29a7735ccf1",
   "metadata": {
    "tags": []
   },
   "outputs": [
    {
     "ename": "NameError",
     "evalue": "name 'props' is not defined",
     "output_type": "error",
     "traceback": [
      "\u001b[0;31m---------------------------------------------------------------------------\u001b[0m",
      "\u001b[0;31mNameError\u001b[0m                                 Traceback (most recent call last)",
      "Cell \u001b[0;32mIn[127], line 1\u001b[0m\n\u001b[0;32m----> 1\u001b[0m np\u001b[38;5;241m.\u001b[39marray([props[v] \u001b[38;5;28;01mfor\u001b[39;00m v \u001b[38;5;129;01min\u001b[39;00m \u001b[38;5;28msorted\u001b[39m(sim)])\n",
      "Cell \u001b[0;32mIn[127], line 1\u001b[0m, in \u001b[0;36m<listcomp>\u001b[0;34m(.0)\u001b[0m\n\u001b[0;32m----> 1\u001b[0m np\u001b[38;5;241m.\u001b[39marray([\u001b[43mprops\u001b[49m[v] \u001b[38;5;28;01mfor\u001b[39;00m v \u001b[38;5;129;01min\u001b[39;00m \u001b[38;5;28msorted\u001b[39m(sim)])\n",
      "\u001b[0;31mNameError\u001b[0m: name 'props' is not defined"
     ]
    }
   ],
   "source": [
    " np.array([props[v] for v in sorted(sim)])"
   ]
  },
  {
   "cell_type": "code",
   "execution_count": null,
   "id": "877f7e02-01ed-4e6b-ac56-db2544cdafae",
   "metadata": {},
   "outputs": [],
   "source": [
    "import networkx as nx\n",
    "import numpy as np\n",
    "\n",
    "# The graph to visualize\n",
    "G = nx.cycle_graph(20)\n",
    "\n",
    "# 3d spring layout\n",
    "pos = nx.spring_layout(G, dim=3, seed=779)\n",
    "# Extract node and edge positions from the layout\n",
    "node_xyz = np.array([pos[v] for v in sorted(G)])\n",
    "edge_xyz = np.array([(pos[u], pos[v]) for u, v in G.edges()])\n",
    "\n",
    "# Create the 3D figure\n",
    "fig = plt.figure()\n",
    "ax = fig.add_subplot(111, projection=\"3d\")\n",
    "\n",
    "# Plot the nodes - alpha is scaled by \"depth\" automatically\n",
    "ax.scatter(*node_xyz.T, s=100, ec=\"w\")\n",
    "\n",
    "# Plot the edges\n",
    "for vizedge in edge_xyz:\n",
    "    ax.plot(*vizedge.T, color=\"tab:gray\")\n",
    "\n",
    "\n",
    "def _format_axes(ax):\n",
    "    \"\"\"Visualization options for the 3D axes.\"\"\"\n",
    "    # Turn gridlines off\n",
    "    ax.grid(False)\n",
    "    # Suppress tick labels\n",
    "    for dim in (ax.xaxis, ax.yaxis, ax.zaxis):\n",
    "        dim.set_ticks([])\n",
    "    # Set axes labels\n",
    "    ax.set_xlabel(\"x\")\n",
    "    ax.set_ylabel(\"y\")\n",
    "    ax.set_zlabel(\"z\")\n",
    "\n",
    "\n",
    "_format_axes(ax)\n",
    "fig.tight_layout()\n",
    "plt.show()\n"
   ]
  }
 ],
 "metadata": {
  "kernelspec": {
   "display_name": "Python 3 (ipykernel)",
   "language": "python",
   "name": "python3"
  },
  "language_info": {
   "codemirror_mode": {
    "name": "ipython",
    "version": 3
   },
   "file_extension": ".py",
   "mimetype": "text/x-python",
   "name": "python",
   "nbconvert_exporter": "python",
   "pygments_lexer": "ipython3",
   "version": "3.10.11"
  }
 },
 "nbformat": 4,
 "nbformat_minor": 5
}
